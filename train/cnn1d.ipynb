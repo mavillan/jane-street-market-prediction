{
  "nbformat": 4,
  "nbformat_minor": 0,
  "metadata": {
    "colab": {
      "name": "cnn1d.ipynb",
      "provenance": [],
      "collapsed_sections": [],
      "authorship_tag": "ABX9TyN+Nvh0+tP8TA0FTiJWHR6M",
      "include_colab_link": true
    },
    "kernelspec": {
      "name": "python3",
      "display_name": "Python 3"
    },
    "accelerator": "GPU",
    "widgets": {
      "application/vnd.jupyter.widget-state+json": {
        "928d80c7ab4c4be6a3728c909d83ff6d": {
          "model_module": "@jupyter-widgets/controls",
          "model_name": "HBoxModel",
          "state": {
            "_view_name": "HBoxView",
            "_dom_classes": [],
            "_model_name": "HBoxModel",
            "_view_module": "@jupyter-widgets/controls",
            "_model_module_version": "1.5.0",
            "_view_count": null,
            "_view_module_version": "1.5.0",
            "box_style": "",
            "layout": "IPY_MODEL_4a8bc117ce424012aa2c518dbe7a3bf9",
            "_model_module": "@jupyter-widgets/controls",
            "children": [
              "IPY_MODEL_4765aaaed6924a38a3c0f6e72727a789",
              "IPY_MODEL_09bfa82a80c743c48e217fe81ac3f149",
              "IPY_MODEL_337102859e4d47a8a89418315c78f8bb"
            ]
          }
        },
        "4a8bc117ce424012aa2c518dbe7a3bf9": {
          "model_module": "@jupyter-widgets/base",
          "model_name": "LayoutModel",
          "state": {
            "_view_name": "LayoutView",
            "grid_template_rows": null,
            "right": null,
            "justify_content": null,
            "_view_module": "@jupyter-widgets/base",
            "overflow": null,
            "_model_module_version": "1.2.0",
            "_view_count": null,
            "flex_flow": null,
            "width": null,
            "min_width": null,
            "border": null,
            "align_items": null,
            "bottom": null,
            "_model_module": "@jupyter-widgets/base",
            "top": null,
            "grid_column": null,
            "overflow_y": null,
            "overflow_x": null,
            "grid_auto_flow": null,
            "grid_area": null,
            "grid_template_columns": null,
            "flex": null,
            "_model_name": "LayoutModel",
            "justify_items": null,
            "grid_row": null,
            "max_height": null,
            "align_content": null,
            "visibility": null,
            "align_self": null,
            "height": null,
            "min_height": null,
            "padding": null,
            "grid_auto_rows": null,
            "grid_gap": null,
            "max_width": null,
            "order": null,
            "_view_module_version": "1.2.0",
            "grid_template_areas": null,
            "object_position": null,
            "object_fit": null,
            "grid_auto_columns": null,
            "margin": null,
            "display": null,
            "left": null
          }
        },
        "4765aaaed6924a38a3c0f6e72727a789": {
          "model_module": "@jupyter-widgets/controls",
          "model_name": "HTMLModel",
          "state": {
            "_view_name": "HTMLView",
            "style": "IPY_MODEL_7168f4f2576c45e59d8afe7ae83e37b6",
            "_dom_classes": [],
            "description": "",
            "_model_name": "HTMLModel",
            "placeholder": "​",
            "_view_module": "@jupyter-widgets/controls",
            "_model_module_version": "1.5.0",
            "value": "100%",
            "_view_count": null,
            "_view_module_version": "1.5.0",
            "description_tooltip": null,
            "_model_module": "@jupyter-widgets/controls",
            "layout": "IPY_MODEL_d97a1c1e49494a628999a10e9ebb01e2"
          }
        },
        "09bfa82a80c743c48e217fe81ac3f149": {
          "model_module": "@jupyter-widgets/controls",
          "model_name": "FloatProgressModel",
          "state": {
            "_view_name": "ProgressView",
            "style": "IPY_MODEL_d06cde25c08248dfbe49957f6d79b5e1",
            "_dom_classes": [],
            "description": "",
            "_model_name": "FloatProgressModel",
            "bar_style": "success",
            "max": 1304,
            "_view_module": "@jupyter-widgets/controls",
            "_model_module_version": "1.5.0",
            "value": 1304,
            "_view_count": null,
            "_view_module_version": "1.5.0",
            "orientation": "horizontal",
            "min": 0,
            "description_tooltip": null,
            "_model_module": "@jupyter-widgets/controls",
            "layout": "IPY_MODEL_dd65df71e5044203b723405d38fbbc72"
          }
        },
        "337102859e4d47a8a89418315c78f8bb": {
          "model_module": "@jupyter-widgets/controls",
          "model_name": "HTMLModel",
          "state": {
            "_view_name": "HTMLView",
            "style": "IPY_MODEL_b1a046cd4c46400a988472111a24b6f4",
            "_dom_classes": [],
            "description": "",
            "_model_name": "HTMLModel",
            "placeholder": "​",
            "_view_module": "@jupyter-widgets/controls",
            "_model_module_version": "1.5.0",
            "value": " 1304/1304 [00:58&lt;00:00, 21.46it/s]",
            "_view_count": null,
            "_view_module_version": "1.5.0",
            "description_tooltip": null,
            "_model_module": "@jupyter-widgets/controls",
            "layout": "IPY_MODEL_883b6a2dd3bf4075ba7fc1c656aa4422"
          }
        },
        "7168f4f2576c45e59d8afe7ae83e37b6": {
          "model_module": "@jupyter-widgets/controls",
          "model_name": "DescriptionStyleModel",
          "state": {
            "_view_name": "StyleView",
            "_model_name": "DescriptionStyleModel",
            "description_width": "",
            "_view_module": "@jupyter-widgets/base",
            "_model_module_version": "1.5.0",
            "_view_count": null,
            "_view_module_version": "1.2.0",
            "_model_module": "@jupyter-widgets/controls"
          }
        },
        "d97a1c1e49494a628999a10e9ebb01e2": {
          "model_module": "@jupyter-widgets/base",
          "model_name": "LayoutModel",
          "state": {
            "_view_name": "LayoutView",
            "grid_template_rows": null,
            "right": null,
            "justify_content": null,
            "_view_module": "@jupyter-widgets/base",
            "overflow": null,
            "_model_module_version": "1.2.0",
            "_view_count": null,
            "flex_flow": null,
            "width": null,
            "min_width": null,
            "border": null,
            "align_items": null,
            "bottom": null,
            "_model_module": "@jupyter-widgets/base",
            "top": null,
            "grid_column": null,
            "overflow_y": null,
            "overflow_x": null,
            "grid_auto_flow": null,
            "grid_area": null,
            "grid_template_columns": null,
            "flex": null,
            "_model_name": "LayoutModel",
            "justify_items": null,
            "grid_row": null,
            "max_height": null,
            "align_content": null,
            "visibility": null,
            "align_self": null,
            "height": null,
            "min_height": null,
            "padding": null,
            "grid_auto_rows": null,
            "grid_gap": null,
            "max_width": null,
            "order": null,
            "_view_module_version": "1.2.0",
            "grid_template_areas": null,
            "object_position": null,
            "object_fit": null,
            "grid_auto_columns": null,
            "margin": null,
            "display": null,
            "left": null
          }
        },
        "d06cde25c08248dfbe49957f6d79b5e1": {
          "model_module": "@jupyter-widgets/controls",
          "model_name": "ProgressStyleModel",
          "state": {
            "_view_name": "StyleView",
            "_model_name": "ProgressStyleModel",
            "description_width": "",
            "_view_module": "@jupyter-widgets/base",
            "_model_module_version": "1.5.0",
            "_view_count": null,
            "_view_module_version": "1.2.0",
            "bar_color": null,
            "_model_module": "@jupyter-widgets/controls"
          }
        },
        "dd65df71e5044203b723405d38fbbc72": {
          "model_module": "@jupyter-widgets/base",
          "model_name": "LayoutModel",
          "state": {
            "_view_name": "LayoutView",
            "grid_template_rows": null,
            "right": null,
            "justify_content": null,
            "_view_module": "@jupyter-widgets/base",
            "overflow": null,
            "_model_module_version": "1.2.0",
            "_view_count": null,
            "flex_flow": null,
            "width": null,
            "min_width": null,
            "border": null,
            "align_items": null,
            "bottom": null,
            "_model_module": "@jupyter-widgets/base",
            "top": null,
            "grid_column": null,
            "overflow_y": null,
            "overflow_x": null,
            "grid_auto_flow": null,
            "grid_area": null,
            "grid_template_columns": null,
            "flex": null,
            "_model_name": "LayoutModel",
            "justify_items": null,
            "grid_row": null,
            "max_height": null,
            "align_content": null,
            "visibility": null,
            "align_self": null,
            "height": null,
            "min_height": null,
            "padding": null,
            "grid_auto_rows": null,
            "grid_gap": null,
            "max_width": null,
            "order": null,
            "_view_module_version": "1.2.0",
            "grid_template_areas": null,
            "object_position": null,
            "object_fit": null,
            "grid_auto_columns": null,
            "margin": null,
            "display": null,
            "left": null
          }
        },
        "b1a046cd4c46400a988472111a24b6f4": {
          "model_module": "@jupyter-widgets/controls",
          "model_name": "DescriptionStyleModel",
          "state": {
            "_view_name": "StyleView",
            "_model_name": "DescriptionStyleModel",
            "description_width": "",
            "_view_module": "@jupyter-widgets/base",
            "_model_module_version": "1.5.0",
            "_view_count": null,
            "_view_module_version": "1.2.0",
            "_model_module": "@jupyter-widgets/controls"
          }
        },
        "883b6a2dd3bf4075ba7fc1c656aa4422": {
          "model_module": "@jupyter-widgets/base",
          "model_name": "LayoutModel",
          "state": {
            "_view_name": "LayoutView",
            "grid_template_rows": null,
            "right": null,
            "justify_content": null,
            "_view_module": "@jupyter-widgets/base",
            "overflow": null,
            "_model_module_version": "1.2.0",
            "_view_count": null,
            "flex_flow": null,
            "width": null,
            "min_width": null,
            "border": null,
            "align_items": null,
            "bottom": null,
            "_model_module": "@jupyter-widgets/base",
            "top": null,
            "grid_column": null,
            "overflow_y": null,
            "overflow_x": null,
            "grid_auto_flow": null,
            "grid_area": null,
            "grid_template_columns": null,
            "flex": null,
            "_model_name": "LayoutModel",
            "justify_items": null,
            "grid_row": null,
            "max_height": null,
            "align_content": null,
            "visibility": null,
            "align_self": null,
            "height": null,
            "min_height": null,
            "padding": null,
            "grid_auto_rows": null,
            "grid_gap": null,
            "max_width": null,
            "order": null,
            "_view_module_version": "1.2.0",
            "grid_template_areas": null,
            "object_position": null,
            "object_fit": null,
            "grid_auto_columns": null,
            "margin": null,
            "display": null,
            "left": null
          }
        },
        "036bd67855e34a6e9ade272d7d6900d7": {
          "model_module": "@jupyter-widgets/controls",
          "model_name": "HBoxModel",
          "state": {
            "_view_name": "HBoxView",
            "_dom_classes": [],
            "_model_name": "HBoxModel",
            "_view_module": "@jupyter-widgets/controls",
            "_model_module_version": "1.5.0",
            "_view_count": null,
            "_view_module_version": "1.5.0",
            "box_style": "",
            "layout": "IPY_MODEL_ae06f1fe35a942c79f05a5c3bea4e6c0",
            "_model_module": "@jupyter-widgets/controls",
            "children": [
              "IPY_MODEL_7dd6a40ca90e4dd0b4139b8b89c8bf56",
              "IPY_MODEL_e49f2712ce1a4b7985a51106bf445ced",
              "IPY_MODEL_983e741f161e46aab6652363df2e1b93"
            ]
          }
        },
        "ae06f1fe35a942c79f05a5c3bea4e6c0": {
          "model_module": "@jupyter-widgets/base",
          "model_name": "LayoutModel",
          "state": {
            "_view_name": "LayoutView",
            "grid_template_rows": null,
            "right": null,
            "justify_content": null,
            "_view_module": "@jupyter-widgets/base",
            "overflow": null,
            "_model_module_version": "1.2.0",
            "_view_count": null,
            "flex_flow": null,
            "width": null,
            "min_width": null,
            "border": null,
            "align_items": null,
            "bottom": null,
            "_model_module": "@jupyter-widgets/base",
            "top": null,
            "grid_column": null,
            "overflow_y": null,
            "overflow_x": null,
            "grid_auto_flow": null,
            "grid_area": null,
            "grid_template_columns": null,
            "flex": null,
            "_model_name": "LayoutModel",
            "justify_items": null,
            "grid_row": null,
            "max_height": null,
            "align_content": null,
            "visibility": null,
            "align_self": null,
            "height": null,
            "min_height": null,
            "padding": null,
            "grid_auto_rows": null,
            "grid_gap": null,
            "max_width": null,
            "order": null,
            "_view_module_version": "1.2.0",
            "grid_template_areas": null,
            "object_position": null,
            "object_fit": null,
            "grid_auto_columns": null,
            "margin": null,
            "display": null,
            "left": null
          }
        },
        "7dd6a40ca90e4dd0b4139b8b89c8bf56": {
          "model_module": "@jupyter-widgets/controls",
          "model_name": "HTMLModel",
          "state": {
            "_view_name": "HTMLView",
            "style": "IPY_MODEL_7c9c020dd54f4cb08be0382a699dcf06",
            "_dom_classes": [],
            "description": "",
            "_model_name": "HTMLModel",
            "placeholder": "​",
            "_view_module": "@jupyter-widgets/controls",
            "_model_module_version": "1.5.0",
            "value": "100%",
            "_view_count": null,
            "_view_module_version": "1.5.0",
            "description_tooltip": null,
            "_model_module": "@jupyter-widgets/controls",
            "layout": "IPY_MODEL_98fa0437d7a0450c8aaa6d4ca1bee27f"
          }
        },
        "e49f2712ce1a4b7985a51106bf445ced": {
          "model_module": "@jupyter-widgets/controls",
          "model_name": "FloatProgressModel",
          "state": {
            "_view_name": "ProgressView",
            "style": "IPY_MODEL_6657fe0fdcc548e9bedfbfaac39c5a06",
            "_dom_classes": [],
            "description": "",
            "_model_name": "FloatProgressModel",
            "bar_style": "success",
            "max": 1304,
            "_view_module": "@jupyter-widgets/controls",
            "_model_module_version": "1.5.0",
            "value": 1304,
            "_view_count": null,
            "_view_module_version": "1.5.0",
            "orientation": "horizontal",
            "min": 0,
            "description_tooltip": null,
            "_model_module": "@jupyter-widgets/controls",
            "layout": "IPY_MODEL_b2348a5ed9ab4174a7ff3509bd4352b9"
          }
        },
        "983e741f161e46aab6652363df2e1b93": {
          "model_module": "@jupyter-widgets/controls",
          "model_name": "HTMLModel",
          "state": {
            "_view_name": "HTMLView",
            "style": "IPY_MODEL_9a2d9d61c2884427b645f74baff456b4",
            "_dom_classes": [],
            "description": "",
            "_model_name": "HTMLModel",
            "placeholder": "​",
            "_view_module": "@jupyter-widgets/controls",
            "_model_module_version": "1.5.0",
            "value": " 1304/1304 [00:59&lt;00:00, 22.89it/s]",
            "_view_count": null,
            "_view_module_version": "1.5.0",
            "description_tooltip": null,
            "_model_module": "@jupyter-widgets/controls",
            "layout": "IPY_MODEL_49662bd83b6943c9b3c235e99ba7867f"
          }
        },
        "7c9c020dd54f4cb08be0382a699dcf06": {
          "model_module": "@jupyter-widgets/controls",
          "model_name": "DescriptionStyleModel",
          "state": {
            "_view_name": "StyleView",
            "_model_name": "DescriptionStyleModel",
            "description_width": "",
            "_view_module": "@jupyter-widgets/base",
            "_model_module_version": "1.5.0",
            "_view_count": null,
            "_view_module_version": "1.2.0",
            "_model_module": "@jupyter-widgets/controls"
          }
        },
        "98fa0437d7a0450c8aaa6d4ca1bee27f": {
          "model_module": "@jupyter-widgets/base",
          "model_name": "LayoutModel",
          "state": {
            "_view_name": "LayoutView",
            "grid_template_rows": null,
            "right": null,
            "justify_content": null,
            "_view_module": "@jupyter-widgets/base",
            "overflow": null,
            "_model_module_version": "1.2.0",
            "_view_count": null,
            "flex_flow": null,
            "width": null,
            "min_width": null,
            "border": null,
            "align_items": null,
            "bottom": null,
            "_model_module": "@jupyter-widgets/base",
            "top": null,
            "grid_column": null,
            "overflow_y": null,
            "overflow_x": null,
            "grid_auto_flow": null,
            "grid_area": null,
            "grid_template_columns": null,
            "flex": null,
            "_model_name": "LayoutModel",
            "justify_items": null,
            "grid_row": null,
            "max_height": null,
            "align_content": null,
            "visibility": null,
            "align_self": null,
            "height": null,
            "min_height": null,
            "padding": null,
            "grid_auto_rows": null,
            "grid_gap": null,
            "max_width": null,
            "order": null,
            "_view_module_version": "1.2.0",
            "grid_template_areas": null,
            "object_position": null,
            "object_fit": null,
            "grid_auto_columns": null,
            "margin": null,
            "display": null,
            "left": null
          }
        },
        "6657fe0fdcc548e9bedfbfaac39c5a06": {
          "model_module": "@jupyter-widgets/controls",
          "model_name": "ProgressStyleModel",
          "state": {
            "_view_name": "StyleView",
            "_model_name": "ProgressStyleModel",
            "description_width": "",
            "_view_module": "@jupyter-widgets/base",
            "_model_module_version": "1.5.0",
            "_view_count": null,
            "_view_module_version": "1.2.0",
            "bar_color": null,
            "_model_module": "@jupyter-widgets/controls"
          }
        },
        "b2348a5ed9ab4174a7ff3509bd4352b9": {
          "model_module": "@jupyter-widgets/base",
          "model_name": "LayoutModel",
          "state": {
            "_view_name": "LayoutView",
            "grid_template_rows": null,
            "right": null,
            "justify_content": null,
            "_view_module": "@jupyter-widgets/base",
            "overflow": null,
            "_model_module_version": "1.2.0",
            "_view_count": null,
            "flex_flow": null,
            "width": null,
            "min_width": null,
            "border": null,
            "align_items": null,
            "bottom": null,
            "_model_module": "@jupyter-widgets/base",
            "top": null,
            "grid_column": null,
            "overflow_y": null,
            "overflow_x": null,
            "grid_auto_flow": null,
            "grid_area": null,
            "grid_template_columns": null,
            "flex": null,
            "_model_name": "LayoutModel",
            "justify_items": null,
            "grid_row": null,
            "max_height": null,
            "align_content": null,
            "visibility": null,
            "align_self": null,
            "height": null,
            "min_height": null,
            "padding": null,
            "grid_auto_rows": null,
            "grid_gap": null,
            "max_width": null,
            "order": null,
            "_view_module_version": "1.2.0",
            "grid_template_areas": null,
            "object_position": null,
            "object_fit": null,
            "grid_auto_columns": null,
            "margin": null,
            "display": null,
            "left": null
          }
        },
        "9a2d9d61c2884427b645f74baff456b4": {
          "model_module": "@jupyter-widgets/controls",
          "model_name": "DescriptionStyleModel",
          "state": {
            "_view_name": "StyleView",
            "_model_name": "DescriptionStyleModel",
            "description_width": "",
            "_view_module": "@jupyter-widgets/base",
            "_model_module_version": "1.5.0",
            "_view_count": null,
            "_view_module_version": "1.2.0",
            "_model_module": "@jupyter-widgets/controls"
          }
        },
        "49662bd83b6943c9b3c235e99ba7867f": {
          "model_module": "@jupyter-widgets/base",
          "model_name": "LayoutModel",
          "state": {
            "_view_name": "LayoutView",
            "grid_template_rows": null,
            "right": null,
            "justify_content": null,
            "_view_module": "@jupyter-widgets/base",
            "overflow": null,
            "_model_module_version": "1.2.0",
            "_view_count": null,
            "flex_flow": null,
            "width": null,
            "min_width": null,
            "border": null,
            "align_items": null,
            "bottom": null,
            "_model_module": "@jupyter-widgets/base",
            "top": null,
            "grid_column": null,
            "overflow_y": null,
            "overflow_x": null,
            "grid_auto_flow": null,
            "grid_area": null,
            "grid_template_columns": null,
            "flex": null,
            "_model_name": "LayoutModel",
            "justify_items": null,
            "grid_row": null,
            "max_height": null,
            "align_content": null,
            "visibility": null,
            "align_self": null,
            "height": null,
            "min_height": null,
            "padding": null,
            "grid_auto_rows": null,
            "grid_gap": null,
            "max_width": null,
            "order": null,
            "_view_module_version": "1.2.0",
            "grid_template_areas": null,
            "object_position": null,
            "object_fit": null,
            "grid_auto_columns": null,
            "margin": null,
            "display": null,
            "left": null
          }
        },
        "8d3530934643499f8eee0432b9c7ebd7": {
          "model_module": "@jupyter-widgets/controls",
          "model_name": "HBoxModel",
          "state": {
            "_view_name": "HBoxView",
            "_dom_classes": [],
            "_model_name": "HBoxModel",
            "_view_module": "@jupyter-widgets/controls",
            "_model_module_version": "1.5.0",
            "_view_count": null,
            "_view_module_version": "1.5.0",
            "box_style": "",
            "layout": "IPY_MODEL_f3534820e327444292bd2013205be9c1",
            "_model_module": "@jupyter-widgets/controls",
            "children": [
              "IPY_MODEL_345a1b8cf7624c329041571857221dfa",
              "IPY_MODEL_d70f46606f1640d288d3bae48b93a08b",
              "IPY_MODEL_9637dd7888fd48aea4b5f01c2c07323e"
            ]
          }
        },
        "f3534820e327444292bd2013205be9c1": {
          "model_module": "@jupyter-widgets/base",
          "model_name": "LayoutModel",
          "state": {
            "_view_name": "LayoutView",
            "grid_template_rows": null,
            "right": null,
            "justify_content": null,
            "_view_module": "@jupyter-widgets/base",
            "overflow": null,
            "_model_module_version": "1.2.0",
            "_view_count": null,
            "flex_flow": null,
            "width": null,
            "min_width": null,
            "border": null,
            "align_items": null,
            "bottom": null,
            "_model_module": "@jupyter-widgets/base",
            "top": null,
            "grid_column": null,
            "overflow_y": null,
            "overflow_x": null,
            "grid_auto_flow": null,
            "grid_area": null,
            "grid_template_columns": null,
            "flex": null,
            "_model_name": "LayoutModel",
            "justify_items": null,
            "grid_row": null,
            "max_height": null,
            "align_content": null,
            "visibility": null,
            "align_self": null,
            "height": null,
            "min_height": null,
            "padding": null,
            "grid_auto_rows": null,
            "grid_gap": null,
            "max_width": null,
            "order": null,
            "_view_module_version": "1.2.0",
            "grid_template_areas": null,
            "object_position": null,
            "object_fit": null,
            "grid_auto_columns": null,
            "margin": null,
            "display": null,
            "left": null
          }
        },
        "345a1b8cf7624c329041571857221dfa": {
          "model_module": "@jupyter-widgets/controls",
          "model_name": "HTMLModel",
          "state": {
            "_view_name": "HTMLView",
            "style": "IPY_MODEL_ae00e3e1562940d3b6f7aee57d11f954",
            "_dom_classes": [],
            "description": "",
            "_model_name": "HTMLModel",
            "placeholder": "​",
            "_view_module": "@jupyter-widgets/controls",
            "_model_module_version": "1.5.0",
            "value": "cnn1d:  72%",
            "_view_count": null,
            "_view_module_version": "1.5.0",
            "description_tooltip": null,
            "_model_module": "@jupyter-widgets/controls",
            "layout": "IPY_MODEL_a801e04f4901463784c0559ecd8c4074"
          }
        },
        "d70f46606f1640d288d3bae48b93a08b": {
          "model_module": "@jupyter-widgets/controls",
          "model_name": "FloatProgressModel",
          "state": {
            "_view_name": "ProgressView",
            "style": "IPY_MODEL_01d8a9d37fb84e17bc69c8f6d664773c",
            "_dom_classes": [],
            "description": "",
            "_model_name": "FloatProgressModel",
            "bar_style": "danger",
            "max": 50,
            "_view_module": "@jupyter-widgets/controls",
            "_model_module_version": "1.5.0",
            "value": 36,
            "_view_count": null,
            "_view_module_version": "1.5.0",
            "orientation": "horizontal",
            "min": 0,
            "description_tooltip": null,
            "_model_module": "@jupyter-widgets/controls",
            "layout": "IPY_MODEL_c221be3bba48443d903c1f008a54d14d"
          }
        },
        "9637dd7888fd48aea4b5f01c2c07323e": {
          "model_module": "@jupyter-widgets/controls",
          "model_name": "HTMLModel",
          "state": {
            "_view_name": "HTMLView",
            "style": "IPY_MODEL_8dacf7a89b354a49aa4f60317f37c2d0",
            "_dom_classes": [],
            "description": "",
            "_model_name": "HTMLModel",
            "placeholder": "​",
            "_view_module": "@jupyter-widgets/controls",
            "_model_module_version": "1.5.0",
            "value": " 36/50 [22:48&lt;08:38, 37.02s/it, a_train_loss=0.682131, b_valid_loss=0.686465, c_best_loss=0.685974, d_train_metric=-13010.887753, e_valid_metric=-2277.654246, f_best_metric=-2246.175427, g_es_counter=9, h_last_lr=0.00272914]",
            "_view_count": null,
            "_view_module_version": "1.5.0",
            "description_tooltip": null,
            "_model_module": "@jupyter-widgets/controls",
            "layout": "IPY_MODEL_c0ae3a0a4f0142dfabd7a8ff465798e7"
          }
        },
        "ae00e3e1562940d3b6f7aee57d11f954": {
          "model_module": "@jupyter-widgets/controls",
          "model_name": "DescriptionStyleModel",
          "state": {
            "_view_name": "StyleView",
            "_model_name": "DescriptionStyleModel",
            "description_width": "",
            "_view_module": "@jupyter-widgets/base",
            "_model_module_version": "1.5.0",
            "_view_count": null,
            "_view_module_version": "1.2.0",
            "_model_module": "@jupyter-widgets/controls"
          }
        },
        "a801e04f4901463784c0559ecd8c4074": {
          "model_module": "@jupyter-widgets/base",
          "model_name": "LayoutModel",
          "state": {
            "_view_name": "LayoutView",
            "grid_template_rows": null,
            "right": null,
            "justify_content": null,
            "_view_module": "@jupyter-widgets/base",
            "overflow": null,
            "_model_module_version": "1.2.0",
            "_view_count": null,
            "flex_flow": null,
            "width": null,
            "min_width": null,
            "border": null,
            "align_items": null,
            "bottom": null,
            "_model_module": "@jupyter-widgets/base",
            "top": null,
            "grid_column": null,
            "overflow_y": null,
            "overflow_x": null,
            "grid_auto_flow": null,
            "grid_area": null,
            "grid_template_columns": null,
            "flex": null,
            "_model_name": "LayoutModel",
            "justify_items": null,
            "grid_row": null,
            "max_height": null,
            "align_content": null,
            "visibility": null,
            "align_self": null,
            "height": null,
            "min_height": null,
            "padding": null,
            "grid_auto_rows": null,
            "grid_gap": null,
            "max_width": null,
            "order": null,
            "_view_module_version": "1.2.0",
            "grid_template_areas": null,
            "object_position": null,
            "object_fit": null,
            "grid_auto_columns": null,
            "margin": null,
            "display": null,
            "left": null
          }
        },
        "01d8a9d37fb84e17bc69c8f6d664773c": {
          "model_module": "@jupyter-widgets/controls",
          "model_name": "ProgressStyleModel",
          "state": {
            "_view_name": "StyleView",
            "_model_name": "ProgressStyleModel",
            "description_width": "",
            "_view_module": "@jupyter-widgets/base",
            "_model_module_version": "1.5.0",
            "_view_count": null,
            "_view_module_version": "1.2.0",
            "bar_color": null,
            "_model_module": "@jupyter-widgets/controls"
          }
        },
        "c221be3bba48443d903c1f008a54d14d": {
          "model_module": "@jupyter-widgets/base",
          "model_name": "LayoutModel",
          "state": {
            "_view_name": "LayoutView",
            "grid_template_rows": null,
            "right": null,
            "justify_content": null,
            "_view_module": "@jupyter-widgets/base",
            "overflow": null,
            "_model_module_version": "1.2.0",
            "_view_count": null,
            "flex_flow": null,
            "width": null,
            "min_width": null,
            "border": null,
            "align_items": null,
            "bottom": null,
            "_model_module": "@jupyter-widgets/base",
            "top": null,
            "grid_column": null,
            "overflow_y": null,
            "overflow_x": null,
            "grid_auto_flow": null,
            "grid_area": null,
            "grid_template_columns": null,
            "flex": null,
            "_model_name": "LayoutModel",
            "justify_items": null,
            "grid_row": null,
            "max_height": null,
            "align_content": null,
            "visibility": null,
            "align_self": null,
            "height": null,
            "min_height": null,
            "padding": null,
            "grid_auto_rows": null,
            "grid_gap": null,
            "max_width": null,
            "order": null,
            "_view_module_version": "1.2.0",
            "grid_template_areas": null,
            "object_position": null,
            "object_fit": null,
            "grid_auto_columns": null,
            "margin": null,
            "display": null,
            "left": null
          }
        },
        "8dacf7a89b354a49aa4f60317f37c2d0": {
          "model_module": "@jupyter-widgets/controls",
          "model_name": "DescriptionStyleModel",
          "state": {
            "_view_name": "StyleView",
            "_model_name": "DescriptionStyleModel",
            "description_width": "",
            "_view_module": "@jupyter-widgets/base",
            "_model_module_version": "1.5.0",
            "_view_count": null,
            "_view_module_version": "1.2.0",
            "_model_module": "@jupyter-widgets/controls"
          }
        },
        "c0ae3a0a4f0142dfabd7a8ff465798e7": {
          "model_module": "@jupyter-widgets/base",
          "model_name": "LayoutModel",
          "state": {
            "_view_name": "LayoutView",
            "grid_template_rows": null,
            "right": null,
            "justify_content": null,
            "_view_module": "@jupyter-widgets/base",
            "overflow": null,
            "_model_module_version": "1.2.0",
            "_view_count": null,
            "flex_flow": null,
            "width": null,
            "min_width": null,
            "border": null,
            "align_items": null,
            "bottom": null,
            "_model_module": "@jupyter-widgets/base",
            "top": null,
            "grid_column": null,
            "overflow_y": null,
            "overflow_x": null,
            "grid_auto_flow": null,
            "grid_area": null,
            "grid_template_columns": null,
            "flex": null,
            "_model_name": "LayoutModel",
            "justify_items": null,
            "grid_row": null,
            "max_height": null,
            "align_content": null,
            "visibility": null,
            "align_self": null,
            "height": null,
            "min_height": null,
            "padding": null,
            "grid_auto_rows": null,
            "grid_gap": null,
            "max_width": null,
            "order": null,
            "_view_module_version": "1.2.0",
            "grid_template_areas": null,
            "object_position": null,
            "object_fit": null,
            "grid_auto_columns": null,
            "margin": null,
            "display": null,
            "left": null
          }
        },
        "9f7efa17719045af9fefce0a2e1b058d": {
          "model_module": "@jupyter-widgets/controls",
          "model_name": "HBoxModel",
          "state": {
            "_view_name": "HBoxView",
            "_dom_classes": [],
            "_model_name": "HBoxModel",
            "_view_module": "@jupyter-widgets/controls",
            "_model_module_version": "1.5.0",
            "_view_count": null,
            "_view_module_version": "1.5.0",
            "box_style": "",
            "layout": "IPY_MODEL_386eab6a7a194568bda3eee77a6f2467",
            "_model_module": "@jupyter-widgets/controls",
            "children": [
              "IPY_MODEL_09223c5715794561a786d4384b55d40e",
              "IPY_MODEL_41436b92807549b6b657c940fd273a76",
              "IPY_MODEL_7c389036e38c4e85ac4f11db586b0308"
            ]
          }
        },
        "386eab6a7a194568bda3eee77a6f2467": {
          "model_module": "@jupyter-widgets/base",
          "model_name": "LayoutModel",
          "state": {
            "_view_name": "LayoutView",
            "grid_template_rows": null,
            "right": null,
            "justify_content": null,
            "_view_module": "@jupyter-widgets/base",
            "overflow": null,
            "_model_module_version": "1.2.0",
            "_view_count": null,
            "flex_flow": null,
            "width": null,
            "min_width": null,
            "border": null,
            "align_items": null,
            "bottom": null,
            "_model_module": "@jupyter-widgets/base",
            "top": null,
            "grid_column": null,
            "overflow_y": null,
            "overflow_x": null,
            "grid_auto_flow": null,
            "grid_area": null,
            "grid_template_columns": null,
            "flex": null,
            "_model_name": "LayoutModel",
            "justify_items": null,
            "grid_row": null,
            "max_height": null,
            "align_content": null,
            "visibility": null,
            "align_self": null,
            "height": null,
            "min_height": null,
            "padding": null,
            "grid_auto_rows": null,
            "grid_gap": null,
            "max_width": null,
            "order": null,
            "_view_module_version": "1.2.0",
            "grid_template_areas": null,
            "object_position": null,
            "object_fit": null,
            "grid_auto_columns": null,
            "margin": null,
            "display": null,
            "left": null
          }
        },
        "09223c5715794561a786d4384b55d40e": {
          "model_module": "@jupyter-widgets/controls",
          "model_name": "HTMLModel",
          "state": {
            "_view_name": "HTMLView",
            "style": "IPY_MODEL_638a6056f9a14ea781ad1589e2497683",
            "_dom_classes": [],
            "description": "",
            "_model_name": "HTMLModel",
            "placeholder": "​",
            "_view_module": "@jupyter-widgets/controls",
            "_model_module_version": "1.5.0",
            "value": "100%",
            "_view_count": null,
            "_view_module_version": "1.5.0",
            "description_tooltip": null,
            "_model_module": "@jupyter-widgets/controls",
            "layout": "IPY_MODEL_fc3f001537a14224b3d1ce5b9102309c"
          }
        },
        "41436b92807549b6b657c940fd273a76": {
          "model_module": "@jupyter-widgets/controls",
          "model_name": "FloatProgressModel",
          "state": {
            "_view_name": "ProgressView",
            "style": "IPY_MODEL_34333fd868794235be0c312a3eb024ed",
            "_dom_classes": [],
            "description": "",
            "_model_name": "FloatProgressModel",
            "bar_style": "success",
            "max": 2608,
            "_view_module": "@jupyter-widgets/controls",
            "_model_module_version": "1.5.0",
            "value": 2608,
            "_view_count": null,
            "_view_module_version": "1.5.0",
            "orientation": "horizontal",
            "min": 0,
            "description_tooltip": null,
            "_model_module": "@jupyter-widgets/controls",
            "layout": "IPY_MODEL_b0e0dab0b1414462aa996f2355b92e61"
          }
        },
        "7c389036e38c4e85ac4f11db586b0308": {
          "model_module": "@jupyter-widgets/controls",
          "model_name": "HTMLModel",
          "state": {
            "_view_name": "HTMLView",
            "style": "IPY_MODEL_6da8a2dd8f854b75b3933c9374f5571d",
            "_dom_classes": [],
            "description": "",
            "_model_name": "HTMLModel",
            "placeholder": "​",
            "_view_module": "@jupyter-widgets/controls",
            "_model_module_version": "1.5.0",
            "value": " 2608/2608 [02:11&lt;00:00, 17.72it/s]",
            "_view_count": null,
            "_view_module_version": "1.5.0",
            "description_tooltip": null,
            "_model_module": "@jupyter-widgets/controls",
            "layout": "IPY_MODEL_e838a286049e4699b2b2d86c12a71335"
          }
        },
        "638a6056f9a14ea781ad1589e2497683": {
          "model_module": "@jupyter-widgets/controls",
          "model_name": "DescriptionStyleModel",
          "state": {
            "_view_name": "StyleView",
            "_model_name": "DescriptionStyleModel",
            "description_width": "",
            "_view_module": "@jupyter-widgets/base",
            "_model_module_version": "1.5.0",
            "_view_count": null,
            "_view_module_version": "1.2.0",
            "_model_module": "@jupyter-widgets/controls"
          }
        },
        "fc3f001537a14224b3d1ce5b9102309c": {
          "model_module": "@jupyter-widgets/base",
          "model_name": "LayoutModel",
          "state": {
            "_view_name": "LayoutView",
            "grid_template_rows": null,
            "right": null,
            "justify_content": null,
            "_view_module": "@jupyter-widgets/base",
            "overflow": null,
            "_model_module_version": "1.2.0",
            "_view_count": null,
            "flex_flow": null,
            "width": null,
            "min_width": null,
            "border": null,
            "align_items": null,
            "bottom": null,
            "_model_module": "@jupyter-widgets/base",
            "top": null,
            "grid_column": null,
            "overflow_y": null,
            "overflow_x": null,
            "grid_auto_flow": null,
            "grid_area": null,
            "grid_template_columns": null,
            "flex": null,
            "_model_name": "LayoutModel",
            "justify_items": null,
            "grid_row": null,
            "max_height": null,
            "align_content": null,
            "visibility": null,
            "align_self": null,
            "height": null,
            "min_height": null,
            "padding": null,
            "grid_auto_rows": null,
            "grid_gap": null,
            "max_width": null,
            "order": null,
            "_view_module_version": "1.2.0",
            "grid_template_areas": null,
            "object_position": null,
            "object_fit": null,
            "grid_auto_columns": null,
            "margin": null,
            "display": null,
            "left": null
          }
        },
        "34333fd868794235be0c312a3eb024ed": {
          "model_module": "@jupyter-widgets/controls",
          "model_name": "ProgressStyleModel",
          "state": {
            "_view_name": "StyleView",
            "_model_name": "ProgressStyleModel",
            "description_width": "",
            "_view_module": "@jupyter-widgets/base",
            "_model_module_version": "1.5.0",
            "_view_count": null,
            "_view_module_version": "1.2.0",
            "bar_color": null,
            "_model_module": "@jupyter-widgets/controls"
          }
        },
        "b0e0dab0b1414462aa996f2355b92e61": {
          "model_module": "@jupyter-widgets/base",
          "model_name": "LayoutModel",
          "state": {
            "_view_name": "LayoutView",
            "grid_template_rows": null,
            "right": null,
            "justify_content": null,
            "_view_module": "@jupyter-widgets/base",
            "overflow": null,
            "_model_module_version": "1.2.0",
            "_view_count": null,
            "flex_flow": null,
            "width": null,
            "min_width": null,
            "border": null,
            "align_items": null,
            "bottom": null,
            "_model_module": "@jupyter-widgets/base",
            "top": null,
            "grid_column": null,
            "overflow_y": null,
            "overflow_x": null,
            "grid_auto_flow": null,
            "grid_area": null,
            "grid_template_columns": null,
            "flex": null,
            "_model_name": "LayoutModel",
            "justify_items": null,
            "grid_row": null,
            "max_height": null,
            "align_content": null,
            "visibility": null,
            "align_self": null,
            "height": null,
            "min_height": null,
            "padding": null,
            "grid_auto_rows": null,
            "grid_gap": null,
            "max_width": null,
            "order": null,
            "_view_module_version": "1.2.0",
            "grid_template_areas": null,
            "object_position": null,
            "object_fit": null,
            "grid_auto_columns": null,
            "margin": null,
            "display": null,
            "left": null
          }
        },
        "6da8a2dd8f854b75b3933c9374f5571d": {
          "model_module": "@jupyter-widgets/controls",
          "model_name": "DescriptionStyleModel",
          "state": {
            "_view_name": "StyleView",
            "_model_name": "DescriptionStyleModel",
            "description_width": "",
            "_view_module": "@jupyter-widgets/base",
            "_model_module_version": "1.5.0",
            "_view_count": null,
            "_view_module_version": "1.2.0",
            "_model_module": "@jupyter-widgets/controls"
          }
        },
        "e838a286049e4699b2b2d86c12a71335": {
          "model_module": "@jupyter-widgets/base",
          "model_name": "LayoutModel",
          "state": {
            "_view_name": "LayoutView",
            "grid_template_rows": null,
            "right": null,
            "justify_content": null,
            "_view_module": "@jupyter-widgets/base",
            "overflow": null,
            "_model_module_version": "1.2.0",
            "_view_count": null,
            "flex_flow": null,
            "width": null,
            "min_width": null,
            "border": null,
            "align_items": null,
            "bottom": null,
            "_model_module": "@jupyter-widgets/base",
            "top": null,
            "grid_column": null,
            "overflow_y": null,
            "overflow_x": null,
            "grid_auto_flow": null,
            "grid_area": null,
            "grid_template_columns": null,
            "flex": null,
            "_model_name": "LayoutModel",
            "justify_items": null,
            "grid_row": null,
            "max_height": null,
            "align_content": null,
            "visibility": null,
            "align_self": null,
            "height": null,
            "min_height": null,
            "padding": null,
            "grid_auto_rows": null,
            "grid_gap": null,
            "max_width": null,
            "order": null,
            "_view_module_version": "1.2.0",
            "grid_template_areas": null,
            "object_position": null,
            "object_fit": null,
            "grid_auto_columns": null,
            "margin": null,
            "display": null,
            "left": null
          }
        },
        "9434cdc5738f48e5a141ce0ba557c4f8": {
          "model_module": "@jupyter-widgets/controls",
          "model_name": "HBoxModel",
          "state": {
            "_view_name": "HBoxView",
            "_dom_classes": [],
            "_model_name": "HBoxModel",
            "_view_module": "@jupyter-widgets/controls",
            "_model_module_version": "1.5.0",
            "_view_count": null,
            "_view_module_version": "1.5.0",
            "box_style": "",
            "layout": "IPY_MODEL_11e038ad16b046be9a60fa35df0a8e37",
            "_model_module": "@jupyter-widgets/controls",
            "children": [
              "IPY_MODEL_22c1a881356b477c9a1c240b453ed488",
              "IPY_MODEL_a6846a2747694a18936d17c42b31e34c",
              "IPY_MODEL_9f16bb69aaa44efab1896c708003a10c"
            ]
          }
        },
        "11e038ad16b046be9a60fa35df0a8e37": {
          "model_module": "@jupyter-widgets/base",
          "model_name": "LayoutModel",
          "state": {
            "_view_name": "LayoutView",
            "grid_template_rows": null,
            "right": null,
            "justify_content": null,
            "_view_module": "@jupyter-widgets/base",
            "overflow": null,
            "_model_module_version": "1.2.0",
            "_view_count": null,
            "flex_flow": null,
            "width": null,
            "min_width": null,
            "border": null,
            "align_items": null,
            "bottom": null,
            "_model_module": "@jupyter-widgets/base",
            "top": null,
            "grid_column": null,
            "overflow_y": null,
            "overflow_x": null,
            "grid_auto_flow": null,
            "grid_area": null,
            "grid_template_columns": null,
            "flex": null,
            "_model_name": "LayoutModel",
            "justify_items": null,
            "grid_row": null,
            "max_height": null,
            "align_content": null,
            "visibility": null,
            "align_self": null,
            "height": null,
            "min_height": null,
            "padding": null,
            "grid_auto_rows": null,
            "grid_gap": null,
            "max_width": null,
            "order": null,
            "_view_module_version": "1.2.0",
            "grid_template_areas": null,
            "object_position": null,
            "object_fit": null,
            "grid_auto_columns": null,
            "margin": null,
            "display": null,
            "left": null
          }
        },
        "22c1a881356b477c9a1c240b453ed488": {
          "model_module": "@jupyter-widgets/controls",
          "model_name": "HTMLModel",
          "state": {
            "_view_name": "HTMLView",
            "style": "IPY_MODEL_306482b12dcd404c9ecf04322f3d660a",
            "_dom_classes": [],
            "description": "",
            "_model_name": "HTMLModel",
            "placeholder": "​",
            "_view_module": "@jupyter-widgets/controls",
            "_model_module_version": "1.5.0",
            "value": "CNN1D: 100%",
            "_view_count": null,
            "_view_module_version": "1.5.0",
            "description_tooltip": null,
            "_model_module": "@jupyter-widgets/controls",
            "layout": "IPY_MODEL_d3609c5a251343b199362e2648d1a33f"
          }
        },
        "a6846a2747694a18936d17c42b31e34c": {
          "model_module": "@jupyter-widgets/controls",
          "model_name": "FloatProgressModel",
          "state": {
            "_view_name": "ProgressView",
            "style": "IPY_MODEL_99365bc948d5408f9678bb68e96c8bd6",
            "_dom_classes": [],
            "description": "",
            "_model_name": "FloatProgressModel",
            "bar_style": "success",
            "max": 15,
            "_view_module": "@jupyter-widgets/controls",
            "_model_module_version": "1.5.0",
            "value": 15,
            "_view_count": null,
            "_view_module_version": "1.5.0",
            "orientation": "horizontal",
            "min": 0,
            "description_tooltip": null,
            "_model_module": "@jupyter-widgets/controls",
            "layout": "IPY_MODEL_ea4f7bf02e854ee79840abc63ef3e123"
          }
        },
        "9f16bb69aaa44efab1896c708003a10c": {
          "model_module": "@jupyter-widgets/controls",
          "model_name": "HTMLModel",
          "state": {
            "_view_name": "HTMLView",
            "style": "IPY_MODEL_e98c25f3c8d8406794526027515ba7be",
            "_dom_classes": [],
            "description": "",
            "_model_name": "HTMLModel",
            "placeholder": "​",
            "_view_module": "@jupyter-widgets/controls",
            "_model_module_version": "1.5.0",
            "value": " 15/15 [10:36&lt;00:00, 42.14s/it, a_train_loss=0.680925, b_valid_loss=0.675029, c_best_loss=0.676365, d_train_metric=-15979.888612, e_valid_metric=-3783.872223, f_best_metric=-3737.462607, g_es_counter=1, h_last_lr=0.01000000]",
            "_view_count": null,
            "_view_module_version": "1.5.0",
            "description_tooltip": null,
            "_model_module": "@jupyter-widgets/controls",
            "layout": "IPY_MODEL_ddbbf5f8faa54b369a28cd6ff43de61f"
          }
        },
        "306482b12dcd404c9ecf04322f3d660a": {
          "model_module": "@jupyter-widgets/controls",
          "model_name": "DescriptionStyleModel",
          "state": {
            "_view_name": "StyleView",
            "_model_name": "DescriptionStyleModel",
            "description_width": "",
            "_view_module": "@jupyter-widgets/base",
            "_model_module_version": "1.5.0",
            "_view_count": null,
            "_view_module_version": "1.2.0",
            "_model_module": "@jupyter-widgets/controls"
          }
        },
        "d3609c5a251343b199362e2648d1a33f": {
          "model_module": "@jupyter-widgets/base",
          "model_name": "LayoutModel",
          "state": {
            "_view_name": "LayoutView",
            "grid_template_rows": null,
            "right": null,
            "justify_content": null,
            "_view_module": "@jupyter-widgets/base",
            "overflow": null,
            "_model_module_version": "1.2.0",
            "_view_count": null,
            "flex_flow": null,
            "width": null,
            "min_width": null,
            "border": null,
            "align_items": null,
            "bottom": null,
            "_model_module": "@jupyter-widgets/base",
            "top": null,
            "grid_column": null,
            "overflow_y": null,
            "overflow_x": null,
            "grid_auto_flow": null,
            "grid_area": null,
            "grid_template_columns": null,
            "flex": null,
            "_model_name": "LayoutModel",
            "justify_items": null,
            "grid_row": null,
            "max_height": null,
            "align_content": null,
            "visibility": null,
            "align_self": null,
            "height": null,
            "min_height": null,
            "padding": null,
            "grid_auto_rows": null,
            "grid_gap": null,
            "max_width": null,
            "order": null,
            "_view_module_version": "1.2.0",
            "grid_template_areas": null,
            "object_position": null,
            "object_fit": null,
            "grid_auto_columns": null,
            "margin": null,
            "display": null,
            "left": null
          }
        },
        "99365bc948d5408f9678bb68e96c8bd6": {
          "model_module": "@jupyter-widgets/controls",
          "model_name": "ProgressStyleModel",
          "state": {
            "_view_name": "StyleView",
            "_model_name": "ProgressStyleModel",
            "description_width": "",
            "_view_module": "@jupyter-widgets/base",
            "_model_module_version": "1.5.0",
            "_view_count": null,
            "_view_module_version": "1.2.0",
            "bar_color": null,
            "_model_module": "@jupyter-widgets/controls"
          }
        },
        "ea4f7bf02e854ee79840abc63ef3e123": {
          "model_module": "@jupyter-widgets/base",
          "model_name": "LayoutModel",
          "state": {
            "_view_name": "LayoutView",
            "grid_template_rows": null,
            "right": null,
            "justify_content": null,
            "_view_module": "@jupyter-widgets/base",
            "overflow": null,
            "_model_module_version": "1.2.0",
            "_view_count": null,
            "flex_flow": null,
            "width": null,
            "min_width": null,
            "border": null,
            "align_items": null,
            "bottom": null,
            "_model_module": "@jupyter-widgets/base",
            "top": null,
            "grid_column": null,
            "overflow_y": null,
            "overflow_x": null,
            "grid_auto_flow": null,
            "grid_area": null,
            "grid_template_columns": null,
            "flex": null,
            "_model_name": "LayoutModel",
            "justify_items": null,
            "grid_row": null,
            "max_height": null,
            "align_content": null,
            "visibility": null,
            "align_self": null,
            "height": null,
            "min_height": null,
            "padding": null,
            "grid_auto_rows": null,
            "grid_gap": null,
            "max_width": null,
            "order": null,
            "_view_module_version": "1.2.0",
            "grid_template_areas": null,
            "object_position": null,
            "object_fit": null,
            "grid_auto_columns": null,
            "margin": null,
            "display": null,
            "left": null
          }
        },
        "e98c25f3c8d8406794526027515ba7be": {
          "model_module": "@jupyter-widgets/controls",
          "model_name": "DescriptionStyleModel",
          "state": {
            "_view_name": "StyleView",
            "_model_name": "DescriptionStyleModel",
            "description_width": "",
            "_view_module": "@jupyter-widgets/base",
            "_model_module_version": "1.5.0",
            "_view_count": null,
            "_view_module_version": "1.2.0",
            "_model_module": "@jupyter-widgets/controls"
          }
        },
        "ddbbf5f8faa54b369a28cd6ff43de61f": {
          "model_module": "@jupyter-widgets/base",
          "model_name": "LayoutModel",
          "state": {
            "_view_name": "LayoutView",
            "grid_template_rows": null,
            "right": null,
            "justify_content": null,
            "_view_module": "@jupyter-widgets/base",
            "overflow": null,
            "_model_module_version": "1.2.0",
            "_view_count": null,
            "flex_flow": null,
            "width": null,
            "min_width": null,
            "border": null,
            "align_items": null,
            "bottom": null,
            "_model_module": "@jupyter-widgets/base",
            "top": null,
            "grid_column": null,
            "overflow_y": null,
            "overflow_x": null,
            "grid_auto_flow": null,
            "grid_area": null,
            "grid_template_columns": null,
            "flex": null,
            "_model_name": "LayoutModel",
            "justify_items": null,
            "grid_row": null,
            "max_height": null,
            "align_content": null,
            "visibility": null,
            "align_self": null,
            "height": null,
            "min_height": null,
            "padding": null,
            "grid_auto_rows": null,
            "grid_gap": null,
            "max_width": null,
            "order": null,
            "_view_module_version": "1.2.0",
            "grid_template_areas": null,
            "object_position": null,
            "object_fit": null,
            "grid_auto_columns": null,
            "margin": null,
            "display": null,
            "left": null
          }
        }
      }
    }
  },
  "cells": [
    {
      "cell_type": "markdown",
      "metadata": {
        "id": "view-in-github",
        "colab_type": "text"
      },
      "source": [
        "<a href=\"https://colab.research.google.com/github/mavillan/jane-street-market-prediction/blob/main/train/cnn1d.ipynb\" target=\"_parent\"><img src=\"https://colab.research.google.com/assets/colab-badge.svg\" alt=\"Open In Colab\"/></a>"
      ]
    },
    {
      "cell_type": "code",
      "metadata": {
        "colab": {
          "base_uri": "https://localhost:8080/"
        },
        "id": "vmc9zkm-GTeO",
        "outputId": "79f54dbb-e57e-423c-dab5-5ef09f9c0114"
      },
      "source": [
        "from google.colab import drive\n",
        "drive.mount('/content/drive', force_remount=True)"
      ],
      "execution_count": 1,
      "outputs": [
        {
          "output_type": "stream",
          "text": [
            "Mounted at /content/drive\n"
          ],
          "name": "stdout"
        }
      ]
    },
    {
      "cell_type": "code",
      "metadata": {
        "id": "VhY4Qe_7Gbtx"
      },
      "source": [
        "!pip install -Iv scikit-learn==0.23.2 > /dev/null 2>&1\n",
        "!pip install -Iv install torch-lr-finder > /dev/null 2>&1\n",
        "!pip install -Iv install torchsummary > /dev/null 2>&1"
      ],
      "execution_count": 2,
      "outputs": []
    },
    {
      "cell_type": "code",
      "metadata": {
        "colab": {
          "base_uri": "https://localhost:8080/"
        },
        "id": "SRWWCuQJGg4J",
        "outputId": "b332d926-5715-4fde-cc62-1e94a2d880dc"
      },
      "source": [
        "import copy\n",
        "import os\n",
        "import numpy as np \n",
        "import pandas as pd\n",
        "from pathlib import Path\n",
        "import pickle\n",
        "import matplotlib.pyplot as plt\n",
        "import seaborn as sns\n",
        "from collections import OrderedDict\n",
        "\n",
        "from sklearn.experimental import enable_iterative_imputer\n",
        "from sklearn.impute import IterativeImputer\n",
        "from sklearn.linear_model import BayesianRidge\n",
        "\n",
        "import torch\n",
        "import torch.nn as nn\n",
        "import torch.nn.functional as F\n",
        "from torch.utils.data import Dataset,TensorDataset,DataLoader\n",
        "from torch_lr_finder import LRFinder\n",
        "from torchsummary import summary\n",
        "\n",
        "# custom modules\n",
        "import sys\n",
        "sys.path.append(\"/content/drive/MyDrive/kaggle/janestreet\")\n",
        "from torch_utils import Monitor, train_step, valid_step\n",
        "\n",
        "def set_seed(seed):\n",
        "    np.random.seed(seed)\n",
        "    torch.manual_seed(seed)\n",
        "    torch.cuda.manual_seed(seed)\n",
        "    torch.cuda.manual_seed_all(seed)\n",
        "    torch.backends.cudnn.deterministic = True\n",
        "    \n",
        "set_seed(2)\n",
        "\n",
        "device = torch.device(\"cuda\" if torch.cuda.is_available() else \"cpu\")\n",
        "device"
      ],
      "execution_count": 3,
      "outputs": [
        {
          "output_type": "execute_result",
          "data": {
            "text/plain": [
              "device(type='cuda')"
            ]
          },
          "metadata": {
            "tags": []
          },
          "execution_count": 3
        }
      ]
    },
    {
      "cell_type": "code",
      "metadata": {
        "id": "scejHC_qGjlV"
      },
      "source": [
        "def utility_score(date, weight, resp, action):\n",
        "    \"\"\"\n",
        "    Fast computation of utility score\n",
        "    \"\"\"\n",
        "    date = date.astype(int)\n",
        "    count_i = len(np.unique(date))\n",
        "    Pi = np.bincount(date, weight * resp * action)\n",
        "    t = np.sum(Pi) / np.sqrt(np.sum(Pi ** 2)) * np.sqrt(250 / count_i)\n",
        "    u = np.clip(t, 0, 6) * np.sum(Pi)\n",
        "    return -u"
      ],
      "execution_count": 4,
      "outputs": []
    },
    {
      "cell_type": "code",
      "metadata": {
        "id": "_SPTJd2zGnXY"
      },
      "source": [
        "def cat_encoder(X):\n",
        "    \"\"\"\n",
        "    Fast one-hot encoding of feature_0\n",
        "    \"\"\"\n",
        "    X[\"feature_00\"] = 0\n",
        "    idx00 = X.query(\"feature_0 == -1\").index\n",
        "    X.loc[idx00,\"feature_00\"] = 1\n",
        "    \n",
        "    X[\"feature_01\"] = 0\n",
        "    idx01 = X.query(\"feature_0 == 1\").index\n",
        "    X.loc[idx01,\"feature_01\"] = 1\n",
        "    \n",
        "    return X.iloc[:,1:]"
      ],
      "execution_count": 5,
      "outputs": []
    },
    {
      "cell_type": "code",
      "metadata": {
        "id": "UFtEbv6NGo-Q"
      },
      "source": [
        "def show_metrics(monitor):\n",
        "    x = np.arange(len(monitor.train_loss))\n",
        "    \n",
        "    fig, axes = plt.subplots(nrows=1, ncols=2, figsize=(21, 7))\n",
        "    \n",
        "    ax1 = axes[0]\n",
        "    ax2 = ax1.twinx()\n",
        "    ax1.plot(x, monitor.train_loss, 'go-', label=\"train_loss\")\n",
        "    ax2.plot(x, monitor.train_metric, 'ro-', label=\"train_metric\")\n",
        "    plt.legend(loc=\"best\")\n",
        "    ax1.set_xlabel('epochs')\n",
        "    ax1.set_ylabel('loss')\n",
        "    ax1.set_title(\"Training\")\n",
        "    plt.grid()\n",
        "    \n",
        "    ax1 = axes[1]\n",
        "    ax2 = ax1.twinx()\n",
        "    ax1.plot(x, monitor.valid_loss, 'go-', label=\"valid_loss\")\n",
        "    ax2.plot(x, monitor.valid_metric, 'ro-', label=\"valid_metric\")\n",
        "    plt.legend(loc=\"best\")\n",
        "    ax1.set_xlabel('epochs')\n",
        "    ax2.set_ylabel('metric')\n",
        "    ax1.set_title(\"Validation\")\n",
        "    plt.grid()\n",
        "    \n",
        "    plt.show()"
      ],
      "execution_count": 6,
      "outputs": []
    },
    {
      "cell_type": "markdown",
      "metadata": {
        "id": "WLyZtGuRGsh8"
      },
      "source": [
        "***\n",
        "### preparing the data"
      ]
    },
    {
      "cell_type": "code",
      "metadata": {
        "colab": {
          "base_uri": "https://localhost:8080/"
        },
        "id": "eQ0TbvFSGsBJ",
        "outputId": "9ec852a1-fcd3-4f62-e497-f29de53cee56"
      },
      "source": [
        "root = Path(\"/content/drive/MyDrive/kaggle/janestreet/preprocessing/\")\n",
        "\n",
        "train = pd.read_parquet(root/\"train.parquet\")\n",
        "features = pd.read_parquet(root/\"features.parquet\")\n",
        "\n",
        "train.info()"
      ],
      "execution_count": 7,
      "outputs": [
        {
          "output_type": "stream",
          "text": [
            "<class 'pandas.core.frame.DataFrame'>\n",
            "RangeIndex: 2390491 entries, 0 to 2390490\n",
            "Columns: 143 entries, date to w4\n",
            "dtypes: float32(140), int16(1), int32(1), int8(1)\n",
            "memory usage: 1.3 GB\n"
          ],
          "name": "stdout"
        }
      ]
    },
    {
      "cell_type": "code",
      "metadata": {
        "id": "U4M_Oog6Gqxg"
      },
      "source": [
        "train = train.query(\"date > 85\").query(\"weight > 0\").reset_index(drop=True)\n",
        "\n",
        "input_features = [col for col in train.columns if \"feature\" in col]\n",
        "resp_cols = ['resp', 'resp_1', 'resp_2', 'resp_3', 'resp_4']\n",
        "w_cols = [\"w\", \"w1\", \"w2\", \"w3\", \"w4\"]\n",
        "\n",
        "X_dset = train.loc[:,input_features].copy()\n",
        "y_dset = (train.loc[:,resp_cols] > 0).astype(int).copy()\n",
        "w_dset = train.loc[:, w_cols].copy()\n",
        "dwr_dset = train.loc[:, [\"date\",\"weight\",\"resp\"]].copy()"
      ],
      "execution_count": 8,
      "outputs": []
    },
    {
      "cell_type": "code",
      "metadata": {
        "colab": {
          "base_uri": "https://localhost:8080/"
        },
        "id": "TCb5wGfbG0EJ",
        "outputId": "ccaa8b4e-89f2-47d2-d5bf-328edbc698b7"
      },
      "source": [
        "%%time \n",
        "\n",
        "with open(\"/content/drive/MyDrive/kaggle/janestreet/imputer/imputer_f0m1.pickle\", \"rb\") as file:\n",
        "    imputer_f0m1 = pickle.load(file)\n",
        "    file.close()\n",
        "    \n",
        "with open(\"/content/drive/MyDrive/kaggle/janestreet/imputer/imputer_f0p1.pickle\", \"rb\") as file:\n",
        "    imputer_f0p1 = pickle.load(file)\n",
        "    file.close()\n",
        "\n",
        "idx_f0m1 = X_dset.query(\"feature_0 == -1\").index\n",
        "X_dset.loc[idx_f0m1, input_features[1:]] = imputer_f0m1.transform(X_dset.loc[idx_f0m1, input_features[1:]])\n",
        "\n",
        "idx_f0p1 = X_dset.query(\"feature_0 ==  1\").index\n",
        "X_dset.loc[idx_f0p1, input_features[1:]] = imputer_f0p1.transform(X_dset.loc[idx_f0p1, input_features[1:]])"
      ],
      "execution_count": 9,
      "outputs": [
        {
          "output_type": "stream",
          "text": [
            "CPU times: user 45 s, sys: 7.58 s, total: 52.5 s\n",
            "Wall time: 48.3 s\n"
          ],
          "name": "stdout"
        }
      ]
    },
    {
      "cell_type": "code",
      "metadata": {
        "id": "ARs7CqT6G4hN"
      },
      "source": [
        "X_dset = cat_encoder(X_dset)\n",
        "input_features = X_dset.columns.tolist()"
      ],
      "execution_count": 10,
      "outputs": []
    },
    {
      "cell_type": "markdown",
      "metadata": {
        "id": "XfkHB_OPG8sK"
      },
      "source": [
        "***\n",
        "### model definition"
      ]
    },
    {
      "cell_type": "code",
      "metadata": {
        "id": "ggSm5TdXG7uD"
      },
      "source": [
        "class NormalLinear(nn.Module):\n",
        "    \"\"\" \n",
        "    Linear layer with normalized weights\n",
        "    \"\"\"\n",
        "    def __init__(self, size_in, size_out, bias=True):\n",
        "        super(NormalLinear, self).__init__()\n",
        "        self.size_in, self.size_out = size_in, size_out\n",
        "        # weights vector\n",
        "        weights_v = torch.Tensor(size_out, size_in)\n",
        "        nn.init.kaiming_uniform_(weights_v, a=np.sqrt(5)) \n",
        "        self.weights_v = nn.Parameter(weights_v)\n",
        "        # weights magnitude\n",
        "        weights_m = torch.norm(weights_v, dim=1, keepdim=True)\n",
        "        self.weights_m = nn.Parameter(weights_m.clone().detach())\n",
        "        \n",
        "        if bias:\n",
        "            bias_v = torch.Tensor(size_out)    \n",
        "            fan_in, _ = nn.init._calculate_fan_in_and_fan_out(weights_v)\n",
        "            bound = 1 / np.sqrt(fan_in)\n",
        "            nn.init.uniform_(bias_v, -bound, bound)\n",
        "            self.bias = nn.Parameter(bias_v)\n",
        "        else:\n",
        "            self.register_parameter('bias', None)\n",
        "            \n",
        "    def _compute_weights(self):\n",
        "        norm_per_output = torch.norm(self.weights_v, dim=1, keepdim=True)\n",
        "        return self.weights_m * torch.div(self.weights_v, norm_per_output)\n",
        "            \n",
        "    def forward(self, x):\n",
        "        weights = self._compute_weights()\n",
        "        return nn.functional.linear(x, weights, self.bias)\n",
        "\n",
        "\n",
        "class CNN1D(nn.Module):\n",
        "    def __init__(self, input_dim, output_dim, sign_size=16, cha_input=32, cha_hidden=32, K=2,\n",
        "                 dropout_input=0.2, dropout_hidden=0.2, dropout_output=0.2):\n",
        "        super(CNN1D, self).__init__()\n",
        "\n",
        "        hidden_size = sign_size*cha_input\n",
        "        sign_size1 = sign_size\n",
        "        sign_size2 = sign_size//2\n",
        "        output_size = (sign_size//4) * cha_hidden\n",
        "\n",
        "        self.hidden_size = hidden_size\n",
        "        self.cha_input = cha_input\n",
        "        self.cha_hidden = cha_hidden\n",
        "        self.K = K\n",
        "        self.sign_size1 = sign_size1\n",
        "        self.sign_size2 = sign_size2\n",
        "        self.output_size = output_size\n",
        "        self.dropout_input = dropout_input\n",
        "        self.dropout_hidden = dropout_hidden\n",
        "        self.dropout_output = dropout_output\n",
        "\n",
        "        self.batch_norm1 = nn.BatchNorm1d(input_dim)\n",
        "        self.dropout1 = nn.Dropout(dropout_input)\n",
        "        self.dense1 = NormalLinear(input_dim, hidden_size, bias=False)\n",
        "\n",
        "        # 1st conv layer\n",
        "        self.batch_norm_c1 = nn.BatchNorm1d(cha_input)\n",
        "        self.conv1 = nn.Conv1d(cha_input, cha_input*K, kernel_size = 5, stride = 1, padding=2,  groups=cha_input, bias=False)\n",
        "\n",
        "        self.ave_po_c1 = nn.AdaptiveAvgPool1d(output_size = sign_size2)\n",
        "\n",
        "        # 2nd conv layer\n",
        "        self.batch_norm_c2 = nn.BatchNorm1d(cha_input*K)\n",
        "        self.dropout_c2 = nn.Dropout(dropout_hidden)\n",
        "        self.conv2 = nn.Conv1d(cha_input*K, cha_hidden, kernel_size = 3, stride = 1, padding=1, bias=False)\n",
        "\n",
        "        # 3rd conv layer\n",
        "        self.batch_norm_c3 = nn.BatchNorm1d(cha_hidden)\n",
        "        self.dropout_c3 = nn.Dropout(dropout_hidden)\n",
        "        self.conv3 = nn.Conv1d(cha_hidden, cha_hidden, kernel_size = 3, stride = 1, padding=1, bias=False)\n",
        "\n",
        "        # 4th conv layer\n",
        "        self.batch_norm_c4 = nn.BatchNorm1d(cha_hidden)\n",
        "        self.conv4 = nn.Conv1d(cha_hidden, cha_hidden, kernel_size = 5, stride = 1, padding=2, groups=cha_hidden, bias=False)\n",
        "\n",
        "        self.avg_po_c4 = nn.AvgPool1d(kernel_size=4, stride=2, padding=1)\n",
        "\n",
        "        self.flt = nn.Flatten()\n",
        "\n",
        "        self.batch_norm2 = nn.BatchNorm1d(output_size)\n",
        "        self.dropout2 = nn.Dropout(dropout_output)\n",
        "        self.dense2 = NormalLinear(output_size, output_dim, bias=False)\n",
        "\n",
        "    def forward(self, x):\n",
        "\n",
        "        x = self.batch_norm1(x)\n",
        "        x = self.dropout1(x)\n",
        "        x = F.celu(self.dense1(x))\n",
        "\n",
        "        x = x.reshape(x.shape[0], self.cha_input, self.sign_size1)\n",
        "\n",
        "        x = self.batch_norm_c1(x)\n",
        "        x = F.relu(self.conv1(x))\n",
        "\n",
        "        x = self.ave_po_c1(x)\n",
        "\n",
        "        x = self.batch_norm_c2(x)\n",
        "        x = self.dropout_c2(x)\n",
        "        x = F.relu(self.conv2(x))\n",
        "        x_s = x\n",
        "\n",
        "        x = self.batch_norm_c3(x)\n",
        "        x = self.dropout_c3(x)\n",
        "        x = F.relu(self.conv3(x))\n",
        "\n",
        "        x = self.batch_norm_c4(x)\n",
        "        x = self.conv4(x)\n",
        "        x =  x + x_s\n",
        "        x = F.relu(x)\n",
        "\n",
        "        x = self.avg_po_c4(x)\n",
        "\n",
        "        x = self.flt(x)\n",
        "\n",
        "        x = self.batch_norm2(x)\n",
        "        x = self.dropout2(x)\n",
        "        x = self.dense2(x)\n",
        "\n",
        "        return x"
      ],
      "execution_count": 11,
      "outputs": []
    },
    {
      "cell_type": "code",
      "metadata": {
        "id": "OiejM8WJG8HS"
      },
      "source": [
        "class BCELabelSmoothing(nn.Module):\n",
        "    def __init__(self, label_smoothing=0.0):\n",
        "        super(BCELabelSmoothing, self).__init__()\n",
        "        self.label_smoothing = label_smoothing\n",
        "        self.bce_loss = torch.nn.functional.binary_cross_entropy_with_logits\n",
        "        \n",
        "    def forward(self, prediction, target, weight=None):\n",
        "        target_smooth = target*(1.0 - self.label_smoothing) + 0.5*self.label_smoothing\n",
        "        if weight is None:\n",
        "            loss = self.bce_loss(prediction, target_smooth, reduction=\"mean\")\n",
        "        else:\n",
        "            loss = self.bce_loss(prediction, target_smooth, weight, reduction=\"sum\") / torch.sum(weight)\n",
        "        return loss\n",
        "\n",
        "bce_loss = BCELabelSmoothing(label_smoothing=1e-2)"
      ],
      "execution_count": 12,
      "outputs": []
    },
    {
      "cell_type": "markdown",
      "metadata": {
        "id": "124pZjnxHIBT"
      },
      "source": [
        "***\n",
        "### model training: 1st step"
      ]
    },
    {
      "cell_type": "code",
      "metadata": {
        "colab": {
          "base_uri": "https://localhost:8080/"
        },
        "id": "UzCjwS2MHE2v",
        "outputId": "a5a6485b-479f-4712-b0a5-dbbed140f13a"
      },
      "source": [
        "train_idx = train.query(\"date < 450\").index\n",
        "valid_idx = train.query(\"date >= 450\").index\n",
        "\n",
        "train_dset = TensorDataset(torch.tensor(X_dset.loc[train_idx].values, dtype=torch.float), \n",
        "                           torch.tensor(y_dset.loc[train_idx].values, dtype=torch.float),\n",
        "                           torch.tensor(w_dset.loc[train_idx].values, dtype=torch.float),\n",
        "                           torch.tensor(dwr_dset.loc[train_idx].values, dtype=torch.float),\n",
        "                          )\n",
        "\n",
        "valid_dset = TensorDataset(torch.tensor(X_dset.loc[valid_idx].values, dtype=torch.float), \n",
        "                           torch.tensor(y_dset.loc[valid_idx].values, dtype=torch.float),\n",
        "                           torch.tensor(w_dset.loc[valid_idx].values, dtype=torch.float),\n",
        "                           torch.tensor(dwr_dset.loc[valid_idx].values, dtype=torch.float),\n",
        "                          )\n",
        "\n",
        "dataset_sizes = {'train': len(train_dset), 'valid': len(valid_dset)}\n",
        "train_dataloader = DataLoader(train_dset, batch_size=2048, shuffle=True, num_workers=2, pin_memory=True, drop_last=True)\n",
        "valid_dataloader = DataLoader(valid_dset, batch_size=len(valid_dset), shuffle=False, num_workers=2, pin_memory=True, drop_last=True)\n",
        "\n",
        "print(\"Number of step per epoch:\", len(train_dset)//2048)"
      ],
      "execution_count": 13,
      "outputs": [
        {
          "output_type": "stream",
          "text": [
            "Number of step per epoch: 652\n"
          ],
          "name": "stdout"
        }
      ]
    },
    {
      "cell_type": "code",
      "metadata": {
        "colab": {
          "base_uri": "https://localhost:8080/",
          "height": 716,
          "referenced_widgets": [
            "928d80c7ab4c4be6a3728c909d83ff6d",
            "4a8bc117ce424012aa2c518dbe7a3bf9",
            "4765aaaed6924a38a3c0f6e72727a789",
            "09bfa82a80c743c48e217fe81ac3f149",
            "337102859e4d47a8a89418315c78f8bb",
            "7168f4f2576c45e59d8afe7ae83e37b6",
            "d97a1c1e49494a628999a10e9ebb01e2",
            "d06cde25c08248dfbe49957f6d79b5e1",
            "dd65df71e5044203b723405d38fbbc72",
            "b1a046cd4c46400a988472111a24b6f4",
            "883b6a2dd3bf4075ba7fc1c656aa4422",
            "036bd67855e34a6e9ade272d7d6900d7",
            "ae06f1fe35a942c79f05a5c3bea4e6c0",
            "7dd6a40ca90e4dd0b4139b8b89c8bf56",
            "e49f2712ce1a4b7985a51106bf445ced",
            "983e741f161e46aab6652363df2e1b93",
            "7c9c020dd54f4cb08be0382a699dcf06",
            "98fa0437d7a0450c8aaa6d4ca1bee27f",
            "6657fe0fdcc548e9bedfbfaac39c5a06",
            "b2348a5ed9ab4174a7ff3509bd4352b9",
            "9a2d9d61c2884427b645f74baff456b4",
            "49662bd83b6943c9b3c235e99ba7867f"
          ]
        },
        "id": "R36rOVfsHNj2",
        "outputId": "b348509d-9e68-41e9-c9e4-5d5fe03dfbdc"
      },
      "source": [
        "_model = CNN1D(input_dim=len(input_features), output_dim=len(resp_cols),\n",
        "               sign_size=16, cha_input=32, cha_hidden=48, K=2,\n",
        "               dropout_input=0.2, dropout_hidden=0.25, dropout_output=0.25)\n",
        "_model = _model.to(device)\n",
        "\n",
        "_optimizer = torch.optim.SGD(_model.parameters(), lr=1e-2, momentum=0.9, weight_decay=1e-4)\n",
        "lr_finder = LRFinder(_model, _optimizer, bce_loss, device=\"cuda\")\n",
        "lr_finder.range_test(train_dataloader, start_lr=1e-4, end_lr=1e1, num_iter=652*2, step_mode=\"exp\")\n",
        "lr_finder.plot(show_lr=1e-2)\n",
        "plt.show()\n",
        "\n",
        "_optimizer = torch.optim.SGD(_model.parameters(), lr=1e-2, momentum=0.9, weight_decay=1e-4)\n",
        "lr_finder = LRFinder(_model, _optimizer, bce_loss, device=\"cuda\")\n",
        "lr_finder.range_test(train_dataloader, start_lr=1e-4, end_lr=1e1, num_iter=652*2, step_mode=\"exp\")\n",
        "lr_finder.plot(show_lr=1e-2)\n",
        "plt.show()"
      ],
      "execution_count": 14,
      "outputs": [
        {
          "output_type": "display_data",
          "data": {
            "application/vnd.jupyter.widget-view+json": {
              "model_id": "928d80c7ab4c4be6a3728c909d83ff6d",
              "version_minor": 0,
              "version_major": 2
            },
            "text/plain": [
              "  0%|          | 0/1304 [00:00<?, ?it/s]"
            ]
          },
          "metadata": {
            "tags": []
          }
        },
        {
          "output_type": "stream",
          "text": [
            "Learning rate search finished. See the graph with {finder_name}.plot()\n",
            "LR suggestion: steepest gradient\n",
            "Suggested LR: 1.15E-04\n"
          ],
          "name": "stdout"
        },
        {
          "output_type": "display_data",
          "data": {
            "image/png": "[encoded data removed]",
            "text/plain": [
              "<Figure size 432x288 with 1 Axes>"
            ]
          },
          "metadata": {
            "tags": [],
            "needs_background": "light"
          }
        },
        {
          "output_type": "display_data",
          "data": {
            "application/vnd.jupyter.widget-view+json": {
              "model_id": "036bd67855e34a6e9ade272d7d6900d7",
              "version_minor": 0,
              "version_major": 2
            },
            "text/plain": [
              "  0%|          | 0/1304 [00:00<?, ?it/s]"
            ]
          },
          "metadata": {
            "tags": []
          }
        },
        {
          "output_type": "stream",
          "text": [
            "Learning rate search finished. See the graph with {finder_name}.plot()\n",
            "LR suggestion: steepest gradient\n",
            "Suggested LR: 7.12E-01\n"
          ],
          "name": "stdout"
        },
        {
          "output_type": "display_data",
          "data": {
            "image/png": "[encoded data removed]",
            "text/plain": [
              "<Figure size 432x288 with 1 Axes>"
            ]
          },
          "metadata": {
            "tags": [],
            "needs_background": "light"
          }
        }
      ]
    },
    {
      "cell_type": "code",
      "metadata": {
        "colab": {
          "base_uri": "https://localhost:8080/"
        },
        "id": "_Bv8kd_BHxq6",
        "outputId": "24d89b2d-8b4f-4a84-ede2-ee9d08b829e3"
      },
      "source": [
        "model = CNN1D(input_dim=len(input_features), output_dim=len(resp_cols),\n",
        "              sign_size=16, cha_input=32, cha_hidden=48, K=2,\n",
        "              dropout_input=0.2, dropout_hidden=0.25, dropout_output=0.25)\n",
        "    \n",
        "model = model.to(device)\n",
        "summary(model, input_size=(len(input_features),))"
      ],
      "execution_count": 15,
      "outputs": [
        {
          "output_type": "stream",
          "text": [
            "----------------------------------------------------------------\n",
            "        Layer (type)               Output Shape         Param #\n",
            "================================================================\n",
            "       BatchNorm1d-1                  [-1, 131]             262\n",
            "           Dropout-2                  [-1, 131]               0\n",
            "      NormalLinear-3                  [-1, 512]               0\n",
            "       BatchNorm1d-4               [-1, 32, 16]              64\n",
            "            Conv1d-5               [-1, 64, 16]             320\n",
            " AdaptiveAvgPool1d-6                [-1, 64, 8]               0\n",
            "       BatchNorm1d-7                [-1, 64, 8]             128\n",
            "           Dropout-8                [-1, 64, 8]               0\n",
            "            Conv1d-9                [-1, 48, 8]           9,216\n",
            "      BatchNorm1d-10                [-1, 48, 8]              96\n",
            "          Dropout-11                [-1, 48, 8]               0\n",
            "           Conv1d-12                [-1, 48, 8]           6,912\n",
            "      BatchNorm1d-13                [-1, 48, 8]              96\n",
            "           Conv1d-14                [-1, 48, 8]             240\n",
            "        AvgPool1d-15                [-1, 48, 4]               0\n",
            "          Flatten-16                  [-1, 192]               0\n",
            "      BatchNorm1d-17                  [-1, 192]             384\n",
            "          Dropout-18                  [-1, 192]               0\n",
            "     NormalLinear-19                    [-1, 5]               0\n",
            "================================================================\n",
            "Total params: 17,718\n",
            "Trainable params: 17,718\n",
            "Non-trainable params: 0\n",
            "----------------------------------------------------------------\n",
            "Input size (MB): 0.00\n",
            "Forward/backward pass size (MB): 0.05\n",
            "Params size (MB): 0.07\n",
            "Estimated Total Size (MB): 0.12\n",
            "----------------------------------------------------------------\n"
          ],
          "name": "stdout"
        }
      ]
    },
    {
      "cell_type": "code",
      "metadata": {
        "colab": {
          "base_uri": "https://localhost:8080/",
          "height": 75,
          "referenced_widgets": [
            "8d3530934643499f8eee0432b9c7ebd7",
            "f3534820e327444292bd2013205be9c1",
            "345a1b8cf7624c329041571857221dfa",
            "d70f46606f1640d288d3bae48b93a08b",
            "9637dd7888fd48aea4b5f01c2c07323e",
            "ae00e3e1562940d3b6f7aee57d11f954",
            "a801e04f4901463784c0559ecd8c4074",
            "01d8a9d37fb84e17bc69c8f6d664773c",
            "c221be3bba48443d903c1f008a54d14d",
            "8dacf7a89b354a49aa4f60317f37c2d0",
            "c0ae3a0a4f0142dfabd7a8ff465798e7"
          ]
        },
        "id": "Q_ZTxDMrHyEY",
        "outputId": "ae2bc94b-6a26-4ba2-bfa7-69a4d0dd68fe"
      },
      "source": [
        "models_history = list()\n",
        "\n",
        "optimizer = torch.optim.SGD(model.parameters(), lr=1e-2, momentum=0.9, weight_decay=1e-4)\n",
        "scheduler = torch.optim.lr_scheduler.OneCycleLR(\n",
        "    optimizer, \n",
        "    max_lr=1e-2,\n",
        "    epochs=50,\n",
        "    pct_start=0.1, \n",
        "    anneal_strategy='cos', \n",
        "    cycle_momentum=True, \n",
        "    base_momentum=0.8, \n",
        "    max_momentum=0.9, \n",
        "    div_factor=1e1,\n",
        "    final_div_factor=1e0,\n",
        "    steps_per_epoch=len(train_dataloader),\n",
        "    verbose=False)\n",
        "\n",
        "monitor = Monitor(\n",
        "    model=model,\n",
        "    optimizer=optimizer,\n",
        "    scheduler=scheduler,\n",
        "    patience=10,\n",
        "    metric_fn=utility_score,\n",
        "    experiment_name=f'cnn1d',\n",
        "    num_epochs=50,\n",
        "    dataset_sizes=dataset_sizes,\n",
        "    early_stop_on_metric=False,\n",
        "    lower_is_better=True)\n",
        "\n",
        "for epoch in monitor.iter_epochs:\n",
        "    train_step(model, train_dataloader, optimizer, monitor, bce_loss, scheduler=scheduler, clip_value=None)    \n",
        "    early_stop = valid_step(model, valid_dataloader, optimizer, monitor, bce_loss)\n",
        "    models_history.append(copy.deepcopy(model))\n",
        "    if early_stop: break"
      ],
      "execution_count": 16,
      "outputs": [
        {
          "output_type": "display_data",
          "data": {
            "application/vnd.jupyter.widget-view+json": {
              "model_id": "8d3530934643499f8eee0432b9c7ebd7",
              "version_minor": 0,
              "version_major": 2
            },
            "text/plain": [
              "cnn1d:   0%|          | 0/50 [00:00<?, ?it/s]"
            ]
          },
          "metadata": {
            "tags": []
          }
        }
      ]
    },
    {
      "cell_type": "code",
      "metadata": {
        "colab": {
          "base_uri": "https://localhost:8080/",
          "height": 458
        },
        "id": "2rkuBRUmHyOD",
        "outputId": "4b4a1485-dba1-4d14-f40d-3a0923d0cc89"
      },
      "source": [
        "show_metrics(monitor)"
      ],
      "execution_count": 17,
      "outputs": [
        {
          "output_type": "display_data",
          "data": {
            "image/png": "[encoded data removed]",
            "text/plain": [
              "<Figure size 1512x504 with 4 Axes>"
            ]
          },
          "metadata": {
            "tags": [],
            "needs_background": "light"
          }
        }
      ]
    },
    {
      "cell_type": "code",
      "metadata": {
        "id": "mrmEua2bQf43"
      },
      "source": [
        "# SWA around optimal on validation data\n",
        "swa_model = torch.optim.swa_utils.AveragedModel(model)\n",
        "\n",
        "for _model in models_history[26:]:\n",
        "    swa_model.update_parameters(_model)\n",
        "    \n",
        "torch.optim.swa_utils.update_bn(train_dataloader, swa_model, device=device)"
      ],
      "execution_count": 18,
      "outputs": []
    },
    {
      "cell_type": "code",
      "metadata": {
        "colab": {
          "base_uri": "https://localhost:8080/"
        },
        "id": "njQq9ZmaRj_M",
        "outputId": "3d546b54-482c-4fa4-e77b-2b14aab24074"
      },
      "source": [
        "# puts state_dict of SWA in the format of original model\n",
        "state_dict = OrderedDict()\n",
        "state_dict_swa = swa_model.state_dict()\n",
        "\n",
        "for key,params in state_dict_swa.items():\n",
        "    if key == \"n_averaged\": continue\n",
        "    key = key.replace(\"module.\",\"\")\n",
        "    state_dict[key] = params\n",
        "    \n",
        "# restore model to best averaged state\n",
        "model.load_state_dict(state_dict)"
      ],
      "execution_count": 21,
      "outputs": [
        {
          "output_type": "execute_result",
          "data": {
            "text/plain": [
              "<All keys matched successfully>"
            ]
          },
          "metadata": {
            "tags": []
          },
          "execution_count": 21
        }
      ]
    },
    {
      "cell_type": "markdown",
      "metadata": {
        "id": "RxBqBavNR1AB"
      },
      "source": [
        "***\n",
        "### model training: 2nd step"
      ]
    },
    {
      "cell_type": "code",
      "metadata": {
        "colab": {
          "base_uri": "https://localhost:8080/"
        },
        "id": "DUyq5lAWRoe0",
        "outputId": "2090d241-3423-4503-e8f1-156f59cb37a0"
      },
      "source": [
        "train_idx = train.query(\"date < 450\").index\n",
        "valid_idx = train.query(\"date >= 450\").index\n",
        "\n",
        "train_dset = TensorDataset(torch.tensor(X_dset.loc[:].values, dtype=torch.float), \n",
        "                           torch.tensor(y_dset.loc[:].values, dtype=torch.float),\n",
        "                           torch.tensor(w_dset.loc[:].values, dtype=torch.float),\n",
        "                           torch.tensor(dwr_dset.loc[:].values, dtype=torch.float),\n",
        "                          )\n",
        "\n",
        "valid_dset = TensorDataset(torch.tensor(X_dset.loc[valid_idx].values, dtype=torch.float), \n",
        "                           torch.tensor(y_dset.loc[valid_idx].values, dtype=torch.float),\n",
        "                           torch.tensor(w_dset.loc[valid_idx].values, dtype=torch.float),\n",
        "                           torch.tensor(dwr_dset.loc[valid_idx].values, dtype=torch.float),\n",
        "                          )\n",
        "\n",
        "dataset_sizes = {'train': len(train_dset), 'valid': len(valid_dset)}\n",
        "train_dataloader = DataLoader(train_dset, batch_size=2048, shuffle=True, num_workers=2)\n",
        "valid_dataloader = DataLoader(valid_dset, batch_size=len(valid_dset), shuffle=False, num_workers=2)\n",
        "\n",
        "print(\"Number of step per epoch:\", len(train_dset)//2048)"
      ],
      "execution_count": 22,
      "outputs": [
        {
          "output_type": "stream",
          "text": [
            "Number of step per epoch: 767\n"
          ],
          "name": "stdout"
        }
      ]
    },
    {
      "cell_type": "code",
      "metadata": {
        "colab": {
          "base_uri": "https://localhost:8080/",
          "height": 368,
          "referenced_widgets": [
            "9f7efa17719045af9fefce0a2e1b058d",
            "386eab6a7a194568bda3eee77a6f2467",
            "09223c5715794561a786d4384b55d40e",
            "41436b92807549b6b657c940fd273a76",
            "7c389036e38c4e85ac4f11db586b0308",
            "638a6056f9a14ea781ad1589e2497683",
            "fc3f001537a14224b3d1ce5b9102309c",
            "34333fd868794235be0c312a3eb024ed",
            "b0e0dab0b1414462aa996f2355b92e61",
            "6da8a2dd8f854b75b3933c9374f5571d",
            "e838a286049e4699b2b2d86c12a71335"
          ]
        },
        "id": "UboBz7EsR348",
        "outputId": "628cb751-8058-48ff-e3f7-7ca0e3ad807c"
      },
      "source": [
        "_optimizer = torch.optim.SGD(model.parameters(), lr=1e-1, momentum=0.9, weight_decay=1e-4)\n",
        "lr_finder = LRFinder(model, _optimizer, bce_loss, device=\"cuda\")\n",
        "lr_finder.range_test(train_dataloader, start_lr=1e-4, end_lr=1e1, num_iter=652*4, step_mode=\"exp\")\n",
        "lr_finder.plot(show_lr=1e-2)\n",
        "plt.show()"
      ],
      "execution_count": 23,
      "outputs": [
        {
          "output_type": "display_data",
          "data": {
            "application/vnd.jupyter.widget-view+json": {
              "model_id": "9f7efa17719045af9fefce0a2e1b058d",
              "version_minor": 0,
              "version_major": 2
            },
            "text/plain": [
              "  0%|          | 0/2608 [00:00<?, ?it/s]"
            ]
          },
          "metadata": {
            "tags": []
          }
        },
        {
          "output_type": "stream",
          "text": [
            "Learning rate search finished. See the graph with {finder_name}.plot()\n",
            "LR suggestion: steepest gradient\n",
            "Suggested LR: 7.36E-04\n"
          ],
          "name": "stdout"
        },
        {
          "output_type": "display_data",
          "data": {
            "image/png": "[encoded data removed]",
            "text/plain": [
              "<Figure size 432x288 with 1 Axes>"
            ]
          },
          "metadata": {
            "tags": [],
            "needs_background": "light"
          }
        }
      ]
    },
    {
      "cell_type": "code",
      "metadata": {
        "id": "QYokJssTSH5M"
      },
      "source": [
        "# restore to state of best epoch\n",
        "model.load_state_dict(state_dict)\n",
        "optimizer = torch.optim.SGD(model.parameters(), lr=1e-4, momentum=0.9, weight_decay=1e-4)"
      ],
      "execution_count": 24,
      "outputs": []
    },
    {
      "cell_type": "code",
      "metadata": {
        "colab": {
          "base_uri": "https://localhost:8080/",
          "height": 75,
          "referenced_widgets": [
            "9434cdc5738f48e5a141ce0ba557c4f8",
            "11e038ad16b046be9a60fa35df0a8e37",
            "22c1a881356b477c9a1c240b453ed488",
            "a6846a2747694a18936d17c42b31e34c",
            "9f16bb69aaa44efab1896c708003a10c",
            "306482b12dcd404c9ecf04322f3d660a",
            "d3609c5a251343b199362e2648d1a33f",
            "99365bc948d5408f9678bb68e96c8bd6",
            "ea4f7bf02e854ee79840abc63ef3e123",
            "e98c25f3c8d8406794526027515ba7be",
            "ddbbf5f8faa54b369a28cd6ff43de61f"
          ]
        },
        "id": "PWCpb-A9SKgu",
        "outputId": "34291777-8f16-4de6-e75e-61571e0b1ee3"
      },
      "source": [
        "swa_model = torch.optim.swa_utils.AveragedModel(model)\n",
        "swa_model = swa_model.to(device)\n",
        "scheduler = torch.optim.swa_utils.SWALR(optimizer, swa_lr=1e-2, anneal_strategy=\"cos\", anneal_epochs=5)\n",
        "\n",
        "models_history = list()\n",
        "\n",
        "monitor = Monitor(\n",
        "    model=model,\n",
        "    optimizer=optimizer,\n",
        "    scheduler=scheduler,\n",
        "    patience=15,\n",
        "    metric_fn=utility_score,\n",
        "    experiment_name=f'CNN1D',\n",
        "    num_epochs=15,\n",
        "    dataset_sizes=dataset_sizes,\n",
        "    early_stop_on_metric=False,\n",
        "    lower_is_better=True)\n",
        "\n",
        "for epoch in monitor.iter_epochs:\n",
        "    train_step(model, train_dataloader, optimizer, monitor, bce_loss, scheduler=None, clip_value=None)    \n",
        "    valid_step(model, valid_dataloader, optimizer, monitor, bce_loss)\n",
        "    scheduler.step()\n",
        "    \n",
        "    models_history.append(copy.deepcopy(model))"
      ],
      "execution_count": 25,
      "outputs": [
        {
          "output_type": "display_data",
          "data": {
            "application/vnd.jupyter.widget-view+json": {
              "model_id": "9434cdc5738f48e5a141ce0ba557c4f8",
              "version_minor": 0,
              "version_major": 2
            },
            "text/plain": [
              "CNN1D:   0%|          | 0/15 [00:00<?, ?it/s]"
            ]
          },
          "metadata": {
            "tags": []
          }
        }
      ]
    },
    {
      "cell_type": "code",
      "metadata": {
        "colab": {
          "base_uri": "https://localhost:8080/",
          "height": 458
        },
        "id": "5Prd1_LUShG2",
        "outputId": "8208084f-219f-4f3c-c091-3e12d8555970"
      },
      "source": [
        "show_metrics(monitor)"
      ],
      "execution_count": 26,
      "outputs": [
        {
          "output_type": "display_data",
          "data": {
            "image/png": "[encoded data removed]",
            "text/plain": [
              "<Figure size 1512x504 with 4 Axes>"
            ]
          },
          "metadata": {
            "tags": [],
            "needs_background": "light"
          }
        }
      ]
    },
    {
      "cell_type": "code",
      "metadata": {
        "id": "kalLVOUtSi4K"
      },
      "source": [
        "# SWA around optimal on validation data\n",
        "start_epoch = 5\n",
        "end_epoch = 14\n",
        "\n",
        "for _model in models_history[start_epoch:end_epoch+1]:\n",
        "    swa_model.update_parameters(_model)\n",
        "    \n",
        "torch.optim.swa_utils.update_bn(train_dataloader, swa_model, device=device)"
      ],
      "execution_count": 27,
      "outputs": []
    },
    {
      "cell_type": "markdown",
      "metadata": {
        "id": "_dHIhwkhU6aR"
      },
      "source": [
        "***"
      ]
    }
  ]
}