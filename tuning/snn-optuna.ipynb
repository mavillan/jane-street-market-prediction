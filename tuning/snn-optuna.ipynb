{
  "nbformat": 4,
  "nbformat_minor": 0,
  "metadata": {
    "colab": {
      "name": "snn-optuna.ipynb",
      "provenance": [],
      "collapsed_sections": [],
      "authorship_tag": "ABX9TyMkUeWGdBl+WTjnasU9EUVv",
      "include_colab_link": true
    },
    "kernelspec": {
      "name": "python3",
      "display_name": "Python 3"
    },
    "accelerator": "GPU",
    "widgets": {
      "application/vnd.jupyter.widget-state+json": {
        "fcc1cd8c8de54afba60ef1ad8d4d1018": {
          "model_module": "@jupyter-widgets/controls",
          "model_name": "HBoxModel",
          "state": {
            "_view_name": "HBoxView",
            "_dom_classes": [],
            "_model_name": "HBoxModel",
            "_view_module": "@jupyter-widgets/controls",
            "_model_module_version": "1.5.0",
            "_view_count": null,
            "_view_module_version": "1.5.0",
            "box_style": "",
            "layout": "IPY_MODEL_f84a2c2c47ea44b59a0f3c832149b88f",
            "_model_module": "@jupyter-widgets/controls",
            "children": [
              "IPY_MODEL_2994e5a56c574389a6e8881646feaa98",
              "IPY_MODEL_bfce33ac5715423bb82fed790cfccf11"
            ]
          }
        },
        "f84a2c2c47ea44b59a0f3c832149b88f": {
          "model_module": "@jupyter-widgets/base",
          "model_name": "LayoutModel",
          "state": {
            "_view_name": "LayoutView",
            "grid_template_rows": null,
            "right": null,
            "justify_content": null,
            "_view_module": "@jupyter-widgets/base",
            "overflow": null,
            "_model_module_version": "1.2.0",
            "_view_count": null,
            "flex_flow": null,
            "width": null,
            "min_width": null,
            "border": null,
            "align_items": null,
            "bottom": null,
            "_model_module": "@jupyter-widgets/base",
            "top": null,
            "grid_column": null,
            "overflow_y": null,
            "overflow_x": null,
            "grid_auto_flow": null,
            "grid_area": null,
            "grid_template_columns": null,
            "flex": null,
            "_model_name": "LayoutModel",
            "justify_items": null,
            "grid_row": null,
            "max_height": null,
            "align_content": null,
            "visibility": null,
            "align_self": null,
            "height": null,
            "min_height": null,
            "padding": null,
            "grid_auto_rows": null,
            "grid_gap": null,
            "max_width": null,
            "order": null,
            "_view_module_version": "1.2.0",
            "grid_template_areas": null,
            "object_position": null,
            "object_fit": null,
            "grid_auto_columns": null,
            "margin": null,
            "display": null,
            "left": null
          }
        },
        "2994e5a56c574389a6e8881646feaa98": {
          "model_module": "@jupyter-widgets/controls",
          "model_name": "FloatProgressModel",
          "state": {
            "_view_name": "ProgressView",
            "style": "IPY_MODEL_82bf08d283c3459a9cac2faa887a887c",
            "_dom_classes": [],
            "description": "SNN:  96%",
            "_model_name": "FloatProgressModel",
            "bar_style": "danger",
            "max": 50,
            "_view_module": "@jupyter-widgets/controls",
            "_model_module_version": "1.5.0",
            "value": 48,
            "_view_count": null,
            "_view_module_version": "1.5.0",
            "orientation": "horizontal",
            "min": 0,
            "description_tooltip": null,
            "_model_module": "@jupyter-widgets/controls",
            "layout": "IPY_MODEL_6085665356a6480b95641c651fbbc253"
          }
        },
        "bfce33ac5715423bb82fed790cfccf11": {
          "model_module": "@jupyter-widgets/controls",
          "model_name": "HTMLModel",
          "state": {
            "_view_name": "HTMLView",
            "style": "IPY_MODEL_ac35ec6b89fe496d959071ff7a37d6ad",
            "_dom_classes": [],
            "description": "",
            "_model_name": "HTMLModel",
            "placeholder": "​",
            "_view_module": "@jupyter-widgets/controls",
            "_model_module_version": "1.5.0",
            "value": " 48/50 [44:46&lt;01:51, 55.97s/it, a_train_loss=0.683016, b_valid_loss=0.686406, c_best_loss=0.685690, d_train_metric=-11658.181135, e_valid_metric=-2538.552352, f_best_metric=-2548.404088, g_es_counter=9, h_last_lr=0.01024571]",
            "_view_count": null,
            "_view_module_version": "1.5.0",
            "description_tooltip": null,
            "_model_module": "@jupyter-widgets/controls",
            "layout": "IPY_MODEL_a84c872ce4e249318b1414041fa34cee"
          }
        },
        "82bf08d283c3459a9cac2faa887a887c": {
          "model_module": "@jupyter-widgets/controls",
          "model_name": "ProgressStyleModel",
          "state": {
            "_view_name": "StyleView",
            "_model_name": "ProgressStyleModel",
            "description_width": "initial",
            "_view_module": "@jupyter-widgets/base",
            "_model_module_version": "1.5.0",
            "_view_count": null,
            "_view_module_version": "1.2.0",
            "bar_color": null,
            "_model_module": "@jupyter-widgets/controls"
          }
        },
        "6085665356a6480b95641c651fbbc253": {
          "model_module": "@jupyter-widgets/base",
          "model_name": "LayoutModel",
          "state": {
            "_view_name": "LayoutView",
            "grid_template_rows": null,
            "right": null,
            "justify_content": null,
            "_view_module": "@jupyter-widgets/base",
            "overflow": null,
            "_model_module_version": "1.2.0",
            "_view_count": null,
            "flex_flow": null,
            "width": null,
            "min_width": null,
            "border": null,
            "align_items": null,
            "bottom": null,
            "_model_module": "@jupyter-widgets/base",
            "top": null,
            "grid_column": null,
            "overflow_y": null,
            "overflow_x": null,
            "grid_auto_flow": null,
            "grid_area": null,
            "grid_template_columns": null,
            "flex": null,
            "_model_name": "LayoutModel",
            "justify_items": null,
            "grid_row": null,
            "max_height": null,
            "align_content": null,
            "visibility": null,
            "align_self": null,
            "height": null,
            "min_height": null,
            "padding": null,
            "grid_auto_rows": null,
            "grid_gap": null,
            "max_width": null,
            "order": null,
            "_view_module_version": "1.2.0",
            "grid_template_areas": null,
            "object_position": null,
            "object_fit": null,
            "grid_auto_columns": null,
            "margin": null,
            "display": null,
            "left": null
          }
        },
        "ac35ec6b89fe496d959071ff7a37d6ad": {
          "model_module": "@jupyter-widgets/controls",
          "model_name": "DescriptionStyleModel",
          "state": {
            "_view_name": "StyleView",
            "_model_name": "DescriptionStyleModel",
            "description_width": "",
            "_view_module": "@jupyter-widgets/base",
            "_model_module_version": "1.5.0",
            "_view_count": null,
            "_view_module_version": "1.2.0",
            "_model_module": "@jupyter-widgets/controls"
          }
        },
        "a84c872ce4e249318b1414041fa34cee": {
          "model_module": "@jupyter-widgets/base",
          "model_name": "LayoutModel",
          "state": {
            "_view_name": "LayoutView",
            "grid_template_rows": null,
            "right": null,
            "justify_content": null,
            "_view_module": "@jupyter-widgets/base",
            "overflow": null,
            "_model_module_version": "1.2.0",
            "_view_count": null,
            "flex_flow": null,
            "width": null,
            "min_width": null,
            "border": null,
            "align_items": null,
            "bottom": null,
            "_model_module": "@jupyter-widgets/base",
            "top": null,
            "grid_column": null,
            "overflow_y": null,
            "overflow_x": null,
            "grid_auto_flow": null,
            "grid_area": null,
            "grid_template_columns": null,
            "flex": null,
            "_model_name": "LayoutModel",
            "justify_items": null,
            "grid_row": null,
            "max_height": null,
            "align_content": null,
            "visibility": null,
            "align_self": null,
            "height": null,
            "min_height": null,
            "padding": null,
            "grid_auto_rows": null,
            "grid_gap": null,
            "max_width": null,
            "order": null,
            "_view_module_version": "1.2.0",
            "grid_template_areas": null,
            "object_position": null,
            "object_fit": null,
            "grid_auto_columns": null,
            "margin": null,
            "display": null,
            "left": null
          }
        },
        "e7b110084b3445388b1f9545adab0fca": {
          "model_module": "@jupyter-widgets/controls",
          "model_name": "HBoxModel",
          "state": {
            "_view_name": "HBoxView",
            "_dom_classes": [],
            "_model_name": "HBoxModel",
            "_view_module": "@jupyter-widgets/controls",
            "_model_module_version": "1.5.0",
            "_view_count": null,
            "_view_module_version": "1.5.0",
            "box_style": "",
            "layout": "IPY_MODEL_f08d9cc52d034e45a233ac8f49ff7090",
            "_model_module": "@jupyter-widgets/controls",
            "children": [
              "IPY_MODEL_b5ed1f88c9b64ee697ef48defebc31a2",
              "IPY_MODEL_e3b054d9b1994ec8a1f899c89ca1dd33"
            ]
          }
        },
        "f08d9cc52d034e45a233ac8f49ff7090": {
          "model_module": "@jupyter-widgets/base",
          "model_name": "LayoutModel",
          "state": {
            "_view_name": "LayoutView",
            "grid_template_rows": null,
            "right": null,
            "justify_content": null,
            "_view_module": "@jupyter-widgets/base",
            "overflow": null,
            "_model_module_version": "1.2.0",
            "_view_count": null,
            "flex_flow": null,
            "width": null,
            "min_width": null,
            "border": null,
            "align_items": null,
            "bottom": null,
            "_model_module": "@jupyter-widgets/base",
            "top": null,
            "grid_column": null,
            "overflow_y": null,
            "overflow_x": null,
            "grid_auto_flow": null,
            "grid_area": null,
            "grid_template_columns": null,
            "flex": null,
            "_model_name": "LayoutModel",
            "justify_items": null,
            "grid_row": null,
            "max_height": null,
            "align_content": null,
            "visibility": null,
            "align_self": null,
            "height": null,
            "min_height": null,
            "padding": null,
            "grid_auto_rows": null,
            "grid_gap": null,
            "max_width": null,
            "order": null,
            "_view_module_version": "1.2.0",
            "grid_template_areas": null,
            "object_position": null,
            "object_fit": null,
            "grid_auto_columns": null,
            "margin": null,
            "display": null,
            "left": null
          }
        },
        "b5ed1f88c9b64ee697ef48defebc31a2": {
          "model_module": "@jupyter-widgets/controls",
          "model_name": "FloatProgressModel",
          "state": {
            "_view_name": "ProgressView",
            "style": "IPY_MODEL_f9b86644e57e4eff8872533b291728b9",
            "_dom_classes": [],
            "description": "SNN:  20%",
            "_model_name": "FloatProgressModel",
            "bar_style": "danger",
            "max": 50,
            "_view_module": "@jupyter-widgets/controls",
            "_model_module_version": "1.5.0",
            "value": 10,
            "_view_count": null,
            "_view_module_version": "1.5.0",
            "orientation": "horizontal",
            "min": 0,
            "description_tooltip": null,
            "_model_module": "@jupyter-widgets/controls",
            "layout": "IPY_MODEL_1098c43859bc4d8093f90e2370527228"
          }
        },
        "e3b054d9b1994ec8a1f899c89ca1dd33": {
          "model_module": "@jupyter-widgets/controls",
          "model_name": "HTMLModel",
          "state": {
            "_view_name": "HTMLView",
            "style": "IPY_MODEL_35614c7e75df409480c37e35277b8a82",
            "_dom_classes": [],
            "description": "",
            "_model_name": "HTMLModel",
            "placeholder": "​",
            "_view_module": "@jupyter-widgets/controls",
            "_model_module_version": "1.5.0",
            "value": " 10/50 [11:56&lt;47:44, 71.61s/it, a_train_loss=0.693147, b_valid_loss=0.693147, c_best_loss=0.693016, d_train_metric=nan, e_valid_metric=nan, f_best_metric=-729.631620, g_es_counter=9, h_last_lr=0.04657183]",
            "_view_count": null,
            "_view_module_version": "1.5.0",
            "description_tooltip": null,
            "_model_module": "@jupyter-widgets/controls",
            "layout": "IPY_MODEL_0cb530c18e1041babbea5e111fa27c25"
          }
        },
        "f9b86644e57e4eff8872533b291728b9": {
          "model_module": "@jupyter-widgets/controls",
          "model_name": "ProgressStyleModel",
          "state": {
            "_view_name": "StyleView",
            "_model_name": "ProgressStyleModel",
            "description_width": "initial",
            "_view_module": "@jupyter-widgets/base",
            "_model_module_version": "1.5.0",
            "_view_count": null,
            "_view_module_version": "1.2.0",
            "bar_color": null,
            "_model_module": "@jupyter-widgets/controls"
          }
        },
        "1098c43859bc4d8093f90e2370527228": {
          "model_module": "@jupyter-widgets/base",
          "model_name": "LayoutModel",
          "state": {
            "_view_name": "LayoutView",
            "grid_template_rows": null,
            "right": null,
            "justify_content": null,
            "_view_module": "@jupyter-widgets/base",
            "overflow": null,
            "_model_module_version": "1.2.0",
            "_view_count": null,
            "flex_flow": null,
            "width": null,
            "min_width": null,
            "border": null,
            "align_items": null,
            "bottom": null,
            "_model_module": "@jupyter-widgets/base",
            "top": null,
            "grid_column": null,
            "overflow_y": null,
            "overflow_x": null,
            "grid_auto_flow": null,
            "grid_area": null,
            "grid_template_columns": null,
            "flex": null,
            "_model_name": "LayoutModel",
            "justify_items": null,
            "grid_row": null,
            "max_height": null,
            "align_content": null,
            "visibility": null,
            "align_self": null,
            "height": null,
            "min_height": null,
            "padding": null,
            "grid_auto_rows": null,
            "grid_gap": null,
            "max_width": null,
            "order": null,
            "_view_module_version": "1.2.0",
            "grid_template_areas": null,
            "object_position": null,
            "object_fit": null,
            "grid_auto_columns": null,
            "margin": null,
            "display": null,
            "left": null
          }
        },
        "35614c7e75df409480c37e35277b8a82": {
          "model_module": "@jupyter-widgets/controls",
          "model_name": "DescriptionStyleModel",
          "state": {
            "_view_name": "StyleView",
            "_model_name": "DescriptionStyleModel",
            "description_width": "",
            "_view_module": "@jupyter-widgets/base",
            "_model_module_version": "1.5.0",
            "_view_count": null,
            "_view_module_version": "1.2.0",
            "_model_module": "@jupyter-widgets/controls"
          }
        },
        "0cb530c18e1041babbea5e111fa27c25": {
          "model_module": "@jupyter-widgets/base",
          "model_name": "LayoutModel",
          "state": {
            "_view_name": "LayoutView",
            "grid_template_rows": null,
            "right": null,
            "justify_content": null,
            "_view_module": "@jupyter-widgets/base",
            "overflow": null,
            "_model_module_version": "1.2.0",
            "_view_count": null,
            "flex_flow": null,
            "width": null,
            "min_width": null,
            "border": null,
            "align_items": null,
            "bottom": null,
            "_model_module": "@jupyter-widgets/base",
            "top": null,
            "grid_column": null,
            "overflow_y": null,
            "overflow_x": null,
            "grid_auto_flow": null,
            "grid_area": null,
            "grid_template_columns": null,
            "flex": null,
            "_model_name": "LayoutModel",
            "justify_items": null,
            "grid_row": null,
            "max_height": null,
            "align_content": null,
            "visibility": null,
            "align_self": null,
            "height": null,
            "min_height": null,
            "padding": null,
            "grid_auto_rows": null,
            "grid_gap": null,
            "max_width": null,
            "order": null,
            "_view_module_version": "1.2.0",
            "grid_template_areas": null,
            "object_position": null,
            "object_fit": null,
            "grid_auto_columns": null,
            "margin": null,
            "display": null,
            "left": null
          }
        },
        "76e77b2379544e999a1d7fa313b0e551": {
          "model_module": "@jupyter-widgets/controls",
          "model_name": "HBoxModel",
          "state": {
            "_view_name": "HBoxView",
            "_dom_classes": [],
            "_model_name": "HBoxModel",
            "_view_module": "@jupyter-widgets/controls",
            "_model_module_version": "1.5.0",
            "_view_count": null,
            "_view_module_version": "1.5.0",
            "box_style": "",
            "layout": "IPY_MODEL_81b3cecdfba248ad9985e07de014a1eb",
            "_model_module": "@jupyter-widgets/controls",
            "children": [
              "IPY_MODEL_d12c7291dd144cd2a292f825ab12b546",
              "IPY_MODEL_04f9a05b204f4a3995755cd57d959e7c"
            ]
          }
        },
        "81b3cecdfba248ad9985e07de014a1eb": {
          "model_module": "@jupyter-widgets/base",
          "model_name": "LayoutModel",
          "state": {
            "_view_name": "LayoutView",
            "grid_template_rows": null,
            "right": null,
            "justify_content": null,
            "_view_module": "@jupyter-widgets/base",
            "overflow": null,
            "_model_module_version": "1.2.0",
            "_view_count": null,
            "flex_flow": null,
            "width": null,
            "min_width": null,
            "border": null,
            "align_items": null,
            "bottom": null,
            "_model_module": "@jupyter-widgets/base",
            "top": null,
            "grid_column": null,
            "overflow_y": null,
            "overflow_x": null,
            "grid_auto_flow": null,
            "grid_area": null,
            "grid_template_columns": null,
            "flex": null,
            "_model_name": "LayoutModel",
            "justify_items": null,
            "grid_row": null,
            "max_height": null,
            "align_content": null,
            "visibility": null,
            "align_self": null,
            "height": null,
            "min_height": null,
            "padding": null,
            "grid_auto_rows": null,
            "grid_gap": null,
            "max_width": null,
            "order": null,
            "_view_module_version": "1.2.0",
            "grid_template_areas": null,
            "object_position": null,
            "object_fit": null,
            "grid_auto_columns": null,
            "margin": null,
            "display": null,
            "left": null
          }
        },
        "d12c7291dd144cd2a292f825ab12b546": {
          "model_module": "@jupyter-widgets/controls",
          "model_name": "FloatProgressModel",
          "state": {
            "_view_name": "ProgressView",
            "style": "IPY_MODEL_5f71065f1ba1451e851dad1bcc492b93",
            "_dom_classes": [],
            "description": "SNN:  94%",
            "_model_name": "FloatProgressModel",
            "bar_style": "danger",
            "max": 50,
            "_view_module": "@jupyter-widgets/controls",
            "_model_module_version": "1.5.0",
            "value": 47,
            "_view_count": null,
            "_view_module_version": "1.5.0",
            "orientation": "horizontal",
            "min": 0,
            "description_tooltip": null,
            "_model_module": "@jupyter-widgets/controls",
            "layout": "IPY_MODEL_64c863c1641a49cba390a3d0a1f31acf"
          }
        },
        "04f9a05b204f4a3995755cd57d959e7c": {
          "model_module": "@jupyter-widgets/controls",
          "model_name": "HTMLModel",
          "state": {
            "_view_name": "HTMLView",
            "style": "IPY_MODEL_45a49a03728a4ce081d74367be214c27",
            "_dom_classes": [],
            "description": "",
            "_model_name": "HTMLModel",
            "placeholder": "​",
            "_view_module": "@jupyter-widgets/controls",
            "_model_module_version": "1.5.0",
            "value": " 47/50 [36:50&lt;02:21, 47.02s/it, a_train_loss=0.687157, b_valid_loss=0.687206, c_best_loss=0.686716, d_train_metric=-6685.514786, e_valid_metric=-2488.191571, f_best_metric=-2693.577136, g_es_counter=9, h_last_lr=0.01098176]",
            "_view_count": null,
            "_view_module_version": "1.5.0",
            "description_tooltip": null,
            "_model_module": "@jupyter-widgets/controls",
            "layout": "IPY_MODEL_78bb1ec2e8184d2497157ad963e2fe42"
          }
        },
        "5f71065f1ba1451e851dad1bcc492b93": {
          "model_module": "@jupyter-widgets/controls",
          "model_name": "ProgressStyleModel",
          "state": {
            "_view_name": "StyleView",
            "_model_name": "ProgressStyleModel",
            "description_width": "initial",
            "_view_module": "@jupyter-widgets/base",
            "_model_module_version": "1.5.0",
            "_view_count": null,
            "_view_module_version": "1.2.0",
            "bar_color": null,
            "_model_module": "@jupyter-widgets/controls"
          }
        },
        "64c863c1641a49cba390a3d0a1f31acf": {
          "model_module": "@jupyter-widgets/base",
          "model_name": "LayoutModel",
          "state": {
            "_view_name": "LayoutView",
            "grid_template_rows": null,
            "right": null,
            "justify_content": null,
            "_view_module": "@jupyter-widgets/base",
            "overflow": null,
            "_model_module_version": "1.2.0",
            "_view_count": null,
            "flex_flow": null,
            "width": null,
            "min_width": null,
            "border": null,
            "align_items": null,
            "bottom": null,
            "_model_module": "@jupyter-widgets/base",
            "top": null,
            "grid_column": null,
            "overflow_y": null,
            "overflow_x": null,
            "grid_auto_flow": null,
            "grid_area": null,
            "grid_template_columns": null,
            "flex": null,
            "_model_name": "LayoutModel",
            "justify_items": null,
            "grid_row": null,
            "max_height": null,
            "align_content": null,
            "visibility": null,
            "align_self": null,
            "height": null,
            "min_height": null,
            "padding": null,
            "grid_auto_rows": null,
            "grid_gap": null,
            "max_width": null,
            "order": null,
            "_view_module_version": "1.2.0",
            "grid_template_areas": null,
            "object_position": null,
            "object_fit": null,
            "grid_auto_columns": null,
            "margin": null,
            "display": null,
            "left": null
          }
        },
        "45a49a03728a4ce081d74367be214c27": {
          "model_module": "@jupyter-widgets/controls",
          "model_name": "DescriptionStyleModel",
          "state": {
            "_view_name": "StyleView",
            "_model_name": "DescriptionStyleModel",
            "description_width": "",
            "_view_module": "@jupyter-widgets/base",
            "_model_module_version": "1.5.0",
            "_view_count": null,
            "_view_module_version": "1.2.0",
            "_model_module": "@jupyter-widgets/controls"
          }
        },
        "78bb1ec2e8184d2497157ad963e2fe42": {
          "model_module": "@jupyter-widgets/base",
          "model_name": "LayoutModel",
          "state": {
            "_view_name": "LayoutView",
            "grid_template_rows": null,
            "right": null,
            "justify_content": null,
            "_view_module": "@jupyter-widgets/base",
            "overflow": null,
            "_model_module_version": "1.2.0",
            "_view_count": null,
            "flex_flow": null,
            "width": null,
            "min_width": null,
            "border": null,
            "align_items": null,
            "bottom": null,
            "_model_module": "@jupyter-widgets/base",
            "top": null,
            "grid_column": null,
            "overflow_y": null,
            "overflow_x": null,
            "grid_auto_flow": null,
            "grid_area": null,
            "grid_template_columns": null,
            "flex": null,
            "_model_name": "LayoutModel",
            "justify_items": null,
            "grid_row": null,
            "max_height": null,
            "align_content": null,
            "visibility": null,
            "align_self": null,
            "height": null,
            "min_height": null,
            "padding": null,
            "grid_auto_rows": null,
            "grid_gap": null,
            "max_width": null,
            "order": null,
            "_view_module_version": "1.2.0",
            "grid_template_areas": null,
            "object_position": null,
            "object_fit": null,
            "grid_auto_columns": null,
            "margin": null,
            "display": null,
            "left": null
          }
        },
        "0af913b1970741379f4c841e353e786f": {
          "model_module": "@jupyter-widgets/controls",
          "model_name": "HBoxModel",
          "state": {
            "_view_name": "HBoxView",
            "_dom_classes": [],
            "_model_name": "HBoxModel",
            "_view_module": "@jupyter-widgets/controls",
            "_model_module_version": "1.5.0",
            "_view_count": null,
            "_view_module_version": "1.5.0",
            "box_style": "",
            "layout": "IPY_MODEL_7910f6b6dee84d13bb3c363828ced05b",
            "_model_module": "@jupyter-widgets/controls",
            "children": [
              "IPY_MODEL_ab4f9a5ea32d48ff84adb1f0457899a4",
              "IPY_MODEL_9972f20d17ca4f81bf0254cfa6e97f7c"
            ]
          }
        },
        "7910f6b6dee84d13bb3c363828ced05b": {
          "model_module": "@jupyter-widgets/base",
          "model_name": "LayoutModel",
          "state": {
            "_view_name": "LayoutView",
            "grid_template_rows": null,
            "right": null,
            "justify_content": null,
            "_view_module": "@jupyter-widgets/base",
            "overflow": null,
            "_model_module_version": "1.2.0",
            "_view_count": null,
            "flex_flow": null,
            "width": null,
            "min_width": null,
            "border": null,
            "align_items": null,
            "bottom": null,
            "_model_module": "@jupyter-widgets/base",
            "top": null,
            "grid_column": null,
            "overflow_y": null,
            "overflow_x": null,
            "grid_auto_flow": null,
            "grid_area": null,
            "grid_template_columns": null,
            "flex": null,
            "_model_name": "LayoutModel",
            "justify_items": null,
            "grid_row": null,
            "max_height": null,
            "align_content": null,
            "visibility": null,
            "align_self": null,
            "height": null,
            "min_height": null,
            "padding": null,
            "grid_auto_rows": null,
            "grid_gap": null,
            "max_width": null,
            "order": null,
            "_view_module_version": "1.2.0",
            "grid_template_areas": null,
            "object_position": null,
            "object_fit": null,
            "grid_auto_columns": null,
            "margin": null,
            "display": null,
            "left": null
          }
        },
        "ab4f9a5ea32d48ff84adb1f0457899a4": {
          "model_module": "@jupyter-widgets/controls",
          "model_name": "FloatProgressModel",
          "state": {
            "_view_name": "ProgressView",
            "style": "IPY_MODEL_8e030c885156433692ecbabe0a1193e5",
            "_dom_classes": [],
            "description": "SNN:  42%",
            "_model_name": "FloatProgressModel",
            "bar_style": "danger",
            "max": 50,
            "_view_module": "@jupyter-widgets/controls",
            "_model_module_version": "1.5.0",
            "value": 21,
            "_view_count": null,
            "_view_module_version": "1.5.0",
            "orientation": "horizontal",
            "min": 0,
            "description_tooltip": null,
            "_model_module": "@jupyter-widgets/controls",
            "layout": "IPY_MODEL_30dc20dddb444ca2bddd5ac6204f5b79"
          }
        },
        "9972f20d17ca4f81bf0254cfa6e97f7c": {
          "model_module": "@jupyter-widgets/controls",
          "model_name": "HTMLModel",
          "state": {
            "_view_name": "HTMLView",
            "style": "IPY_MODEL_1c2b658f948444c8b0c1b64bbfeb9ea3",
            "_dom_classes": [],
            "description": "",
            "_model_name": "HTMLModel",
            "placeholder": "​",
            "_view_module": "@jupyter-widgets/controls",
            "_model_module_version": "1.5.0",
            "value": " 21/50 [23:44&lt;32:46, 67.81s/it, a_train_loss=0.683099, b_valid_loss=0.687419, c_best_loss=0.685999, d_train_metric=-10365.180230, e_valid_metric=-2411.898170, f_best_metric=-2403.155585, g_es_counter=9, h_last_lr=0.09901504]",
            "_view_count": null,
            "_view_module_version": "1.5.0",
            "description_tooltip": null,
            "_model_module": "@jupyter-widgets/controls",
            "layout": "IPY_MODEL_1846f963acd144e48f8a6756d7b29a1a"
          }
        },
        "8e030c885156433692ecbabe0a1193e5": {
          "model_module": "@jupyter-widgets/controls",
          "model_name": "ProgressStyleModel",
          "state": {
            "_view_name": "StyleView",
            "_model_name": "ProgressStyleModel",
            "description_width": "initial",
            "_view_module": "@jupyter-widgets/base",
            "_model_module_version": "1.5.0",
            "_view_count": null,
            "_view_module_version": "1.2.0",
            "bar_color": null,
            "_model_module": "@jupyter-widgets/controls"
          }
        },
        "30dc20dddb444ca2bddd5ac6204f5b79": {
          "model_module": "@jupyter-widgets/base",
          "model_name": "LayoutModel",
          "state": {
            "_view_name": "LayoutView",
            "grid_template_rows": null,
            "right": null,
            "justify_content": null,
            "_view_module": "@jupyter-widgets/base",
            "overflow": null,
            "_model_module_version": "1.2.0",
            "_view_count": null,
            "flex_flow": null,
            "width": null,
            "min_width": null,
            "border": null,
            "align_items": null,
            "bottom": null,
            "_model_module": "@jupyter-widgets/base",
            "top": null,
            "grid_column": null,
            "overflow_y": null,
            "overflow_x": null,
            "grid_auto_flow": null,
            "grid_area": null,
            "grid_template_columns": null,
            "flex": null,
            "_model_name": "LayoutModel",
            "justify_items": null,
            "grid_row": null,
            "max_height": null,
            "align_content": null,
            "visibility": null,
            "align_self": null,
            "height": null,
            "min_height": null,
            "padding": null,
            "grid_auto_rows": null,
            "grid_gap": null,
            "max_width": null,
            "order": null,
            "_view_module_version": "1.2.0",
            "grid_template_areas": null,
            "object_position": null,
            "object_fit": null,
            "grid_auto_columns": null,
            "margin": null,
            "display": null,
            "left": null
          }
        },
        "1c2b658f948444c8b0c1b64bbfeb9ea3": {
          "model_module": "@jupyter-widgets/controls",
          "model_name": "DescriptionStyleModel",
          "state": {
            "_view_name": "StyleView",
            "_model_name": "DescriptionStyleModel",
            "description_width": "",
            "_view_module": "@jupyter-widgets/base",
            "_model_module_version": "1.5.0",
            "_view_count": null,
            "_view_module_version": "1.2.0",
            "_model_module": "@jupyter-widgets/controls"
          }
        },
        "1846f963acd144e48f8a6756d7b29a1a": {
          "model_module": "@jupyter-widgets/base",
          "model_name": "LayoutModel",
          "state": {
            "_view_name": "LayoutView",
            "grid_template_rows": null,
            "right": null,
            "justify_content": null,
            "_view_module": "@jupyter-widgets/base",
            "overflow": null,
            "_model_module_version": "1.2.0",
            "_view_count": null,
            "flex_flow": null,
            "width": null,
            "min_width": null,
            "border": null,
            "align_items": null,
            "bottom": null,
            "_model_module": "@jupyter-widgets/base",
            "top": null,
            "grid_column": null,
            "overflow_y": null,
            "overflow_x": null,
            "grid_auto_flow": null,
            "grid_area": null,
            "grid_template_columns": null,
            "flex": null,
            "_model_name": "LayoutModel",
            "justify_items": null,
            "grid_row": null,
            "max_height": null,
            "align_content": null,
            "visibility": null,
            "align_self": null,
            "height": null,
            "min_height": null,
            "padding": null,
            "grid_auto_rows": null,
            "grid_gap": null,
            "max_width": null,
            "order": null,
            "_view_module_version": "1.2.0",
            "grid_template_areas": null,
            "object_position": null,
            "object_fit": null,
            "grid_auto_columns": null,
            "margin": null,
            "display": null,
            "left": null
          }
        },
        "3ee89473170f4dc9a5ef10a30f775dc5": {
          "model_module": "@jupyter-widgets/controls",
          "model_name": "HBoxModel",
          "state": {
            "_view_name": "HBoxView",
            "_dom_classes": [],
            "_model_name": "HBoxModel",
            "_view_module": "@jupyter-widgets/controls",
            "_model_module_version": "1.5.0",
            "_view_count": null,
            "_view_module_version": "1.5.0",
            "box_style": "",
            "layout": "IPY_MODEL_472b63efc10643558b3ce0498206916e",
            "_model_module": "@jupyter-widgets/controls",
            "children": [
              "IPY_MODEL_8212939f4d074d4987982850beddec4b",
              "IPY_MODEL_5a8007bf8d80400e92b9d4171e4a9beb"
            ]
          }
        },
        "472b63efc10643558b3ce0498206916e": {
          "model_module": "@jupyter-widgets/base",
          "model_name": "LayoutModel",
          "state": {
            "_view_name": "LayoutView",
            "grid_template_rows": null,
            "right": null,
            "justify_content": null,
            "_view_module": "@jupyter-widgets/base",
            "overflow": null,
            "_model_module_version": "1.2.0",
            "_view_count": null,
            "flex_flow": null,
            "width": null,
            "min_width": null,
            "border": null,
            "align_items": null,
            "bottom": null,
            "_model_module": "@jupyter-widgets/base",
            "top": null,
            "grid_column": null,
            "overflow_y": null,
            "overflow_x": null,
            "grid_auto_flow": null,
            "grid_area": null,
            "grid_template_columns": null,
            "flex": null,
            "_model_name": "LayoutModel",
            "justify_items": null,
            "grid_row": null,
            "max_height": null,
            "align_content": null,
            "visibility": null,
            "align_self": null,
            "height": null,
            "min_height": null,
            "padding": null,
            "grid_auto_rows": null,
            "grid_gap": null,
            "max_width": null,
            "order": null,
            "_view_module_version": "1.2.0",
            "grid_template_areas": null,
            "object_position": null,
            "object_fit": null,
            "grid_auto_columns": null,
            "margin": null,
            "display": null,
            "left": null
          }
        },
        "8212939f4d074d4987982850beddec4b": {
          "model_module": "@jupyter-widgets/controls",
          "model_name": "FloatProgressModel",
          "state": {
            "_view_name": "ProgressView",
            "style": "IPY_MODEL_446767e6e13a4020a3b3faee0e80a886",
            "_dom_classes": [],
            "description": "SNN:  42%",
            "_model_name": "FloatProgressModel",
            "bar_style": "danger",
            "max": 50,
            "_view_module": "@jupyter-widgets/controls",
            "_model_module_version": "1.5.0",
            "value": 21,
            "_view_count": null,
            "_view_module_version": "1.5.0",
            "orientation": "horizontal",
            "min": 0,
            "description_tooltip": null,
            "_model_module": "@jupyter-widgets/controls",
            "layout": "IPY_MODEL_41a71ce0bbff427f8e59001f9d040d95"
          }
        },
        "5a8007bf8d80400e92b9d4171e4a9beb": {
          "model_module": "@jupyter-widgets/controls",
          "model_name": "HTMLModel",
          "state": {
            "_view_name": "HTMLView",
            "style": "IPY_MODEL_d0348b1c27a9450cbd4ad8c08d56ba67",
            "_dom_classes": [],
            "description": "",
            "_model_name": "HTMLModel",
            "placeholder": "​",
            "_view_module": "@jupyter-widgets/controls",
            "_model_module_version": "1.5.0",
            "value": " 21/50 [23:56&lt;33:03, 68.41s/it, a_train_loss=0.680762, b_valid_loss=0.687471, c_best_loss=0.686087, d_train_metric=-12597.920942, e_valid_metric=-2254.418300, f_best_metric=-2548.799150, g_es_counter=9, h_last_lr=0.09684293]",
            "_view_count": null,
            "_view_module_version": "1.5.0",
            "description_tooltip": null,
            "_model_module": "@jupyter-widgets/controls",
            "layout": "IPY_MODEL_fe9f3664cfc042fda3467f9aa9b60469"
          }
        },
        "446767e6e13a4020a3b3faee0e80a886": {
          "model_module": "@jupyter-widgets/controls",
          "model_name": "ProgressStyleModel",
          "state": {
            "_view_name": "StyleView",
            "_model_name": "ProgressStyleModel",
            "description_width": "initial",
            "_view_module": "@jupyter-widgets/base",
            "_model_module_version": "1.5.0",
            "_view_count": null,
            "_view_module_version": "1.2.0",
            "bar_color": null,
            "_model_module": "@jupyter-widgets/controls"
          }
        },
        "41a71ce0bbff427f8e59001f9d040d95": {
          "model_module": "@jupyter-widgets/base",
          "model_name": "LayoutModel",
          "state": {
            "_view_name": "LayoutView",
            "grid_template_rows": null,
            "right": null,
            "justify_content": null,
            "_view_module": "@jupyter-widgets/base",
            "overflow": null,
            "_model_module_version": "1.2.0",
            "_view_count": null,
            "flex_flow": null,
            "width": null,
            "min_width": null,
            "border": null,
            "align_items": null,
            "bottom": null,
            "_model_module": "@jupyter-widgets/base",
            "top": null,
            "grid_column": null,
            "overflow_y": null,
            "overflow_x": null,
            "grid_auto_flow": null,
            "grid_area": null,
            "grid_template_columns": null,
            "flex": null,
            "_model_name": "LayoutModel",
            "justify_items": null,
            "grid_row": null,
            "max_height": null,
            "align_content": null,
            "visibility": null,
            "align_self": null,
            "height": null,
            "min_height": null,
            "padding": null,
            "grid_auto_rows": null,
            "grid_gap": null,
            "max_width": null,
            "order": null,
            "_view_module_version": "1.2.0",
            "grid_template_areas": null,
            "object_position": null,
            "object_fit": null,
            "grid_auto_columns": null,
            "margin": null,
            "display": null,
            "left": null
          }
        },
        "d0348b1c27a9450cbd4ad8c08d56ba67": {
          "model_module": "@jupyter-widgets/controls",
          "model_name": "DescriptionStyleModel",
          "state": {
            "_view_name": "StyleView",
            "_model_name": "DescriptionStyleModel",
            "description_width": "",
            "_view_module": "@jupyter-widgets/base",
            "_model_module_version": "1.5.0",
            "_view_count": null,
            "_view_module_version": "1.2.0",
            "_model_module": "@jupyter-widgets/controls"
          }
        },
        "fe9f3664cfc042fda3467f9aa9b60469": {
          "model_module": "@jupyter-widgets/base",
          "model_name": "LayoutModel",
          "state": {
            "_view_name": "LayoutView",
            "grid_template_rows": null,
            "right": null,
            "justify_content": null,
            "_view_module": "@jupyter-widgets/base",
            "overflow": null,
            "_model_module_version": "1.2.0",
            "_view_count": null,
            "flex_flow": null,
            "width": null,
            "min_width": null,
            "border": null,
            "align_items": null,
            "bottom": null,
            "_model_module": "@jupyter-widgets/base",
            "top": null,
            "grid_column": null,
            "overflow_y": null,
            "overflow_x": null,
            "grid_auto_flow": null,
            "grid_area": null,
            "grid_template_columns": null,
            "flex": null,
            "_model_name": "LayoutModel",
            "justify_items": null,
            "grid_row": null,
            "max_height": null,
            "align_content": null,
            "visibility": null,
            "align_self": null,
            "height": null,
            "min_height": null,
            "padding": null,
            "grid_auto_rows": null,
            "grid_gap": null,
            "max_width": null,
            "order": null,
            "_view_module_version": "1.2.0",
            "grid_template_areas": null,
            "object_position": null,
            "object_fit": null,
            "grid_auto_columns": null,
            "margin": null,
            "display": null,
            "left": null
          }
        },
        "5542749612414b78bcab7c54603110ce": {
          "model_module": "@jupyter-widgets/controls",
          "model_name": "HBoxModel",
          "state": {
            "_view_name": "HBoxView",
            "_dom_classes": [],
            "_model_name": "HBoxModel",
            "_view_module": "@jupyter-widgets/controls",
            "_model_module_version": "1.5.0",
            "_view_count": null,
            "_view_module_version": "1.5.0",
            "box_style": "",
            "layout": "IPY_MODEL_db4d350b9c5b4c87bf2f9f3bc68527a2",
            "_model_module": "@jupyter-widgets/controls",
            "children": [
              "IPY_MODEL_40c2c5f583cb4a9bb93e67d55ccd3007",
              "IPY_MODEL_20b7ca6900e84230803a7085bf3771d6"
            ]
          }
        },
        "db4d350b9c5b4c87bf2f9f3bc68527a2": {
          "model_module": "@jupyter-widgets/base",
          "model_name": "LayoutModel",
          "state": {
            "_view_name": "LayoutView",
            "grid_template_rows": null,
            "right": null,
            "justify_content": null,
            "_view_module": "@jupyter-widgets/base",
            "overflow": null,
            "_model_module_version": "1.2.0",
            "_view_count": null,
            "flex_flow": null,
            "width": null,
            "min_width": null,
            "border": null,
            "align_items": null,
            "bottom": null,
            "_model_module": "@jupyter-widgets/base",
            "top": null,
            "grid_column": null,
            "overflow_y": null,
            "overflow_x": null,
            "grid_auto_flow": null,
            "grid_area": null,
            "grid_template_columns": null,
            "flex": null,
            "_model_name": "LayoutModel",
            "justify_items": null,
            "grid_row": null,
            "max_height": null,
            "align_content": null,
            "visibility": null,
            "align_self": null,
            "height": null,
            "min_height": null,
            "padding": null,
            "grid_auto_rows": null,
            "grid_gap": null,
            "max_width": null,
            "order": null,
            "_view_module_version": "1.2.0",
            "grid_template_areas": null,
            "object_position": null,
            "object_fit": null,
            "grid_auto_columns": null,
            "margin": null,
            "display": null,
            "left": null
          }
        },
        "40c2c5f583cb4a9bb93e67d55ccd3007": {
          "model_module": "@jupyter-widgets/controls",
          "model_name": "FloatProgressModel",
          "state": {
            "_view_name": "ProgressView",
            "style": "IPY_MODEL_8ee0ea6bec0a4cad9a21a5d38bd57eb8",
            "_dom_classes": [],
            "description": "SNN:  40%",
            "_model_name": "FloatProgressModel",
            "bar_style": "danger",
            "max": 50,
            "_view_module": "@jupyter-widgets/controls",
            "_model_module_version": "1.5.0",
            "value": 20,
            "_view_count": null,
            "_view_module_version": "1.5.0",
            "orientation": "horizontal",
            "min": 0,
            "description_tooltip": null,
            "_model_module": "@jupyter-widgets/controls",
            "layout": "IPY_MODEL_2a361ffb39384c418427d7fa9bd986df"
          }
        },
        "20b7ca6900e84230803a7085bf3771d6": {
          "model_module": "@jupyter-widgets/controls",
          "model_name": "HTMLModel",
          "state": {
            "_view_name": "HTMLView",
            "style": "IPY_MODEL_24d7752e7bb0423bb65e7d42f76837c0",
            "_dom_classes": [],
            "description": "",
            "_model_name": "HTMLModel",
            "placeholder": "​",
            "_view_module": "@jupyter-widgets/controls",
            "_model_module_version": "1.5.0",
            "value": " 20/50 [26:09&lt;39:14, 78.50s/it, a_train_loss=0.670248, b_valid_loss=0.694253, c_best_loss=0.685357, d_train_metric=-18095.523692, e_valid_metric=-1783.021872, f_best_metric=-2596.094915, g_es_counter=9, h_last_lr=0.09362682]",
            "_view_count": null,
            "_view_module_version": "1.5.0",
            "description_tooltip": null,
            "_model_module": "@jupyter-widgets/controls",
            "layout": "IPY_MODEL_afefb1d637394d2fa9e97899525472de"
          }
        },
        "8ee0ea6bec0a4cad9a21a5d38bd57eb8": {
          "model_module": "@jupyter-widgets/controls",
          "model_name": "ProgressStyleModel",
          "state": {
            "_view_name": "StyleView",
            "_model_name": "ProgressStyleModel",
            "description_width": "initial",
            "_view_module": "@jupyter-widgets/base",
            "_model_module_version": "1.5.0",
            "_view_count": null,
            "_view_module_version": "1.2.0",
            "bar_color": null,
            "_model_module": "@jupyter-widgets/controls"
          }
        },
        "2a361ffb39384c418427d7fa9bd986df": {
          "model_module": "@jupyter-widgets/base",
          "model_name": "LayoutModel",
          "state": {
            "_view_name": "LayoutView",
            "grid_template_rows": null,
            "right": null,
            "justify_content": null,
            "_view_module": "@jupyter-widgets/base",
            "overflow": null,
            "_model_module_version": "1.2.0",
            "_view_count": null,
            "flex_flow": null,
            "width": null,
            "min_width": null,
            "border": null,
            "align_items": null,
            "bottom": null,
            "_model_module": "@jupyter-widgets/base",
            "top": null,
            "grid_column": null,
            "overflow_y": null,
            "overflow_x": null,
            "grid_auto_flow": null,
            "grid_area": null,
            "grid_template_columns": null,
            "flex": null,
            "_model_name": "LayoutModel",
            "justify_items": null,
            "grid_row": null,
            "max_height": null,
            "align_content": null,
            "visibility": null,
            "align_self": null,
            "height": null,
            "min_height": null,
            "padding": null,
            "grid_auto_rows": null,
            "grid_gap": null,
            "max_width": null,
            "order": null,
            "_view_module_version": "1.2.0",
            "grid_template_areas": null,
            "object_position": null,
            "object_fit": null,
            "grid_auto_columns": null,
            "margin": null,
            "display": null,
            "left": null
          }
        },
        "24d7752e7bb0423bb65e7d42f76837c0": {
          "model_module": "@jupyter-widgets/controls",
          "model_name": "DescriptionStyleModel",
          "state": {
            "_view_name": "StyleView",
            "_model_name": "DescriptionStyleModel",
            "description_width": "",
            "_view_module": "@jupyter-widgets/base",
            "_model_module_version": "1.5.0",
            "_view_count": null,
            "_view_module_version": "1.2.0",
            "_model_module": "@jupyter-widgets/controls"
          }
        },
        "afefb1d637394d2fa9e97899525472de": {
          "model_module": "@jupyter-widgets/base",
          "model_name": "LayoutModel",
          "state": {
            "_view_name": "LayoutView",
            "grid_template_rows": null,
            "right": null,
            "justify_content": null,
            "_view_module": "@jupyter-widgets/base",
            "overflow": null,
            "_model_module_version": "1.2.0",
            "_view_count": null,
            "flex_flow": null,
            "width": null,
            "min_width": null,
            "border": null,
            "align_items": null,
            "bottom": null,
            "_model_module": "@jupyter-widgets/base",
            "top": null,
            "grid_column": null,
            "overflow_y": null,
            "overflow_x": null,
            "grid_auto_flow": null,
            "grid_area": null,
            "grid_template_columns": null,
            "flex": null,
            "_model_name": "LayoutModel",
            "justify_items": null,
            "grid_row": null,
            "max_height": null,
            "align_content": null,
            "visibility": null,
            "align_self": null,
            "height": null,
            "min_height": null,
            "padding": null,
            "grid_auto_rows": null,
            "grid_gap": null,
            "max_width": null,
            "order": null,
            "_view_module_version": "1.2.0",
            "grid_template_areas": null,
            "object_position": null,
            "object_fit": null,
            "grid_auto_columns": null,
            "margin": null,
            "display": null,
            "left": null
          }
        },
        "815ab69293b7418ea26e648d67a1952e": {
          "model_module": "@jupyter-widgets/controls",
          "model_name": "HBoxModel",
          "state": {
            "_view_name": "HBoxView",
            "_dom_classes": [],
            "_model_name": "HBoxModel",
            "_view_module": "@jupyter-widgets/controls",
            "_model_module_version": "1.5.0",
            "_view_count": null,
            "_view_module_version": "1.5.0",
            "box_style": "",
            "layout": "IPY_MODEL_6f5f59f0aa4a49eba28dcf948825f471",
            "_model_module": "@jupyter-widgets/controls",
            "children": [
              "IPY_MODEL_29119cceac274b4b95682fae3383de0e",
              "IPY_MODEL_53031acef8a74b6b8b309d63c7cd14a4"
            ]
          }
        },
        "6f5f59f0aa4a49eba28dcf948825f471": {
          "model_module": "@jupyter-widgets/base",
          "model_name": "LayoutModel",
          "state": {
            "_view_name": "LayoutView",
            "grid_template_rows": null,
            "right": null,
            "justify_content": null,
            "_view_module": "@jupyter-widgets/base",
            "overflow": null,
            "_model_module_version": "1.2.0",
            "_view_count": null,
            "flex_flow": null,
            "width": null,
            "min_width": null,
            "border": null,
            "align_items": null,
            "bottom": null,
            "_model_module": "@jupyter-widgets/base",
            "top": null,
            "grid_column": null,
            "overflow_y": null,
            "overflow_x": null,
            "grid_auto_flow": null,
            "grid_area": null,
            "grid_template_columns": null,
            "flex": null,
            "_model_name": "LayoutModel",
            "justify_items": null,
            "grid_row": null,
            "max_height": null,
            "align_content": null,
            "visibility": null,
            "align_self": null,
            "height": null,
            "min_height": null,
            "padding": null,
            "grid_auto_rows": null,
            "grid_gap": null,
            "max_width": null,
            "order": null,
            "_view_module_version": "1.2.0",
            "grid_template_areas": null,
            "object_position": null,
            "object_fit": null,
            "grid_auto_columns": null,
            "margin": null,
            "display": null,
            "left": null
          }
        },
        "29119cceac274b4b95682fae3383de0e": {
          "model_module": "@jupyter-widgets/controls",
          "model_name": "FloatProgressModel",
          "state": {
            "_view_name": "ProgressView",
            "style": "IPY_MODEL_c2138242c186479b918274dd137b04c4",
            "_dom_classes": [],
            "description": "SNN:  20%",
            "_model_name": "FloatProgressModel",
            "bar_style": "danger",
            "max": 50,
            "_view_module": "@jupyter-widgets/controls",
            "_model_module_version": "1.5.0",
            "value": 10,
            "_view_count": null,
            "_view_module_version": "1.5.0",
            "orientation": "horizontal",
            "min": 0,
            "description_tooltip": null,
            "_model_module": "@jupyter-widgets/controls",
            "layout": "IPY_MODEL_3c4cc5baa4fa40b2a8cee00b3377c266"
          }
        },
        "53031acef8a74b6b8b309d63c7cd14a4": {
          "model_module": "@jupyter-widgets/controls",
          "model_name": "HTMLModel",
          "state": {
            "_view_name": "HTMLView",
            "style": "IPY_MODEL_efb3312bb9564ed0bd093dec7daa0028",
            "_dom_classes": [],
            "description": "",
            "_model_name": "HTMLModel",
            "placeholder": "​",
            "_view_module": "@jupyter-widgets/controls",
            "_model_module_version": "1.5.0",
            "value": " 10/50 [13:36&lt;54:25, 81.65s/it, a_train_loss=0.693147, b_valid_loss=0.693147, c_best_loss=0.691752, d_train_metric=nan, e_valid_metric=nan, f_best_metric=-1575.542637, g_es_counter=9, h_last_lr=0.06204582]",
            "_view_count": null,
            "_view_module_version": "1.5.0",
            "description_tooltip": null,
            "_model_module": "@jupyter-widgets/controls",
            "layout": "IPY_MODEL_f573ca08252f4e0f968e9a07875a6700"
          }
        },
        "c2138242c186479b918274dd137b04c4": {
          "model_module": "@jupyter-widgets/controls",
          "model_name": "ProgressStyleModel",
          "state": {
            "_view_name": "StyleView",
            "_model_name": "ProgressStyleModel",
            "description_width": "initial",
            "_view_module": "@jupyter-widgets/base",
            "_model_module_version": "1.5.0",
            "_view_count": null,
            "_view_module_version": "1.2.0",
            "bar_color": null,
            "_model_module": "@jupyter-widgets/controls"
          }
        },
        "3c4cc5baa4fa40b2a8cee00b3377c266": {
          "model_module": "@jupyter-widgets/base",
          "model_name": "LayoutModel",
          "state": {
            "_view_name": "LayoutView",
            "grid_template_rows": null,
            "right": null,
            "justify_content": null,
            "_view_module": "@jupyter-widgets/base",
            "overflow": null,
            "_model_module_version": "1.2.0",
            "_view_count": null,
            "flex_flow": null,
            "width": null,
            "min_width": null,
            "border": null,
            "align_items": null,
            "bottom": null,
            "_model_module": "@jupyter-widgets/base",
            "top": null,
            "grid_column": null,
            "overflow_y": null,
            "overflow_x": null,
            "grid_auto_flow": null,
            "grid_area": null,
            "grid_template_columns": null,
            "flex": null,
            "_model_name": "LayoutModel",
            "justify_items": null,
            "grid_row": null,
            "max_height": null,
            "align_content": null,
            "visibility": null,
            "align_self": null,
            "height": null,
            "min_height": null,
            "padding": null,
            "grid_auto_rows": null,
            "grid_gap": null,
            "max_width": null,
            "order": null,
            "_view_module_version": "1.2.0",
            "grid_template_areas": null,
            "object_position": null,
            "object_fit": null,
            "grid_auto_columns": null,
            "margin": null,
            "display": null,
            "left": null
          }
        },
        "efb3312bb9564ed0bd093dec7daa0028": {
          "model_module": "@jupyter-widgets/controls",
          "model_name": "DescriptionStyleModel",
          "state": {
            "_view_name": "StyleView",
            "_model_name": "DescriptionStyleModel",
            "description_width": "",
            "_view_module": "@jupyter-widgets/base",
            "_model_module_version": "1.5.0",
            "_view_count": null,
            "_view_module_version": "1.2.0",
            "_model_module": "@jupyter-widgets/controls"
          }
        },
        "f573ca08252f4e0f968e9a07875a6700": {
          "model_module": "@jupyter-widgets/base",
          "model_name": "LayoutModel",
          "state": {
            "_view_name": "LayoutView",
            "grid_template_rows": null,
            "right": null,
            "justify_content": null,
            "_view_module": "@jupyter-widgets/base",
            "overflow": null,
            "_model_module_version": "1.2.0",
            "_view_count": null,
            "flex_flow": null,
            "width": null,
            "min_width": null,
            "border": null,
            "align_items": null,
            "bottom": null,
            "_model_module": "@jupyter-widgets/base",
            "top": null,
            "grid_column": null,
            "overflow_y": null,
            "overflow_x": null,
            "grid_auto_flow": null,
            "grid_area": null,
            "grid_template_columns": null,
            "flex": null,
            "_model_name": "LayoutModel",
            "justify_items": null,
            "grid_row": null,
            "max_height": null,
            "align_content": null,
            "visibility": null,
            "align_self": null,
            "height": null,
            "min_height": null,
            "padding": null,
            "grid_auto_rows": null,
            "grid_gap": null,
            "max_width": null,
            "order": null,
            "_view_module_version": "1.2.0",
            "grid_template_areas": null,
            "object_position": null,
            "object_fit": null,
            "grid_auto_columns": null,
            "margin": null,
            "display": null,
            "left": null
          }
        },
        "edd97297f9034585aac49056c711c89a": {
          "model_module": "@jupyter-widgets/controls",
          "model_name": "HBoxModel",
          "state": {
            "_view_name": "HBoxView",
            "_dom_classes": [],
            "_model_name": "HBoxModel",
            "_view_module": "@jupyter-widgets/controls",
            "_model_module_version": "1.5.0",
            "_view_count": null,
            "_view_module_version": "1.5.0",
            "box_style": "",
            "layout": "IPY_MODEL_ff78ffe1560443e0ade6ab6e5d021fe0",
            "_model_module": "@jupyter-widgets/controls",
            "children": [
              "IPY_MODEL_d5d464b3d2c34b7ea4ed866c1184c67a",
              "IPY_MODEL_fd254cae6744465194cc10f2903954e3"
            ]
          }
        },
        "ff78ffe1560443e0ade6ab6e5d021fe0": {
          "model_module": "@jupyter-widgets/base",
          "model_name": "LayoutModel",
          "state": {
            "_view_name": "LayoutView",
            "grid_template_rows": null,
            "right": null,
            "justify_content": null,
            "_view_module": "@jupyter-widgets/base",
            "overflow": null,
            "_model_module_version": "1.2.0",
            "_view_count": null,
            "flex_flow": null,
            "width": null,
            "min_width": null,
            "border": null,
            "align_items": null,
            "bottom": null,
            "_model_module": "@jupyter-widgets/base",
            "top": null,
            "grid_column": null,
            "overflow_y": null,
            "overflow_x": null,
            "grid_auto_flow": null,
            "grid_area": null,
            "grid_template_columns": null,
            "flex": null,
            "_model_name": "LayoutModel",
            "justify_items": null,
            "grid_row": null,
            "max_height": null,
            "align_content": null,
            "visibility": null,
            "align_self": null,
            "height": null,
            "min_height": null,
            "padding": null,
            "grid_auto_rows": null,
            "grid_gap": null,
            "max_width": null,
            "order": null,
            "_view_module_version": "1.2.0",
            "grid_template_areas": null,
            "object_position": null,
            "object_fit": null,
            "grid_auto_columns": null,
            "margin": null,
            "display": null,
            "left": null
          }
        },
        "d5d464b3d2c34b7ea4ed866c1184c67a": {
          "model_module": "@jupyter-widgets/controls",
          "model_name": "FloatProgressModel",
          "state": {
            "_view_name": "ProgressView",
            "style": "IPY_MODEL_23ccce851ad54333b33175401b0e0384",
            "_dom_classes": [],
            "description": "SNN: 100%",
            "_model_name": "FloatProgressModel",
            "bar_style": "success",
            "max": 50,
            "_view_module": "@jupyter-widgets/controls",
            "_model_module_version": "1.5.0",
            "value": 50,
            "_view_count": null,
            "_view_module_version": "1.5.0",
            "orientation": "horizontal",
            "min": 0,
            "description_tooltip": null,
            "_model_module": "@jupyter-widgets/controls",
            "layout": "IPY_MODEL_c33859c171b14ee0b3b2a392529febd8"
          }
        },
        "fd254cae6744465194cc10f2903954e3": {
          "model_module": "@jupyter-widgets/controls",
          "model_name": "HTMLModel",
          "state": {
            "_view_name": "HTMLView",
            "style": "IPY_MODEL_4973a8a0b2f341e39ef23e7722375c79",
            "_dom_classes": [],
            "description": "",
            "_model_name": "HTMLModel",
            "placeholder": "​",
            "_view_module": "@jupyter-widgets/controls",
            "_model_module_version": "1.5.0",
            "value": " 50/50 [35:08&lt;00:00, 42.18s/it, a_train_loss=0.687957, b_valid_loss=0.686968, c_best_loss=0.686771, d_train_metric=-5229.026640, e_valid_metric=-2386.961081, f_best_metric=-2394.567565, g_es_counter=6, h_last_lr=0.01000000]",
            "_view_count": null,
            "_view_module_version": "1.5.0",
            "description_tooltip": null,
            "_model_module": "@jupyter-widgets/controls",
            "layout": "IPY_MODEL_23bb43cd8fe64b58aa0479592ef127a4"
          }
        },
        "23ccce851ad54333b33175401b0e0384": {
          "model_module": "@jupyter-widgets/controls",
          "model_name": "ProgressStyleModel",
          "state": {
            "_view_name": "StyleView",
            "_model_name": "ProgressStyleModel",
            "description_width": "initial",
            "_view_module": "@jupyter-widgets/base",
            "_model_module_version": "1.5.0",
            "_view_count": null,
            "_view_module_version": "1.2.0",
            "bar_color": null,
            "_model_module": "@jupyter-widgets/controls"
          }
        },
        "c33859c171b14ee0b3b2a392529febd8": {
          "model_module": "@jupyter-widgets/base",
          "model_name": "LayoutModel",
          "state": {
            "_view_name": "LayoutView",
            "grid_template_rows": null,
            "right": null,
            "justify_content": null,
            "_view_module": "@jupyter-widgets/base",
            "overflow": null,
            "_model_module_version": "1.2.0",
            "_view_count": null,
            "flex_flow": null,
            "width": null,
            "min_width": null,
            "border": null,
            "align_items": null,
            "bottom": null,
            "_model_module": "@jupyter-widgets/base",
            "top": null,
            "grid_column": null,
            "overflow_y": null,
            "overflow_x": null,
            "grid_auto_flow": null,
            "grid_area": null,
            "grid_template_columns": null,
            "flex": null,
            "_model_name": "LayoutModel",
            "justify_items": null,
            "grid_row": null,
            "max_height": null,
            "align_content": null,
            "visibility": null,
            "align_self": null,
            "height": null,
            "min_height": null,
            "padding": null,
            "grid_auto_rows": null,
            "grid_gap": null,
            "max_width": null,
            "order": null,
            "_view_module_version": "1.2.0",
            "grid_template_areas": null,
            "object_position": null,
            "object_fit": null,
            "grid_auto_columns": null,
            "margin": null,
            "display": null,
            "left": null
          }
        },
        "4973a8a0b2f341e39ef23e7722375c79": {
          "model_module": "@jupyter-widgets/controls",
          "model_name": "DescriptionStyleModel",
          "state": {
            "_view_name": "StyleView",
            "_model_name": "DescriptionStyleModel",
            "description_width": "",
            "_view_module": "@jupyter-widgets/base",
            "_model_module_version": "1.5.0",
            "_view_count": null,
            "_view_module_version": "1.2.0",
            "_model_module": "@jupyter-widgets/controls"
          }
        },
        "23bb43cd8fe64b58aa0479592ef127a4": {
          "model_module": "@jupyter-widgets/base",
          "model_name": "LayoutModel",
          "state": {
            "_view_name": "LayoutView",
            "grid_template_rows": null,
            "right": null,
            "justify_content": null,
            "_view_module": "@jupyter-widgets/base",
            "overflow": null,
            "_model_module_version": "1.2.0",
            "_view_count": null,
            "flex_flow": null,
            "width": null,
            "min_width": null,
            "border": null,
            "align_items": null,
            "bottom": null,
            "_model_module": "@jupyter-widgets/base",
            "top": null,
            "grid_column": null,
            "overflow_y": null,
            "overflow_x": null,
            "grid_auto_flow": null,
            "grid_area": null,
            "grid_template_columns": null,
            "flex": null,
            "_model_name": "LayoutModel",
            "justify_items": null,
            "grid_row": null,
            "max_height": null,
            "align_content": null,
            "visibility": null,
            "align_self": null,
            "height": null,
            "min_height": null,
            "padding": null,
            "grid_auto_rows": null,
            "grid_gap": null,
            "max_width": null,
            "order": null,
            "_view_module_version": "1.2.0",
            "grid_template_areas": null,
            "object_position": null,
            "object_fit": null,
            "grid_auto_columns": null,
            "margin": null,
            "display": null,
            "left": null
          }
        },
        "34501d43aa76466193ac46a906e240b5": {
          "model_module": "@jupyter-widgets/controls",
          "model_name": "HBoxModel",
          "state": {
            "_view_name": "HBoxView",
            "_dom_classes": [],
            "_model_name": "HBoxModel",
            "_view_module": "@jupyter-widgets/controls",
            "_model_module_version": "1.5.0",
            "_view_count": null,
            "_view_module_version": "1.5.0",
            "box_style": "",
            "layout": "IPY_MODEL_8cc89548fa7e4e0392f2d4ed7e8ae9c2",
            "_model_module": "@jupyter-widgets/controls",
            "children": [
              "IPY_MODEL_831f93aba05b4f6ea9aa160f7d9c580c",
              "IPY_MODEL_36ad4b7c75084e59b30a02f741a09f3e"
            ]
          }
        },
        "8cc89548fa7e4e0392f2d4ed7e8ae9c2": {
          "model_module": "@jupyter-widgets/base",
          "model_name": "LayoutModel",
          "state": {
            "_view_name": "LayoutView",
            "grid_template_rows": null,
            "right": null,
            "justify_content": null,
            "_view_module": "@jupyter-widgets/base",
            "overflow": null,
            "_model_module_version": "1.2.0",
            "_view_count": null,
            "flex_flow": null,
            "width": null,
            "min_width": null,
            "border": null,
            "align_items": null,
            "bottom": null,
            "_model_module": "@jupyter-widgets/base",
            "top": null,
            "grid_column": null,
            "overflow_y": null,
            "overflow_x": null,
            "grid_auto_flow": null,
            "grid_area": null,
            "grid_template_columns": null,
            "flex": null,
            "_model_name": "LayoutModel",
            "justify_items": null,
            "grid_row": null,
            "max_height": null,
            "align_content": null,
            "visibility": null,
            "align_self": null,
            "height": null,
            "min_height": null,
            "padding": null,
            "grid_auto_rows": null,
            "grid_gap": null,
            "max_width": null,
            "order": null,
            "_view_module_version": "1.2.0",
            "grid_template_areas": null,
            "object_position": null,
            "object_fit": null,
            "grid_auto_columns": null,
            "margin": null,
            "display": null,
            "left": null
          }
        },
        "831f93aba05b4f6ea9aa160f7d9c580c": {
          "model_module": "@jupyter-widgets/controls",
          "model_name": "FloatProgressModel",
          "state": {
            "_view_name": "ProgressView",
            "style": "IPY_MODEL_da323b05dfba4193a12c6746f2eafd91",
            "_dom_classes": [],
            "description": "SNN:  80%",
            "_model_name": "FloatProgressModel",
            "bar_style": "danger",
            "max": 50,
            "_view_module": "@jupyter-widgets/controls",
            "_model_module_version": "1.5.0",
            "value": 40,
            "_view_count": null,
            "_view_module_version": "1.5.0",
            "orientation": "horizontal",
            "min": 0,
            "description_tooltip": null,
            "_model_module": "@jupyter-widgets/controls",
            "layout": "IPY_MODEL_c6f5bf095be74c8486721c986bc888b2"
          }
        },
        "36ad4b7c75084e59b30a02f741a09f3e": {
          "model_module": "@jupyter-widgets/controls",
          "model_name": "HTMLModel",
          "state": {
            "_view_name": "HTMLView",
            "style": "IPY_MODEL_1d24d4453c564fbaa8f804227517b593",
            "_dom_classes": [],
            "description": "",
            "_model_name": "HTMLModel",
            "placeholder": "​",
            "_view_module": "@jupyter-widgets/controls",
            "_model_module_version": "1.5.0",
            "value": " 40/50 [36:56&lt;09:14, 55.40s/it, a_train_loss=0.688490, b_valid_loss=0.687599, c_best_loss=0.687348, d_train_metric=-4385.717980, e_valid_metric=-2380.221778, f_best_metric=-2411.253113, g_es_counter=9, h_last_lr=0.03583159]",
            "_view_count": null,
            "_view_module_version": "1.5.0",
            "description_tooltip": null,
            "_model_module": "@jupyter-widgets/controls",
            "layout": "IPY_MODEL_3ce70e056540478891c4517381dce956"
          }
        },
        "da323b05dfba4193a12c6746f2eafd91": {
          "model_module": "@jupyter-widgets/controls",
          "model_name": "ProgressStyleModel",
          "state": {
            "_view_name": "StyleView",
            "_model_name": "ProgressStyleModel",
            "description_width": "initial",
            "_view_module": "@jupyter-widgets/base",
            "_model_module_version": "1.5.0",
            "_view_count": null,
            "_view_module_version": "1.2.0",
            "bar_color": null,
            "_model_module": "@jupyter-widgets/controls"
          }
        },
        "c6f5bf095be74c8486721c986bc888b2": {
          "model_module": "@jupyter-widgets/base",
          "model_name": "LayoutModel",
          "state": {
            "_view_name": "LayoutView",
            "grid_template_rows": null,
            "right": null,
            "justify_content": null,
            "_view_module": "@jupyter-widgets/base",
            "overflow": null,
            "_model_module_version": "1.2.0",
            "_view_count": null,
            "flex_flow": null,
            "width": null,
            "min_width": null,
            "border": null,
            "align_items": null,
            "bottom": null,
            "_model_module": "@jupyter-widgets/base",
            "top": null,
            "grid_column": null,
            "overflow_y": null,
            "overflow_x": null,
            "grid_auto_flow": null,
            "grid_area": null,
            "grid_template_columns": null,
            "flex": null,
            "_model_name": "LayoutModel",
            "justify_items": null,
            "grid_row": null,
            "max_height": null,
            "align_content": null,
            "visibility": null,
            "align_self": null,
            "height": null,
            "min_height": null,
            "padding": null,
            "grid_auto_rows": null,
            "grid_gap": null,
            "max_width": null,
            "order": null,
            "_view_module_version": "1.2.0",
            "grid_template_areas": null,
            "object_position": null,
            "object_fit": null,
            "grid_auto_columns": null,
            "margin": null,
            "display": null,
            "left": null
          }
        },
        "1d24d4453c564fbaa8f804227517b593": {
          "model_module": "@jupyter-widgets/controls",
          "model_name": "DescriptionStyleModel",
          "state": {
            "_view_name": "StyleView",
            "_model_name": "DescriptionStyleModel",
            "description_width": "",
            "_view_module": "@jupyter-widgets/base",
            "_model_module_version": "1.5.0",
            "_view_count": null,
            "_view_module_version": "1.2.0",
            "_model_module": "@jupyter-widgets/controls"
          }
        },
        "3ce70e056540478891c4517381dce956": {
          "model_module": "@jupyter-widgets/base",
          "model_name": "LayoutModel",
          "state": {
            "_view_name": "LayoutView",
            "grid_template_rows": null,
            "right": null,
            "justify_content": null,
            "_view_module": "@jupyter-widgets/base",
            "overflow": null,
            "_model_module_version": "1.2.0",
            "_view_count": null,
            "flex_flow": null,
            "width": null,
            "min_width": null,
            "border": null,
            "align_items": null,
            "bottom": null,
            "_model_module": "@jupyter-widgets/base",
            "top": null,
            "grid_column": null,
            "overflow_y": null,
            "overflow_x": null,
            "grid_auto_flow": null,
            "grid_area": null,
            "grid_template_columns": null,
            "flex": null,
            "_model_name": "LayoutModel",
            "justify_items": null,
            "grid_row": null,
            "max_height": null,
            "align_content": null,
            "visibility": null,
            "align_self": null,
            "height": null,
            "min_height": null,
            "padding": null,
            "grid_auto_rows": null,
            "grid_gap": null,
            "max_width": null,
            "order": null,
            "_view_module_version": "1.2.0",
            "grid_template_areas": null,
            "object_position": null,
            "object_fit": null,
            "grid_auto_columns": null,
            "margin": null,
            "display": null,
            "left": null
          }
        },
        "3df4a3de673c4c89958f20a6501a22ec": {
          "model_module": "@jupyter-widgets/controls",
          "model_name": "HBoxModel",
          "state": {
            "_view_name": "HBoxView",
            "_dom_classes": [],
            "_model_name": "HBoxModel",
            "_view_module": "@jupyter-widgets/controls",
            "_model_module_version": "1.5.0",
            "_view_count": null,
            "_view_module_version": "1.5.0",
            "box_style": "",
            "layout": "IPY_MODEL_72215d7e006545c1be4261a900f48cc8",
            "_model_module": "@jupyter-widgets/controls",
            "children": [
              "IPY_MODEL_7ae710b29af84ad09287b34e758fc4a1",
              "IPY_MODEL_eeedcb2859a14c4ba1a69d70f2569a2d"
            ]
          }
        },
        "72215d7e006545c1be4261a900f48cc8": {
          "model_module": "@jupyter-widgets/base",
          "model_name": "LayoutModel",
          "state": {
            "_view_name": "LayoutView",
            "grid_template_rows": null,
            "right": null,
            "justify_content": null,
            "_view_module": "@jupyter-widgets/base",
            "overflow": null,
            "_model_module_version": "1.2.0",
            "_view_count": null,
            "flex_flow": null,
            "width": null,
            "min_width": null,
            "border": null,
            "align_items": null,
            "bottom": null,
            "_model_module": "@jupyter-widgets/base",
            "top": null,
            "grid_column": null,
            "overflow_y": null,
            "overflow_x": null,
            "grid_auto_flow": null,
            "grid_area": null,
            "grid_template_columns": null,
            "flex": null,
            "_model_name": "LayoutModel",
            "justify_items": null,
            "grid_row": null,
            "max_height": null,
            "align_content": null,
            "visibility": null,
            "align_self": null,
            "height": null,
            "min_height": null,
            "padding": null,
            "grid_auto_rows": null,
            "grid_gap": null,
            "max_width": null,
            "order": null,
            "_view_module_version": "1.2.0",
            "grid_template_areas": null,
            "object_position": null,
            "object_fit": null,
            "grid_auto_columns": null,
            "margin": null,
            "display": null,
            "left": null
          }
        },
        "7ae710b29af84ad09287b34e758fc4a1": {
          "model_module": "@jupyter-widgets/controls",
          "model_name": "FloatProgressModel",
          "state": {
            "_view_name": "ProgressView",
            "style": "IPY_MODEL_227b9556d2ab453e83dddac83a3f163f",
            "_dom_classes": [],
            "description": "SNN:  40%",
            "_model_name": "FloatProgressModel",
            "bar_style": "danger",
            "max": 50,
            "_view_module": "@jupyter-widgets/controls",
            "_model_module_version": "1.5.0",
            "value": 20,
            "_view_count": null,
            "_view_module_version": "1.5.0",
            "orientation": "horizontal",
            "min": 0,
            "description_tooltip": null,
            "_model_module": "@jupyter-widgets/controls",
            "layout": "IPY_MODEL_b9a6cdce22734fc78a4e47fb391ef543"
          }
        },
        "eeedcb2859a14c4ba1a69d70f2569a2d": {
          "model_module": "@jupyter-widgets/controls",
          "model_name": "HTMLModel",
          "state": {
            "_view_name": "HTMLView",
            "style": "IPY_MODEL_8cb0cb4d14bb44ffa5130f723101ade1",
            "_dom_classes": [],
            "description": "",
            "_model_name": "HTMLModel",
            "placeholder": "​",
            "_view_module": "@jupyter-widgets/controls",
            "_model_module_version": "1.5.0",
            "value": " 20/50 [26:00&lt;39:01, 78.04s/it, a_train_loss=0.682668, b_valid_loss=0.686176, c_best_loss=0.686033, d_train_metric=-10840.934861, e_valid_metric=-2575.911841, f_best_metric=-2418.627891, g_es_counter=9, h_last_lr=0.09443753]",
            "_view_count": null,
            "_view_module_version": "1.5.0",
            "description_tooltip": null,
            "_model_module": "@jupyter-widgets/controls",
            "layout": "IPY_MODEL_c4415c0d2e55461bb15cac599afeb247"
          }
        },
        "227b9556d2ab453e83dddac83a3f163f": {
          "model_module": "@jupyter-widgets/controls",
          "model_name": "ProgressStyleModel",
          "state": {
            "_view_name": "StyleView",
            "_model_name": "ProgressStyleModel",
            "description_width": "initial",
            "_view_module": "@jupyter-widgets/base",
            "_model_module_version": "1.5.0",
            "_view_count": null,
            "_view_module_version": "1.2.0",
            "bar_color": null,
            "_model_module": "@jupyter-widgets/controls"
          }
        },
        "b9a6cdce22734fc78a4e47fb391ef543": {
          "model_module": "@jupyter-widgets/base",
          "model_name": "LayoutModel",
          "state": {
            "_view_name": "LayoutView",
            "grid_template_rows": null,
            "right": null,
            "justify_content": null,
            "_view_module": "@jupyter-widgets/base",
            "overflow": null,
            "_model_module_version": "1.2.0",
            "_view_count": null,
            "flex_flow": null,
            "width": null,
            "min_width": null,
            "border": null,
            "align_items": null,
            "bottom": null,
            "_model_module": "@jupyter-widgets/base",
            "top": null,
            "grid_column": null,
            "overflow_y": null,
            "overflow_x": null,
            "grid_auto_flow": null,
            "grid_area": null,
            "grid_template_columns": null,
            "flex": null,
            "_model_name": "LayoutModel",
            "justify_items": null,
            "grid_row": null,
            "max_height": null,
            "align_content": null,
            "visibility": null,
            "align_self": null,
            "height": null,
            "min_height": null,
            "padding": null,
            "grid_auto_rows": null,
            "grid_gap": null,
            "max_width": null,
            "order": null,
            "_view_module_version": "1.2.0",
            "grid_template_areas": null,
            "object_position": null,
            "object_fit": null,
            "grid_auto_columns": null,
            "margin": null,
            "display": null,
            "left": null
          }
        },
        "8cb0cb4d14bb44ffa5130f723101ade1": {
          "model_module": "@jupyter-widgets/controls",
          "model_name": "DescriptionStyleModel",
          "state": {
            "_view_name": "StyleView",
            "_model_name": "DescriptionStyleModel",
            "description_width": "",
            "_view_module": "@jupyter-widgets/base",
            "_model_module_version": "1.5.0",
            "_view_count": null,
            "_view_module_version": "1.2.0",
            "_model_module": "@jupyter-widgets/controls"
          }
        },
        "c4415c0d2e55461bb15cac599afeb247": {
          "model_module": "@jupyter-widgets/base",
          "model_name": "LayoutModel",
          "state": {
            "_view_name": "LayoutView",
            "grid_template_rows": null,
            "right": null,
            "justify_content": null,
            "_view_module": "@jupyter-widgets/base",
            "overflow": null,
            "_model_module_version": "1.2.0",
            "_view_count": null,
            "flex_flow": null,
            "width": null,
            "min_width": null,
            "border": null,
            "align_items": null,
            "bottom": null,
            "_model_module": "@jupyter-widgets/base",
            "top": null,
            "grid_column": null,
            "overflow_y": null,
            "overflow_x": null,
            "grid_auto_flow": null,
            "grid_area": null,
            "grid_template_columns": null,
            "flex": null,
            "_model_name": "LayoutModel",
            "justify_items": null,
            "grid_row": null,
            "max_height": null,
            "align_content": null,
            "visibility": null,
            "align_self": null,
            "height": null,
            "min_height": null,
            "padding": null,
            "grid_auto_rows": null,
            "grid_gap": null,
            "max_width": null,
            "order": null,
            "_view_module_version": "1.2.0",
            "grid_template_areas": null,
            "object_position": null,
            "object_fit": null,
            "grid_auto_columns": null,
            "margin": null,
            "display": null,
            "left": null
          }
        },
        "672d6e006eee484db698db503a17c015": {
          "model_module": "@jupyter-widgets/controls",
          "model_name": "HBoxModel",
          "state": {
            "_view_name": "HBoxView",
            "_dom_classes": [],
            "_model_name": "HBoxModel",
            "_view_module": "@jupyter-widgets/controls",
            "_model_module_version": "1.5.0",
            "_view_count": null,
            "_view_module_version": "1.5.0",
            "box_style": "",
            "layout": "IPY_MODEL_67e02dc3529e484c9b977c5780648b00",
            "_model_module": "@jupyter-widgets/controls",
            "children": [
              "IPY_MODEL_97de8a554a8a447cbf6746f24bb51ab3",
              "IPY_MODEL_4bd9d7f80e004715a8778112f8cac2e1"
            ]
          }
        },
        "67e02dc3529e484c9b977c5780648b00": {
          "model_module": "@jupyter-widgets/base",
          "model_name": "LayoutModel",
          "state": {
            "_view_name": "LayoutView",
            "grid_template_rows": null,
            "right": null,
            "justify_content": null,
            "_view_module": "@jupyter-widgets/base",
            "overflow": null,
            "_model_module_version": "1.2.0",
            "_view_count": null,
            "flex_flow": null,
            "width": null,
            "min_width": null,
            "border": null,
            "align_items": null,
            "bottom": null,
            "_model_module": "@jupyter-widgets/base",
            "top": null,
            "grid_column": null,
            "overflow_y": null,
            "overflow_x": null,
            "grid_auto_flow": null,
            "grid_area": null,
            "grid_template_columns": null,
            "flex": null,
            "_model_name": "LayoutModel",
            "justify_items": null,
            "grid_row": null,
            "max_height": null,
            "align_content": null,
            "visibility": null,
            "align_self": null,
            "height": null,
            "min_height": null,
            "padding": null,
            "grid_auto_rows": null,
            "grid_gap": null,
            "max_width": null,
            "order": null,
            "_view_module_version": "1.2.0",
            "grid_template_areas": null,
            "object_position": null,
            "object_fit": null,
            "grid_auto_columns": null,
            "margin": null,
            "display": null,
            "left": null
          }
        },
        "97de8a554a8a447cbf6746f24bb51ab3": {
          "model_module": "@jupyter-widgets/controls",
          "model_name": "FloatProgressModel",
          "state": {
            "_view_name": "ProgressView",
            "style": "IPY_MODEL_c6a3b124eda34458bbe53b47f419be93",
            "_dom_classes": [],
            "description": "SNN:  56%",
            "_model_name": "FloatProgressModel",
            "bar_style": "danger",
            "max": 50,
            "_view_module": "@jupyter-widgets/controls",
            "_model_module_version": "1.5.0",
            "value": 28,
            "_view_count": null,
            "_view_module_version": "1.5.0",
            "orientation": "horizontal",
            "min": 0,
            "description_tooltip": null,
            "_model_module": "@jupyter-widgets/controls",
            "layout": "IPY_MODEL_cfcfd47219024857ba8d641763c0bbd0"
          }
        },
        "4bd9d7f80e004715a8778112f8cac2e1": {
          "model_module": "@jupyter-widgets/controls",
          "model_name": "HTMLModel",
          "state": {
            "_view_name": "HTMLView",
            "style": "IPY_MODEL_429cfe1ac4424c5b89853106d0e9b72b",
            "_dom_classes": [],
            "description": "",
            "_model_name": "HTMLModel",
            "placeholder": "​",
            "_view_module": "@jupyter-widgets/controls",
            "_model_module_version": "1.5.0",
            "value": " 28/50 [28:25&lt;22:20, 60.91s/it, a_train_loss=0.680093, b_valid_loss=0.685998, c_best_loss=0.684752, d_train_metric=-12898.509122, e_valid_metric=-2636.617402, f_best_metric=-2923.779037, g_es_counter=9, h_last_lr=0.05029112]",
            "_view_count": null,
            "_view_module_version": "1.5.0",
            "description_tooltip": null,
            "_model_module": "@jupyter-widgets/controls",
            "layout": "IPY_MODEL_43abf6ab341443f298764e3e5a93a407"
          }
        },
        "c6a3b124eda34458bbe53b47f419be93": {
          "model_module": "@jupyter-widgets/controls",
          "model_name": "ProgressStyleModel",
          "state": {
            "_view_name": "StyleView",
            "_model_name": "ProgressStyleModel",
            "description_width": "initial",
            "_view_module": "@jupyter-widgets/base",
            "_model_module_version": "1.5.0",
            "_view_count": null,
            "_view_module_version": "1.2.0",
            "bar_color": null,
            "_model_module": "@jupyter-widgets/controls"
          }
        },
        "cfcfd47219024857ba8d641763c0bbd0": {
          "model_module": "@jupyter-widgets/base",
          "model_name": "LayoutModel",
          "state": {
            "_view_name": "LayoutView",
            "grid_template_rows": null,
            "right": null,
            "justify_content": null,
            "_view_module": "@jupyter-widgets/base",
            "overflow": null,
            "_model_module_version": "1.2.0",
            "_view_count": null,
            "flex_flow": null,
            "width": null,
            "min_width": null,
            "border": null,
            "align_items": null,
            "bottom": null,
            "_model_module": "@jupyter-widgets/base",
            "top": null,
            "grid_column": null,
            "overflow_y": null,
            "overflow_x": null,
            "grid_auto_flow": null,
            "grid_area": null,
            "grid_template_columns": null,
            "flex": null,
            "_model_name": "LayoutModel",
            "justify_items": null,
            "grid_row": null,
            "max_height": null,
            "align_content": null,
            "visibility": null,
            "align_self": null,
            "height": null,
            "min_height": null,
            "padding": null,
            "grid_auto_rows": null,
            "grid_gap": null,
            "max_width": null,
            "order": null,
            "_view_module_version": "1.2.0",
            "grid_template_areas": null,
            "object_position": null,
            "object_fit": null,
            "grid_auto_columns": null,
            "margin": null,
            "display": null,
            "left": null
          }
        },
        "429cfe1ac4424c5b89853106d0e9b72b": {
          "model_module": "@jupyter-widgets/controls",
          "model_name": "DescriptionStyleModel",
          "state": {
            "_view_name": "StyleView",
            "_model_name": "DescriptionStyleModel",
            "description_width": "",
            "_view_module": "@jupyter-widgets/base",
            "_model_module_version": "1.5.0",
            "_view_count": null,
            "_view_module_version": "1.2.0",
            "_model_module": "@jupyter-widgets/controls"
          }
        },
        "43abf6ab341443f298764e3e5a93a407": {
          "model_module": "@jupyter-widgets/base",
          "model_name": "LayoutModel",
          "state": {
            "_view_name": "LayoutView",
            "grid_template_rows": null,
            "right": null,
            "justify_content": null,
            "_view_module": "@jupyter-widgets/base",
            "overflow": null,
            "_model_module_version": "1.2.0",
            "_view_count": null,
            "flex_flow": null,
            "width": null,
            "min_width": null,
            "border": null,
            "align_items": null,
            "bottom": null,
            "_model_module": "@jupyter-widgets/base",
            "top": null,
            "grid_column": null,
            "overflow_y": null,
            "overflow_x": null,
            "grid_auto_flow": null,
            "grid_area": null,
            "grid_template_columns": null,
            "flex": null,
            "_model_name": "LayoutModel",
            "justify_items": null,
            "grid_row": null,
            "max_height": null,
            "align_content": null,
            "visibility": null,
            "align_self": null,
            "height": null,
            "min_height": null,
            "padding": null,
            "grid_auto_rows": null,
            "grid_gap": null,
            "max_width": null,
            "order": null,
            "_view_module_version": "1.2.0",
            "grid_template_areas": null,
            "object_position": null,
            "object_fit": null,
            "grid_auto_columns": null,
            "margin": null,
            "display": null,
            "left": null
          }
        },
        "4ed83692c42449b3bffef891921d75e0": {
          "model_module": "@jupyter-widgets/controls",
          "model_name": "HBoxModel",
          "state": {
            "_view_name": "HBoxView",
            "_dom_classes": [],
            "_model_name": "HBoxModel",
            "_view_module": "@jupyter-widgets/controls",
            "_model_module_version": "1.5.0",
            "_view_count": null,
            "_view_module_version": "1.5.0",
            "box_style": "",
            "layout": "IPY_MODEL_5913193119884e858b9b5b5f53366da1",
            "_model_module": "@jupyter-widgets/controls",
            "children": [
              "IPY_MODEL_61631c0388ae4a59b1777208f84b35dc",
              "IPY_MODEL_9d4285bb5ca04c8b82185d9171e68b6b"
            ]
          }
        },
        "5913193119884e858b9b5b5f53366da1": {
          "model_module": "@jupyter-widgets/base",
          "model_name": "LayoutModel",
          "state": {
            "_view_name": "LayoutView",
            "grid_template_rows": null,
            "right": null,
            "justify_content": null,
            "_view_module": "@jupyter-widgets/base",
            "overflow": null,
            "_model_module_version": "1.2.0",
            "_view_count": null,
            "flex_flow": null,
            "width": null,
            "min_width": null,
            "border": null,
            "align_items": null,
            "bottom": null,
            "_model_module": "@jupyter-widgets/base",
            "top": null,
            "grid_column": null,
            "overflow_y": null,
            "overflow_x": null,
            "grid_auto_flow": null,
            "grid_area": null,
            "grid_template_columns": null,
            "flex": null,
            "_model_name": "LayoutModel",
            "justify_items": null,
            "grid_row": null,
            "max_height": null,
            "align_content": null,
            "visibility": null,
            "align_self": null,
            "height": null,
            "min_height": null,
            "padding": null,
            "grid_auto_rows": null,
            "grid_gap": null,
            "max_width": null,
            "order": null,
            "_view_module_version": "1.2.0",
            "grid_template_areas": null,
            "object_position": null,
            "object_fit": null,
            "grid_auto_columns": null,
            "margin": null,
            "display": null,
            "left": null
          }
        },
        "61631c0388ae4a59b1777208f84b35dc": {
          "model_module": "@jupyter-widgets/controls",
          "model_name": "FloatProgressModel",
          "state": {
            "_view_name": "ProgressView",
            "style": "IPY_MODEL_fa6e47998d0449039d15db88269f6e26",
            "_dom_classes": [],
            "description": "SNN:  52%",
            "_model_name": "FloatProgressModel",
            "bar_style": "danger",
            "max": 50,
            "_view_module": "@jupyter-widgets/controls",
            "_model_module_version": "1.5.0",
            "value": 26,
            "_view_count": null,
            "_view_module_version": "1.5.0",
            "orientation": "horizontal",
            "min": 0,
            "description_tooltip": null,
            "_model_module": "@jupyter-widgets/controls",
            "layout": "IPY_MODEL_61679fc771bb4a7ea94817a2d674b5a6"
          }
        },
        "9d4285bb5ca04c8b82185d9171e68b6b": {
          "model_module": "@jupyter-widgets/controls",
          "model_name": "HTMLModel",
          "state": {
            "_view_name": "HTMLView",
            "style": "IPY_MODEL_b2b50e62e9ef42fc87cd347b18cdd7ae",
            "_dom_classes": [],
            "description": "",
            "_model_name": "HTMLModel",
            "placeholder": "​",
            "_view_module": "@jupyter-widgets/controls",
            "_model_module_version": "1.5.0",
            "value": " 26/50 [24:28&lt;22:35, 56.49s/it, a_train_loss=0.680837, b_valid_loss=0.687194, c_best_loss=0.684852, d_train_metric=-13284.279270, e_valid_metric=-2321.802148, f_best_metric=-2611.230098, g_es_counter=9, h_last_lr=0.05656536]",
            "_view_count": null,
            "_view_module_version": "1.5.0",
            "description_tooltip": null,
            "_model_module": "@jupyter-widgets/controls",
            "layout": "IPY_MODEL_a6dbeeb9c90243208d61f37f9f2034b5"
          }
        },
        "fa6e47998d0449039d15db88269f6e26": {
          "model_module": "@jupyter-widgets/controls",
          "model_name": "ProgressStyleModel",
          "state": {
            "_view_name": "StyleView",
            "_model_name": "ProgressStyleModel",
            "description_width": "initial",
            "_view_module": "@jupyter-widgets/base",
            "_model_module_version": "1.5.0",
            "_view_count": null,
            "_view_module_version": "1.2.0",
            "bar_color": null,
            "_model_module": "@jupyter-widgets/controls"
          }
        },
        "61679fc771bb4a7ea94817a2d674b5a6": {
          "model_module": "@jupyter-widgets/base",
          "model_name": "LayoutModel",
          "state": {
            "_view_name": "LayoutView",
            "grid_template_rows": null,
            "right": null,
            "justify_content": null,
            "_view_module": "@jupyter-widgets/base",
            "overflow": null,
            "_model_module_version": "1.2.0",
            "_view_count": null,
            "flex_flow": null,
            "width": null,
            "min_width": null,
            "border": null,
            "align_items": null,
            "bottom": null,
            "_model_module": "@jupyter-widgets/base",
            "top": null,
            "grid_column": null,
            "overflow_y": null,
            "overflow_x": null,
            "grid_auto_flow": null,
            "grid_area": null,
            "grid_template_columns": null,
            "flex": null,
            "_model_name": "LayoutModel",
            "justify_items": null,
            "grid_row": null,
            "max_height": null,
            "align_content": null,
            "visibility": null,
            "align_self": null,
            "height": null,
            "min_height": null,
            "padding": null,
            "grid_auto_rows": null,
            "grid_gap": null,
            "max_width": null,
            "order": null,
            "_view_module_version": "1.2.0",
            "grid_template_areas": null,
            "object_position": null,
            "object_fit": null,
            "grid_auto_columns": null,
            "margin": null,
            "display": null,
            "left": null
          }
        },
        "b2b50e62e9ef42fc87cd347b18cdd7ae": {
          "model_module": "@jupyter-widgets/controls",
          "model_name": "DescriptionStyleModel",
          "state": {
            "_view_name": "StyleView",
            "_model_name": "DescriptionStyleModel",
            "description_width": "",
            "_view_module": "@jupyter-widgets/base",
            "_model_module_version": "1.5.0",
            "_view_count": null,
            "_view_module_version": "1.2.0",
            "_model_module": "@jupyter-widgets/controls"
          }
        },
        "a6dbeeb9c90243208d61f37f9f2034b5": {
          "model_module": "@jupyter-widgets/base",
          "model_name": "LayoutModel",
          "state": {
            "_view_name": "LayoutView",
            "grid_template_rows": null,
            "right": null,
            "justify_content": null,
            "_view_module": "@jupyter-widgets/base",
            "overflow": null,
            "_model_module_version": "1.2.0",
            "_view_count": null,
            "flex_flow": null,
            "width": null,
            "min_width": null,
            "border": null,
            "align_items": null,
            "bottom": null,
            "_model_module": "@jupyter-widgets/base",
            "top": null,
            "grid_column": null,
            "overflow_y": null,
            "overflow_x": null,
            "grid_auto_flow": null,
            "grid_area": null,
            "grid_template_columns": null,
            "flex": null,
            "_model_name": "LayoutModel",
            "justify_items": null,
            "grid_row": null,
            "max_height": null,
            "align_content": null,
            "visibility": null,
            "align_self": null,
            "height": null,
            "min_height": null,
            "padding": null,
            "grid_auto_rows": null,
            "grid_gap": null,
            "max_width": null,
            "order": null,
            "_view_module_version": "1.2.0",
            "grid_template_areas": null,
            "object_position": null,
            "object_fit": null,
            "grid_auto_columns": null,
            "margin": null,
            "display": null,
            "left": null
          }
        },
        "3fa7432959ad41b7a5b67c0797364454": {
          "model_module": "@jupyter-widgets/controls",
          "model_name": "HBoxModel",
          "state": {
            "_view_name": "HBoxView",
            "_dom_classes": [],
            "_model_name": "HBoxModel",
            "_view_module": "@jupyter-widgets/controls",
            "_model_module_version": "1.5.0",
            "_view_count": null,
            "_view_module_version": "1.5.0",
            "box_style": "",
            "layout": "IPY_MODEL_ba97ff64e5044f3ab56044ba1dc372bf",
            "_model_module": "@jupyter-widgets/controls",
            "children": [
              "IPY_MODEL_1c988a479f8441c68f152f75a9894a3d",
              "IPY_MODEL_96eab932d156484c9b03383898af8d27"
            ]
          }
        },
        "ba97ff64e5044f3ab56044ba1dc372bf": {
          "model_module": "@jupyter-widgets/base",
          "model_name": "LayoutModel",
          "state": {
            "_view_name": "LayoutView",
            "grid_template_rows": null,
            "right": null,
            "justify_content": null,
            "_view_module": "@jupyter-widgets/base",
            "overflow": null,
            "_model_module_version": "1.2.0",
            "_view_count": null,
            "flex_flow": null,
            "width": null,
            "min_width": null,
            "border": null,
            "align_items": null,
            "bottom": null,
            "_model_module": "@jupyter-widgets/base",
            "top": null,
            "grid_column": null,
            "overflow_y": null,
            "overflow_x": null,
            "grid_auto_flow": null,
            "grid_area": null,
            "grid_template_columns": null,
            "flex": null,
            "_model_name": "LayoutModel",
            "justify_items": null,
            "grid_row": null,
            "max_height": null,
            "align_content": null,
            "visibility": null,
            "align_self": null,
            "height": null,
            "min_height": null,
            "padding": null,
            "grid_auto_rows": null,
            "grid_gap": null,
            "max_width": null,
            "order": null,
            "_view_module_version": "1.2.0",
            "grid_template_areas": null,
            "object_position": null,
            "object_fit": null,
            "grid_auto_columns": null,
            "margin": null,
            "display": null,
            "left": null
          }
        },
        "1c988a479f8441c68f152f75a9894a3d": {
          "model_module": "@jupyter-widgets/controls",
          "model_name": "FloatProgressModel",
          "state": {
            "_view_name": "ProgressView",
            "style": "IPY_MODEL_0f9dfdea988746fd86c04621ecac25c8",
            "_dom_classes": [],
            "description": "SNN:  94%",
            "_model_name": "FloatProgressModel",
            "bar_style": "danger",
            "max": 50,
            "_view_module": "@jupyter-widgets/controls",
            "_model_module_version": "1.5.0",
            "value": 47,
            "_view_count": null,
            "_view_module_version": "1.5.0",
            "orientation": "horizontal",
            "min": 0,
            "description_tooltip": null,
            "_model_module": "@jupyter-widgets/controls",
            "layout": "IPY_MODEL_d2b9e2c0f71b48e5b9fd3ff45f77391c"
          }
        },
        "96eab932d156484c9b03383898af8d27": {
          "model_module": "@jupyter-widgets/controls",
          "model_name": "HTMLModel",
          "state": {
            "_view_name": "HTMLView",
            "style": "IPY_MODEL_6dfcf6ef189d4be69f877141a4effaa3",
            "_dom_classes": [],
            "description": "",
            "_model_name": "HTMLModel",
            "placeholder": "​",
            "_view_module": "@jupyter-widgets/controls",
            "_model_module_version": "1.5.0",
            "value": " 47/50 [37:39&lt;02:24, 48.07s/it, a_train_loss=0.680781, b_valid_loss=0.685968, c_best_loss=0.685556, d_train_metric=-12549.661960, e_valid_metric=-2518.008192, f_best_metric=-2557.747522, g_es_counter=9, h_last_lr=0.01043722]",
            "_view_count": null,
            "_view_module_version": "1.5.0",
            "description_tooltip": null,
            "_model_module": "@jupyter-widgets/controls",
            "layout": "IPY_MODEL_0c89112d65c24a039028184766797125"
          }
        },
        "0f9dfdea988746fd86c04621ecac25c8": {
          "model_module": "@jupyter-widgets/controls",
          "model_name": "ProgressStyleModel",
          "state": {
            "_view_name": "StyleView",
            "_model_name": "ProgressStyleModel",
            "description_width": "initial",
            "_view_module": "@jupyter-widgets/base",
            "_model_module_version": "1.5.0",
            "_view_count": null,
            "_view_module_version": "1.2.0",
            "bar_color": null,
            "_model_module": "@jupyter-widgets/controls"
          }
        },
        "d2b9e2c0f71b48e5b9fd3ff45f77391c": {
          "model_module": "@jupyter-widgets/base",
          "model_name": "LayoutModel",
          "state": {
            "_view_name": "LayoutView",
            "grid_template_rows": null,
            "right": null,
            "justify_content": null,
            "_view_module": "@jupyter-widgets/base",
            "overflow": null,
            "_model_module_version": "1.2.0",
            "_view_count": null,
            "flex_flow": null,
            "width": null,
            "min_width": null,
            "border": null,
            "align_items": null,
            "bottom": null,
            "_model_module": "@jupyter-widgets/base",
            "top": null,
            "grid_column": null,
            "overflow_y": null,
            "overflow_x": null,
            "grid_auto_flow": null,
            "grid_area": null,
            "grid_template_columns": null,
            "flex": null,
            "_model_name": "LayoutModel",
            "justify_items": null,
            "grid_row": null,
            "max_height": null,
            "align_content": null,
            "visibility": null,
            "align_self": null,
            "height": null,
            "min_height": null,
            "padding": null,
            "grid_auto_rows": null,
            "grid_gap": null,
            "max_width": null,
            "order": null,
            "_view_module_version": "1.2.0",
            "grid_template_areas": null,
            "object_position": null,
            "object_fit": null,
            "grid_auto_columns": null,
            "margin": null,
            "display": null,
            "left": null
          }
        },
        "6dfcf6ef189d4be69f877141a4effaa3": {
          "model_module": "@jupyter-widgets/controls",
          "model_name": "DescriptionStyleModel",
          "state": {
            "_view_name": "StyleView",
            "_model_name": "DescriptionStyleModel",
            "description_width": "",
            "_view_module": "@jupyter-widgets/base",
            "_model_module_version": "1.5.0",
            "_view_count": null,
            "_view_module_version": "1.2.0",
            "_model_module": "@jupyter-widgets/controls"
          }
        },
        "0c89112d65c24a039028184766797125": {
          "model_module": "@jupyter-widgets/base",
          "model_name": "LayoutModel",
          "state": {
            "_view_name": "LayoutView",
            "grid_template_rows": null,
            "right": null,
            "justify_content": null,
            "_view_module": "@jupyter-widgets/base",
            "overflow": null,
            "_model_module_version": "1.2.0",
            "_view_count": null,
            "flex_flow": null,
            "width": null,
            "min_width": null,
            "border": null,
            "align_items": null,
            "bottom": null,
            "_model_module": "@jupyter-widgets/base",
            "top": null,
            "grid_column": null,
            "overflow_y": null,
            "overflow_x": null,
            "grid_auto_flow": null,
            "grid_area": null,
            "grid_template_columns": null,
            "flex": null,
            "_model_name": "LayoutModel",
            "justify_items": null,
            "grid_row": null,
            "max_height": null,
            "align_content": null,
            "visibility": null,
            "align_self": null,
            "height": null,
            "min_height": null,
            "padding": null,
            "grid_auto_rows": null,
            "grid_gap": null,
            "max_width": null,
            "order": null,
            "_view_module_version": "1.2.0",
            "grid_template_areas": null,
            "object_position": null,
            "object_fit": null,
            "grid_auto_columns": null,
            "margin": null,
            "display": null,
            "left": null
          }
        },
        "3ddba0fa90ab42e09a1480f3ebf1d551": {
          "model_module": "@jupyter-widgets/controls",
          "model_name": "HBoxModel",
          "state": {
            "_view_name": "HBoxView",
            "_dom_classes": [],
            "_model_name": "HBoxModel",
            "_view_module": "@jupyter-widgets/controls",
            "_model_module_version": "1.5.0",
            "_view_count": null,
            "_view_module_version": "1.5.0",
            "box_style": "",
            "layout": "IPY_MODEL_9a6ff15e09074a3dbde1a1931f5f59f9",
            "_model_module": "@jupyter-widgets/controls",
            "children": [
              "IPY_MODEL_d741ef946faa4e7fba0deddf493fc9bd",
              "IPY_MODEL_e51966a3fcca44218b6b40b71d60d0af"
            ]
          }
        },
        "9a6ff15e09074a3dbde1a1931f5f59f9": {
          "model_module": "@jupyter-widgets/base",
          "model_name": "LayoutModel",
          "state": {
            "_view_name": "LayoutView",
            "grid_template_rows": null,
            "right": null,
            "justify_content": null,
            "_view_module": "@jupyter-widgets/base",
            "overflow": null,
            "_model_module_version": "1.2.0",
            "_view_count": null,
            "flex_flow": null,
            "width": null,
            "min_width": null,
            "border": null,
            "align_items": null,
            "bottom": null,
            "_model_module": "@jupyter-widgets/base",
            "top": null,
            "grid_column": null,
            "overflow_y": null,
            "overflow_x": null,
            "grid_auto_flow": null,
            "grid_area": null,
            "grid_template_columns": null,
            "flex": null,
            "_model_name": "LayoutModel",
            "justify_items": null,
            "grid_row": null,
            "max_height": null,
            "align_content": null,
            "visibility": null,
            "align_self": null,
            "height": null,
            "min_height": null,
            "padding": null,
            "grid_auto_rows": null,
            "grid_gap": null,
            "max_width": null,
            "order": null,
            "_view_module_version": "1.2.0",
            "grid_template_areas": null,
            "object_position": null,
            "object_fit": null,
            "grid_auto_columns": null,
            "margin": null,
            "display": null,
            "left": null
          }
        },
        "d741ef946faa4e7fba0deddf493fc9bd": {
          "model_module": "@jupyter-widgets/controls",
          "model_name": "FloatProgressModel",
          "state": {
            "_view_name": "ProgressView",
            "style": "IPY_MODEL_db72ffe185874003b832b2f81c0668aa",
            "_dom_classes": [],
            "description": "SNN:  32%",
            "_model_name": "FloatProgressModel",
            "bar_style": "",
            "max": 50,
            "_view_module": "@jupyter-widgets/controls",
            "_model_module_version": "1.5.0",
            "value": 16,
            "_view_count": null,
            "_view_module_version": "1.5.0",
            "orientation": "horizontal",
            "min": 0,
            "description_tooltip": null,
            "_model_module": "@jupyter-widgets/controls",
            "layout": "IPY_MODEL_91deb42af41148faaa5b95ca81fbbf1a"
          }
        },
        "e51966a3fcca44218b6b40b71d60d0af": {
          "model_module": "@jupyter-widgets/controls",
          "model_name": "HTMLModel",
          "state": {
            "_view_name": "HTMLView",
            "style": "IPY_MODEL_d9dc64c9fcf64e72a861b020173c4c5b",
            "_dom_classes": [],
            "description": "",
            "_model_name": "HTMLModel",
            "placeholder": "​",
            "_view_module": "@jupyter-widgets/controls",
            "_model_module_version": "1.5.0",
            "value": " 16/50 [09:30&lt;20:15, 35.76s/it, a_train_loss=0.684367, b_valid_loss=0.686067, c_best_loss=0.685295, d_train_metric=-9664.284407, e_valid_metric=-2137.218226, f_best_metric=-2510.541758, g_es_counter=2, h_last_lr=0.08736673]",
            "_view_count": null,
            "_view_module_version": "1.5.0",
            "description_tooltip": null,
            "_model_module": "@jupyter-widgets/controls",
            "layout": "IPY_MODEL_6aa4fb53422f4104ad21c6158a26d25a"
          }
        },
        "db72ffe185874003b832b2f81c0668aa": {
          "model_module": "@jupyter-widgets/controls",
          "model_name": "ProgressStyleModel",
          "state": {
            "_view_name": "StyleView",
            "_model_name": "ProgressStyleModel",
            "description_width": "initial",
            "_view_module": "@jupyter-widgets/base",
            "_model_module_version": "1.5.0",
            "_view_count": null,
            "_view_module_version": "1.2.0",
            "bar_color": null,
            "_model_module": "@jupyter-widgets/controls"
          }
        },
        "91deb42af41148faaa5b95ca81fbbf1a": {
          "model_module": "@jupyter-widgets/base",
          "model_name": "LayoutModel",
          "state": {
            "_view_name": "LayoutView",
            "grid_template_rows": null,
            "right": null,
            "justify_content": null,
            "_view_module": "@jupyter-widgets/base",
            "overflow": null,
            "_model_module_version": "1.2.0",
            "_view_count": null,
            "flex_flow": null,
            "width": null,
            "min_width": null,
            "border": null,
            "align_items": null,
            "bottom": null,
            "_model_module": "@jupyter-widgets/base",
            "top": null,
            "grid_column": null,
            "overflow_y": null,
            "overflow_x": null,
            "grid_auto_flow": null,
            "grid_area": null,
            "grid_template_columns": null,
            "flex": null,
            "_model_name": "LayoutModel",
            "justify_items": null,
            "grid_row": null,
            "max_height": null,
            "align_content": null,
            "visibility": null,
            "align_self": null,
            "height": null,
            "min_height": null,
            "padding": null,
            "grid_auto_rows": null,
            "grid_gap": null,
            "max_width": null,
            "order": null,
            "_view_module_version": "1.2.0",
            "grid_template_areas": null,
            "object_position": null,
            "object_fit": null,
            "grid_auto_columns": null,
            "margin": null,
            "display": null,
            "left": null
          }
        },
        "d9dc64c9fcf64e72a861b020173c4c5b": {
          "model_module": "@jupyter-widgets/controls",
          "model_name": "DescriptionStyleModel",
          "state": {
            "_view_name": "StyleView",
            "_model_name": "DescriptionStyleModel",
            "description_width": "",
            "_view_module": "@jupyter-widgets/base",
            "_model_module_version": "1.5.0",
            "_view_count": null,
            "_view_module_version": "1.2.0",
            "_model_module": "@jupyter-widgets/controls"
          }
        },
        "6aa4fb53422f4104ad21c6158a26d25a": {
          "model_module": "@jupyter-widgets/base",
          "model_name": "LayoutModel",
          "state": {
            "_view_name": "LayoutView",
            "grid_template_rows": null,
            "right": null,
            "justify_content": null,
            "_view_module": "@jupyter-widgets/base",
            "overflow": null,
            "_model_module_version": "1.2.0",
            "_view_count": null,
            "flex_flow": null,
            "width": null,
            "min_width": null,
            "border": null,
            "align_items": null,
            "bottom": null,
            "_model_module": "@jupyter-widgets/base",
            "top": null,
            "grid_column": null,
            "overflow_y": null,
            "overflow_x": null,
            "grid_auto_flow": null,
            "grid_area": null,
            "grid_template_columns": null,
            "flex": null,
            "_model_name": "LayoutModel",
            "justify_items": null,
            "grid_row": null,
            "max_height": null,
            "align_content": null,
            "visibility": null,
            "align_self": null,
            "height": null,
            "min_height": null,
            "padding": null,
            "grid_auto_rows": null,
            "grid_gap": null,
            "max_width": null,
            "order": null,
            "_view_module_version": "1.2.0",
            "grid_template_areas": null,
            "object_position": null,
            "object_fit": null,
            "grid_auto_columns": null,
            "margin": null,
            "display": null,
            "left": null
          }
        }
      }
    }
  },
  "cells": [
    {
      "cell_type": "markdown",
      "metadata": {
        "id": "view-in-github",
        "colab_type": "text"
      },
      "source": [
        "<a href=\"https://colab.research.google.com/github/mavillan/jane-street-market-prediction/blob/main/tuning/snn-optuna.ipynb\" target=\"_parent\"><img src=\"https://colab.research.google.com/assets/colab-badge.svg\" alt=\"Open In Colab\"/></a>"
      ]
    },
    {
      "cell_type": "code",
      "metadata": {
        "colab": {
          "base_uri": "https://localhost:8080/"
        },
        "id": "Dr8g_8dO6tM9",
        "outputId": "6cde519b-6d0d-4cf6-8832-5bed60753d7a"
      },
      "source": [
        "from google.colab import drive\n",
        "drive.mount('/content/drive', force_remount=True)"
      ],
      "execution_count": 1,
      "outputs": [
        {
          "output_type": "stream",
          "text": [
            "Mounted at /content/drive\n"
          ],
          "name": "stdout"
        }
      ]
    },
    {
      "cell_type": "code",
      "metadata": {
        "id": "kYnT8Tmx_-Js"
      },
      "source": [
        "!pip install -Iv scikit-learn==0.23.2 > /dev/null 2>&1\n",
        "!pip install optuna > /dev/null 2>&1"
      ],
      "execution_count": 2,
      "outputs": []
    },
    {
      "cell_type": "code",
      "metadata": {
        "colab": {
          "base_uri": "https://localhost:8080/"
        },
        "id": "W4rwnTOt__ew",
        "outputId": "efe2e254-7c9c-4300-f3ed-910677831593"
      },
      "source": [
        "import copy\n",
        "import os\n",
        "import numpy as np \n",
        "import pandas as pd\n",
        "from pathlib import Path\n",
        "import pickle\n",
        "import matplotlib.pyplot as plt\n",
        "import seaborn as sns\n",
        "import optuna\n",
        "\n",
        "from sklearn.experimental import enable_iterative_imputer\n",
        "from sklearn.impute import IterativeImputer\n",
        "from sklearn.linear_model import BayesianRidge\n",
        "\n",
        "import torch\n",
        "import torch.nn as nn\n",
        "from torch.utils.data import Dataset,TensorDataset,DataLoader\n",
        "\n",
        "# custom modules\n",
        "import sys\n",
        "sys.path.append(\"/content/drive/MyDrive/kaggle/janestreet\")\n",
        "from torch_utils import Monitor, train_step, valid_step\n",
        "\n",
        "def set_seed(seed):\n",
        "    np.random.seed(seed)\n",
        "    torch.manual_seed(seed)\n",
        "    torch.cuda.manual_seed(seed)\n",
        "    torch.cuda.manual_seed_all(seed)\n",
        "    torch.backends.cudnn.deterministic = True\n",
        "    \n",
        "set_seed(2)\n",
        "\n",
        "device = torch.device(\"cuda\" if torch.cuda.is_available() else \"cpu\")\n",
        "device"
      ],
      "execution_count": 3,
      "outputs": [
        {
          "output_type": "execute_result",
          "data": {
            "text/plain": [
              "device(type='cuda')"
            ]
          },
          "metadata": {
            "tags": []
          },
          "execution_count": 3
        }
      ]
    },
    {
      "cell_type": "markdown",
      "metadata": {
        "id": "-fk8dRnlBJdO"
      },
      "source": [
        "***\n",
        "### utility functions"
      ]
    },
    {
      "cell_type": "code",
      "metadata": {
        "id": "pVWwthUVA-iS"
      },
      "source": [
        "def utility_score(date, weight, resp, action):\n",
        "    \"\"\"\n",
        "    Fast computation of utility score\n",
        "    \"\"\"\n",
        "    date = date.astype(int)\n",
        "    count_i = len(np.unique(date))\n",
        "    Pi = np.bincount(date, weight * resp * action)\n",
        "    t = np.sum(Pi) / np.sqrt(np.sum(Pi ** 2)) * np.sqrt(250 / count_i)\n",
        "    u = np.clip(t, 0, 6) * np.sum(Pi)\n",
        "    return -u"
      ],
      "execution_count": 4,
      "outputs": []
    },
    {
      "cell_type": "code",
      "metadata": {
        "id": "pkqWFg7_BMOE"
      },
      "source": [
        "def cat_encoder(X):\n",
        "    \"\"\"\n",
        "    Fast one-hot encoding of feature_0\n",
        "    \"\"\"\n",
        "    X[\"feature_00\"] = 0\n",
        "    idx00 = X.query(\"feature_0 == -1\").index\n",
        "    X.loc[idx00,\"feature_00\"] = 1\n",
        "    \n",
        "    X[\"feature_01\"] = 0\n",
        "    idx01 = X.query(\"feature_0 == 1\").index\n",
        "    X.loc[idx01,\"feature_01\"] = 1\n",
        "    \n",
        "    return X.iloc[:,1:]"
      ],
      "execution_count": 5,
      "outputs": []
    },
    {
      "cell_type": "code",
      "metadata": {
        "id": "vr4HjJC_BOae"
      },
      "source": [
        "def show_metrics(monitor):\n",
        "    x = np.arange(len(monitor.train_loss))\n",
        "    \n",
        "    fig, axes = plt.subplots(nrows=1, ncols=2, figsize=(21, 7))\n",
        "    \n",
        "    ax1 = axes[0]\n",
        "    ax2 = ax1.twinx()\n",
        "    ax1.plot(x, monitor.train_loss, 'go-', label=\"train_loss\")\n",
        "    ax2.plot(x, monitor.train_metric, 'ro-', label=\"train_metric\")\n",
        "    plt.legend(loc=\"best\")\n",
        "    ax1.set_xlabel('epochs')\n",
        "    ax1.set_ylabel('loss')\n",
        "    ax1.set_title(\"Training\")\n",
        "    plt.grid()\n",
        "    \n",
        "    ax1 = axes[1]\n",
        "    ax2 = ax1.twinx()\n",
        "    ax1.plot(x, monitor.valid_loss, 'go-', label=\"valid_loss\")\n",
        "    ax2.plot(x, monitor.valid_metric, 'ro-', label=\"valid_metric\")\n",
        "    plt.legend(loc=\"best\")\n",
        "    ax1.set_xlabel('epochs')\n",
        "    ax2.set_ylabel('metric')\n",
        "    ax1.set_title(\"Validation\")\n",
        "    plt.grid()\n",
        "    \n",
        "    plt.show()"
      ],
      "execution_count": 6,
      "outputs": []
    },
    {
      "cell_type": "markdown",
      "metadata": {
        "id": "apOKLQQ2BSm1"
      },
      "source": [
        "***\n",
        "### preparing the data"
      ]
    },
    {
      "cell_type": "code",
      "metadata": {
        "colab": {
          "base_uri": "https://localhost:8080/"
        },
        "id": "zrCJeuBiBQrx",
        "outputId": "28a5e430-abd2-4ebf-f0eb-3553f0de917b"
      },
      "source": [
        "root = Path(\"/content/drive/MyDrive/kaggle/janestreet/preprocessing/\")\n",
        "\n",
        "train = pd.read_parquet(root/\"train.parquet\")\n",
        "features = pd.read_parquet(root/\"features.parquet\")\n",
        "\n",
        "train.info()"
      ],
      "execution_count": 7,
      "outputs": [
        {
          "output_type": "stream",
          "text": [
            "<class 'pandas.core.frame.DataFrame'>\n",
            "RangeIndex: 2390491 entries, 0 to 2390490\n",
            "Columns: 143 entries, date to w4\n",
            "dtypes: float32(140), int16(1), int32(1), int8(1)\n",
            "memory usage: 1.3 GB\n"
          ],
          "name": "stdout"
        }
      ]
    },
    {
      "cell_type": "code",
      "metadata": {
        "id": "lGSvr3QTBiW0"
      },
      "source": [
        "train = train.query(\"date > 85\").query(\"weight > 0\").reset_index(drop=True)\n",
        "\n",
        "input_features = [col for col in train.columns if \"feature\" in col]\n",
        "resp_cols = ['resp', 'resp_1', 'resp_2', 'resp_3', 'resp_4']\n",
        "w_cols = [\"w\", \"w1\", \"w2\", \"w3\", \"w4\"]\n",
        "\n",
        "X_dset = train.loc[:,input_features].copy()\n",
        "y_dset = (train.loc[:,resp_cols] > 0).astype(int).copy()\n",
        "w_dset = train.loc[:, w_cols].copy()\n",
        "dwr_dset = train.loc[:, [\"date\",\"weight\",\"resp\"]].copy()"
      ],
      "execution_count": 8,
      "outputs": []
    },
    {
      "cell_type": "code",
      "metadata": {
        "colab": {
          "base_uri": "https://localhost:8080/"
        },
        "id": "qrvm_YmFBlxK",
        "outputId": "ad36938f-a382-4b45-9297-04a7d2b72a98"
      },
      "source": [
        "%%time \n",
        "\n",
        "with open(\"/content/drive/MyDrive/kaggle/janestreet/imputer/imputer_f0m1.pickle\", \"rb\") as file:\n",
        "    imputer_f0m1 = pickle.load(file)\n",
        "    file.close()\n",
        "    \n",
        "with open(\"/content/drive/MyDrive/kaggle/janestreet/imputer/imputer_f0p1.pickle\", \"rb\") as file:\n",
        "    imputer_f0p1 = pickle.load(file)\n",
        "    file.close()\n",
        "\n",
        "idx_f0m1 = X_dset.query(\"feature_0 == -1\").index\n",
        "X_dset.loc[idx_f0m1, input_features[1:]] = imputer_f0m1.transform(X_dset.loc[idx_f0m1, input_features[1:]])\n",
        "\n",
        "idx_f0p1 = X_dset.query(\"feature_0 ==  1\").index\n",
        "X_dset.loc[idx_f0p1, input_features[1:]] = imputer_f0p1.transform(X_dset.loc[idx_f0p1, input_features[1:]])"
      ],
      "execution_count": 9,
      "outputs": [
        {
          "output_type": "stream",
          "text": [
            "CPU times: user 41.8 s, sys: 6.44 s, total: 48.3 s\n",
            "Wall time: 44.4 s\n"
          ],
          "name": "stdout"
        }
      ]
    },
    {
      "cell_type": "code",
      "metadata": {
        "id": "Lz1p9G7-B2jm"
      },
      "source": [
        "X_dset = cat_encoder(X_dset)\n",
        "input_features = X_dset.columns.tolist()"
      ],
      "execution_count": 10,
      "outputs": []
    },
    {
      "cell_type": "markdown",
      "metadata": {
        "id": "bshDOMpTB3uw"
      },
      "source": [
        "***\n",
        "### model definition"
      ]
    },
    {
      "cell_type": "code",
      "metadata": {
        "id": "-Mtkhl3nB3OX"
      },
      "source": [
        "class GBN(nn.Module):\n",
        "    \"\"\"\n",
        "    Ghost Batch Normalization\n",
        "    https://arxiv.org/abs/1705.08741\n",
        "    \"\"\"\n",
        "\n",
        "    def __init__(self, input_dim, virtual_batch_size=128, momentum=0.01):\n",
        "        super(GBN, self).__init__()\n",
        "\n",
        "        self.input_dim = input_dim\n",
        "        self.virtual_batch_size = virtual_batch_size\n",
        "        self.bn = nn.BatchNorm1d(self.input_dim, momentum=momentum)\n",
        "\n",
        "    def forward(self, x):\n",
        "        chunks = x.chunk(int(np.ceil(x.shape[0] / self.virtual_batch_size)), 0)\n",
        "        res = [self.bn(x_) for x_ in chunks]\n",
        "\n",
        "        return torch.cat(res, dim=0)\n",
        "\n",
        "class NormalLinear(nn.Module):\n",
        "    \"\"\" \n",
        "    Linear layer with normalized weights\n",
        "    \"\"\"\n",
        "    def __init__(self, size_in, size_out, bias=True):\n",
        "        super().__init__()\n",
        "        self.size_in, self.size_out = size_in, size_out\n",
        "        # weights vector\n",
        "        weights_v = torch.Tensor(size_out, size_in)\n",
        "        nn.init.kaiming_uniform_(weights_v, a=np.sqrt(5)) \n",
        "        self.weights_v = nn.Parameter(weights_v)\n",
        "        # weights magnitude\n",
        "        weights_m = torch.norm(weights_v, dim=1, keepdim=True)\n",
        "        self.weights_m = nn.Parameter(weights_m)\n",
        "        \n",
        "        if bias:\n",
        "            bias_v = torch.Tensor(size_out)    \n",
        "            fan_in, _ = nn.init._calculate_fan_in_and_fan_out(weights_v)\n",
        "            bound = 1 / np.sqrt(fan_in)\n",
        "            nn.init.uniform_(bias_v, -bound, bound)\n",
        "            self.bias = nn.Parameter(bias_v)\n",
        "        else:\n",
        "            self.register_parameter('bias', None)\n",
        "        \n",
        "        self._normalize_weights()\n",
        "            \n",
        "    def _normalize_weights(self):\n",
        "        with torch.set_grad_enabled(False):\n",
        "            norm_per_output = torch.norm(self.weights_v, dim=1, keepdim=True)\n",
        "            self.weights_v.div_(norm_per_output)\n",
        "            \n",
        "    def forward(self, x):\n",
        "        self._normalize_weights()\n",
        "        return nn.functional.linear(x, self.weights_v * self.weights_m, self.bias)"
      ],
      "execution_count": 11,
      "outputs": []
    },
    {
      "cell_type": "code",
      "metadata": {
        "id": "b6YRV9RrB-5g"
      },
      "source": [
        "class SNN(nn.Module):\n",
        "    \"\"\"\n",
        "    SNN for pretraining\n",
        "    \"\"\"\n",
        "\n",
        "    def __init__(self, input_dim, output_dim, nn_depth, nn_width, dropout, momentum=0.02, virtual_batch_size=128):\n",
        "        super().__init__()\n",
        "        \n",
        "        self.bn_in = GBN(input_dim, virtual_batch_size=virtual_batch_size, momentum=momentum)\n",
        "        self.dp_in = nn.Dropout(dropout)\n",
        "        self.ln_in = NormalLinear(input_dim, nn_width, bias=False)\n",
        "        \n",
        "        self.bnorms = nn.ModuleList(\n",
        "            [GBN(nn_width, virtual_batch_size=virtual_batch_size, momentum=momentum) \n",
        "             for i in range(nn_depth-1)])\n",
        "        self.dropouts = nn.ModuleList(\n",
        "            [nn.Dropout(dropout) \n",
        "             for i in range(nn_depth-1)])\n",
        "        self.linears = nn.ModuleList(\n",
        "            [NormalLinear(nn_width, nn_width, bias=False) \n",
        "             for i in range(nn_depth-1)])\n",
        "        \n",
        "        self.bn_out = GBN(nn_width, virtual_batch_size=virtual_batch_size, momentum=momentum)\n",
        "        self.dp_out = nn.Dropout(dropout/2)\n",
        "        self.ln_out = NormalLinear(nn_width, output_dim, bias=False)\n",
        "\n",
        "    def forward(self, x):\n",
        "        x = self.bn_in(x)\n",
        "        x = self.dp_in(x)\n",
        "        x = self.ln_in(x)\n",
        "        x = nn.functional.relu(x)\n",
        "\n",
        "        for bn_layer,dp_layer,ln_layer in zip(self.bnorms,self.dropouts,self.linears):\n",
        "            x = bn_layer(x)\n",
        "            x = dp_layer(x)\n",
        "            x = ln_layer(x)\n",
        "            x = nn.functional.relu(x)\n",
        "            \n",
        "        x = self.bn_out(x)\n",
        "        x = self.dp_out(x)\n",
        "        x = self.ln_out(x)\n",
        "        return x"
      ],
      "execution_count": 12,
      "outputs": []
    },
    {
      "cell_type": "code",
      "metadata": {
        "id": "ypiBNQQ5CG0o"
      },
      "source": [
        "class BCELabelSmoothing(nn.Module):\n",
        "    def __init__(self, label_smoothing=0.0):\n",
        "        super(BCELabelSmoothing, self).__init__()\n",
        "        self.label_smoothing = label_smoothing\n",
        "        self.bce_loss = torch.nn.functional.binary_cross_entropy_with_logits\n",
        "        \n",
        "    def forward(self, prediction, target, weight=None):\n",
        "        target_smooth = target*(1.0 - self.label_smoothing) + 0.5*self.label_smoothing\n",
        "        if weight is None:\n",
        "            loss = self.bce_loss(prediction, target_smooth, reduction=\"mean\")\n",
        "        else:\n",
        "            loss = self.bce_loss(prediction, target_smooth, weight, reduction=\"sum\") / torch.sum(weight)\n",
        "        return loss\n",
        "\n",
        "bce_loss = BCELabelSmoothing(label_smoothing=1e-2)"
      ],
      "execution_count": 13,
      "outputs": []
    },
    {
      "cell_type": "markdown",
      "metadata": {
        "id": "6ZIUqLHZCKzo"
      },
      "source": [
        "***\n",
        "### Hyperparameter tuning"
      ]
    },
    {
      "cell_type": "code",
      "metadata": {
        "colab": {
          "base_uri": "https://localhost:8080/"
        },
        "id": "NuU6IXiNB3V5",
        "outputId": "c8464f13-78f6-48ad-dcbe-8fb8e7e5a2cf"
      },
      "source": [
        "# 80% rows for train & 20% for valid\n",
        "train_idx = train.query(\"date < 430\").index\n",
        "valid_idx = train.query(\"date >= 430\").index\n",
        "\n",
        "train_dset = TensorDataset(torch.tensor(X_dset.loc[train_idx].values, dtype=torch.float), \n",
        "                           torch.tensor(y_dset.loc[train_idx].values, dtype=torch.float),\n",
        "                           torch.tensor(w_dset.loc[train_idx].values, dtype=torch.float),\n",
        "                           torch.tensor(dwr_dset.loc[train_idx].values, dtype=torch.float),\n",
        "                          )\n",
        "\n",
        "valid_dset = TensorDataset(torch.tensor(X_dset.loc[valid_idx].values, dtype=torch.float), \n",
        "                           torch.tensor(y_dset.loc[valid_idx].values, dtype=torch.float),\n",
        "                           torch.tensor(w_dset.loc[valid_idx].values, dtype=torch.float),\n",
        "                           torch.tensor(dwr_dset.loc[valid_idx].values, dtype=torch.float),\n",
        "                          )\n",
        "\n",
        "dataset_sizes = {'train': len(train_dset), 'valid': len(valid_dset)}\n",
        "train_dataloader = DataLoader(train_dset, batch_size=2048, shuffle=True, num_workers=2)\n",
        "valid_dataloader = DataLoader(valid_dset, batch_size=len(valid_dset), shuffle=False, num_workers=2)\n",
        "\n",
        "print(\"Number of step per epoch:\", len(train_dset)//2048)"
      ],
      "execution_count": 14,
      "outputs": [
        {
          "output_type": "stream",
          "text": [
            "Number of step per epoch: 612\n"
          ],
          "name": "stdout"
        }
      ]
    },
    {
      "cell_type": "code",
      "metadata": {
        "id": "178O3aGDCJyH"
      },
      "source": [
        "if os.path.exists(f\"/content/drive/MyDrive/kaggle/janestreet/logs/snn_tuning.csv\"):\n",
        "    logger = open(f\"/content/drive/MyDrive/kaggle/janestreet/logs/snn_tuning.csv\", \"a\")\n",
        "else:\n",
        "    logger = open(f\"/content/drive/MyDrive/kaggle/janestreet/logs/snn_tuning.csv\", \"w\")\n",
        "    logger.write(\"trial;params;loss;metric;loss_hist;metric_hist\\n\")"
      ],
      "execution_count": 15,
      "outputs": []
    },
    {
      "cell_type": "code",
      "metadata": {
        "id": "gHRlUdCRD4k9"
      },
      "source": [
        "default_nn_kwargs = {\n",
        "    \"input_dim\":len(input_features),\n",
        "    \"output_dim\":len(resp_cols),\n",
        "    \"nn_depth\":3,\n",
        "    }\n",
        "\n",
        "def objective(trial):\n",
        "    sampled_nn_kwargs = {\n",
        "        #\"nn_depth\": trial.suggest_int(\"nn_depth\", 3, 5)\n",
        "        \"nn_width\": int(trial.suggest_discrete_uniform(\"nn_width\", 64, 192, 16)),\n",
        "        \"dropout\": trial.suggest_discrete_uniform(\"nn_dropout\", 0.1, 0.5, 0.05),\n",
        "        \"momentum\": trial.suggest_discrete_uniform(\"momentum\", 0.01, 0.1, 0.01),\n",
        "        \"virtual_batch_size\": 2 ** trial.suggest_int(\"virtual_batch_size\", 7, 10),\n",
        "        }\n",
        "    nn_kwargs = {**sampled_nn_kwargs, **default_nn_kwargs}\n",
        "\n",
        "    # other hyperparams\n",
        "    weight_decay = 10 ** trial.suggest_int(\"weight_decay\", -6, -2)\n",
        "    pct_start = trial.suggest_discrete_uniform(\"pct_start\", 0.1, 0.5, 0.1)\n",
        "\n",
        "    sampled_params = {\n",
        "        **sampled_nn_kwargs,\n",
        "        \"weight_decay\":weight_decay,\n",
        "        \"pct_start\":pct_start,\n",
        "        }\n",
        "    print(\"-\"*80)\n",
        "    print(\"sampled_params:\", sampled_params)\n",
        "\n",
        "    model = SNN(**nn_kwargs)\n",
        "    model = model.to(device)\n",
        "    optimizer = torch.optim.SGD(model.parameters(), lr=5e-2, momentum=0.9, weight_decay=weight_decay)\n",
        "\n",
        "    scheduler = torch.optim.lr_scheduler.OneCycleLR(\n",
        "        optimizer, \n",
        "        max_lr=1e-1,\n",
        "        epochs=50,\n",
        "        pct_start=pct_start, \n",
        "        anneal_strategy='cos', \n",
        "        cycle_momentum=True, \n",
        "        base_momentum=0.8, \n",
        "        max_momentum=0.9, \n",
        "        div_factor=1e1,\n",
        "        final_div_factor=1e0,\n",
        "        steps_per_epoch=len(train_dataloader),\n",
        "        verbose=False)\n",
        "    \n",
        "    monitor = Monitor(\n",
        "        model=model,\n",
        "        optimizer=optimizer,\n",
        "        scheduler=scheduler,\n",
        "        patience=10,\n",
        "        metric_fn=utility_score,\n",
        "        experiment_name=f'SNN',\n",
        "        num_epochs=50,\n",
        "        dataset_sizes=dataset_sizes,\n",
        "        early_stop_on_metric=False,\n",
        "        lower_is_better=True)\n",
        "    \n",
        "    for epoch in monitor.iter_epochs:\n",
        "        train_step(model, train_dataloader, optimizer, monitor, bce_loss, scheduler=scheduler, clip_value=None)    \n",
        "        early_stop = valid_step(model, valid_dataloader, optimizer, monitor, bce_loss)\n",
        "        if early_stop: break\n",
        "\n",
        "    logger.write(f\"{trial.number};{sampled_params};{monitor.best_loss};{monitor.best_metric};{monitor.valid_loss[-10:]};{monitor.valid_metric[-10:]}\\n\")\n",
        "    logger.flush()\n",
        "\n",
        "    print(f\"best_valid_loss: {monitor.best_loss} - best_valid_metric: {monitor.best_metric}\")\n",
        "    return monitor.best_loss"
      ],
      "execution_count": 16,
      "outputs": []
    },
    {
      "cell_type": "code",
      "metadata": {
        "colab": {
          "base_uri": "https://localhost:8080/",
          "height": 1000,
          "referenced_widgets": [
            "fcc1cd8c8de54afba60ef1ad8d4d1018",
            "f84a2c2c47ea44b59a0f3c832149b88f",
            "2994e5a56c574389a6e8881646feaa98",
            "bfce33ac5715423bb82fed790cfccf11",
            "82bf08d283c3459a9cac2faa887a887c",
            "6085665356a6480b95641c651fbbc253",
            "ac35ec6b89fe496d959071ff7a37d6ad",
            "a84c872ce4e249318b1414041fa34cee",
            "e7b110084b3445388b1f9545adab0fca",
            "f08d9cc52d034e45a233ac8f49ff7090",
            "b5ed1f88c9b64ee697ef48defebc31a2",
            "e3b054d9b1994ec8a1f899c89ca1dd33",
            "f9b86644e57e4eff8872533b291728b9",
            "1098c43859bc4d8093f90e2370527228",
            "35614c7e75df409480c37e35277b8a82",
            "0cb530c18e1041babbea5e111fa27c25",
            "76e77b2379544e999a1d7fa313b0e551",
            "81b3cecdfba248ad9985e07de014a1eb",
            "d12c7291dd144cd2a292f825ab12b546",
            "04f9a05b204f4a3995755cd57d959e7c",
            "5f71065f1ba1451e851dad1bcc492b93",
            "64c863c1641a49cba390a3d0a1f31acf",
            "45a49a03728a4ce081d74367be214c27",
            "78bb1ec2e8184d2497157ad963e2fe42",
            "0af913b1970741379f4c841e353e786f",
            "7910f6b6dee84d13bb3c363828ced05b",
            "ab4f9a5ea32d48ff84adb1f0457899a4",
            "9972f20d17ca4f81bf0254cfa6e97f7c",
            "8e030c885156433692ecbabe0a1193e5",
            "30dc20dddb444ca2bddd5ac6204f5b79",
            "1c2b658f948444c8b0c1b64bbfeb9ea3",
            "1846f963acd144e48f8a6756d7b29a1a",
            "3ee89473170f4dc9a5ef10a30f775dc5",
            "472b63efc10643558b3ce0498206916e",
            "8212939f4d074d4987982850beddec4b",
            "5a8007bf8d80400e92b9d4171e4a9beb",
            "446767e6e13a4020a3b3faee0e80a886",
            "41a71ce0bbff427f8e59001f9d040d95",
            "d0348b1c27a9450cbd4ad8c08d56ba67",
            "fe9f3664cfc042fda3467f9aa9b60469",
            "5542749612414b78bcab7c54603110ce",
            "db4d350b9c5b4c87bf2f9f3bc68527a2",
            "40c2c5f583cb4a9bb93e67d55ccd3007",
            "20b7ca6900e84230803a7085bf3771d6",
            "8ee0ea6bec0a4cad9a21a5d38bd57eb8",
            "2a361ffb39384c418427d7fa9bd986df",
            "24d7752e7bb0423bb65e7d42f76837c0",
            "afefb1d637394d2fa9e97899525472de",
            "815ab69293b7418ea26e648d67a1952e",
            "6f5f59f0aa4a49eba28dcf948825f471",
            "29119cceac274b4b95682fae3383de0e",
            "53031acef8a74b6b8b309d63c7cd14a4",
            "c2138242c186479b918274dd137b04c4",
            "3c4cc5baa4fa40b2a8cee00b3377c266",
            "efb3312bb9564ed0bd093dec7daa0028",
            "f573ca08252f4e0f968e9a07875a6700",
            "edd97297f9034585aac49056c711c89a",
            "ff78ffe1560443e0ade6ab6e5d021fe0",
            "d5d464b3d2c34b7ea4ed866c1184c67a",
            "fd254cae6744465194cc10f2903954e3",
            "23ccce851ad54333b33175401b0e0384",
            "c33859c171b14ee0b3b2a392529febd8",
            "4973a8a0b2f341e39ef23e7722375c79",
            "23bb43cd8fe64b58aa0479592ef127a4",
            "34501d43aa76466193ac46a906e240b5",
            "8cc89548fa7e4e0392f2d4ed7e8ae9c2",
            "831f93aba05b4f6ea9aa160f7d9c580c",
            "36ad4b7c75084e59b30a02f741a09f3e",
            "da323b05dfba4193a12c6746f2eafd91",
            "c6f5bf095be74c8486721c986bc888b2",
            "1d24d4453c564fbaa8f804227517b593",
            "3ce70e056540478891c4517381dce956",
            "3df4a3de673c4c89958f20a6501a22ec",
            "72215d7e006545c1be4261a900f48cc8",
            "7ae710b29af84ad09287b34e758fc4a1",
            "eeedcb2859a14c4ba1a69d70f2569a2d",
            "227b9556d2ab453e83dddac83a3f163f",
            "b9a6cdce22734fc78a4e47fb391ef543",
            "8cb0cb4d14bb44ffa5130f723101ade1",
            "c4415c0d2e55461bb15cac599afeb247",
            "672d6e006eee484db698db503a17c015",
            "67e02dc3529e484c9b977c5780648b00",
            "97de8a554a8a447cbf6746f24bb51ab3",
            "4bd9d7f80e004715a8778112f8cac2e1",
            "c6a3b124eda34458bbe53b47f419be93",
            "cfcfd47219024857ba8d641763c0bbd0",
            "429cfe1ac4424c5b89853106d0e9b72b",
            "43abf6ab341443f298764e3e5a93a407",
            "4ed83692c42449b3bffef891921d75e0",
            "5913193119884e858b9b5b5f53366da1",
            "61631c0388ae4a59b1777208f84b35dc",
            "9d4285bb5ca04c8b82185d9171e68b6b",
            "fa6e47998d0449039d15db88269f6e26",
            "61679fc771bb4a7ea94817a2d674b5a6",
            "b2b50e62e9ef42fc87cd347b18cdd7ae",
            "a6dbeeb9c90243208d61f37f9f2034b5",
            "3fa7432959ad41b7a5b67c0797364454",
            "ba97ff64e5044f3ab56044ba1dc372bf",
            "1c988a479f8441c68f152f75a9894a3d",
            "96eab932d156484c9b03383898af8d27",
            "0f9dfdea988746fd86c04621ecac25c8",
            "d2b9e2c0f71b48e5b9fd3ff45f77391c",
            "6dfcf6ef189d4be69f877141a4effaa3",
            "0c89112d65c24a039028184766797125",
            "3ddba0fa90ab42e09a1480f3ebf1d551",
            "9a6ff15e09074a3dbde1a1931f5f59f9",
            "d741ef946faa4e7fba0deddf493fc9bd",
            "e51966a3fcca44218b6b40b71d60d0af",
            "db72ffe185874003b832b2f81c0668aa",
            "91deb42af41148faaa5b95ca81fbbf1a",
            "d9dc64c9fcf64e72a861b020173c4c5b",
            "6aa4fb53422f4104ad21c6158a26d25a",
            "64ba17978bb74a268038b3aae6c92381",
            "42bcaba97a6447a1bdfc930fa7bd10d8",
            "7455ce8026a94319b97107db39465801",
            "e79a7f6ca4d94461bc8fe81f32711cd5"
          ]
        },
        "id": "2rvn1v1eM9_N",
        "outputId": "baf8bd19-d19a-425e-c901-6e0a40ef6141"
      },
      "source": [
        "study = optuna.create_study(direction='minimize')\n",
        "study.optimize(objective, n_trials=200, timeout=43200, show_progress_bar=False)"
      ],
      "execution_count": null,
      "outputs": [
        {
          "output_type": "stream",
          "text": [
            "\u001b[32m[I 2021-02-16 18:55:36,220]\u001b[0m A new study created in memory with name: no-name-c432670e-9f86-4f7e-855e-d256c09fa035\u001b[0m\n"
          ],
          "name": "stderr"
        },
        {
          "output_type": "stream",
          "text": [
            "--------------------------------------------------------------------------------\n",
            "sampled_params: {'nn_width': 176, 'dropout': 0.30000000000000004, 'momentum': 0.05, 'virtual_batch_size': 128, 'weight_decay': 0.0001, 'pct_start': 0.4}\n"
          ],
          "name": "stdout"
        },
        {
          "output_type": "display_data",
          "data": {
            "application/vnd.jupyter.widget-view+json": {
              "model_id": "fcc1cd8c8de54afba60ef1ad8d4d1018",
              "version_major": 2,
              "version_minor": 0
            },
            "text/plain": [
              "HBox(children=(FloatProgress(value=0.0, description='SNN', max=50.0, style=ProgressStyle(description_width='in…"
            ]
          },
          "metadata": {
            "tags": []
          }
        },
        {
          "output_type": "stream",
          "text": [
            "\u001b[32m[I 2021-02-16 19:28:31,940]\u001b[0m Trial 0 finished with value: 0.6856903433799744 and parameters: {'nn_width': 176.0, 'nn_dropout': 0.30000000000000004, 'momentum': 0.05, 'virtual_batch_size': 7, 'weight_decay': -4, 'pct_start': 0.4}. Best is trial 0 with value: 0.6856903433799744.\u001b[0m\n"
          ],
          "name": "stderr"
        },
        {
          "output_type": "stream",
          "text": [
            "\n",
            "best_valid_loss: 0.6856903433799744 - best_valid_metric: -2548.4040877590623\n",
            "--------------------------------------------------------------------------------\n",
            "sampled_params: {'nn_width': 160, 'dropout': 0.45000000000000007, 'momentum': 0.08, 'virtual_batch_size': 1024, 'weight_decay': 0.01, 'pct_start': 0.5}\n"
          ],
          "name": "stdout"
        },
        {
          "output_type": "display_data",
          "data": {
            "application/vnd.jupyter.widget-view+json": {
              "model_id": "e7b110084b3445388b1f9545adab0fca",
              "version_major": 2,
              "version_minor": 0
            },
            "text/plain": [
              "HBox(children=(FloatProgress(value=0.0, description='SNN', max=50.0, style=ProgressStyle(description_width='in…"
            ]
          },
          "metadata": {
            "tags": []
          }
        },
        {
          "output_type": "stream",
          "text": [
            "/usr/local/lib/python3.6/dist-packages/ipykernel_launcher.py:8: RuntimeWarning:\n",
            "\n",
            "invalid value encountered in double_scalars\n",
            "\n",
            "\u001b[32m[I 2021-02-16 19:35:14,718]\u001b[0m Trial 1 finished with value: 0.6930163502693176 and parameters: {'nn_width': 160.0, 'nn_dropout': 0.45000000000000007, 'momentum': 0.08, 'virtual_batch_size': 10, 'weight_decay': -2, 'pct_start': 0.5}. Best is trial 0 with value: 0.6856903433799744.\u001b[0m\n"
          ],
          "name": "stderr"
        },
        {
          "output_type": "stream",
          "text": [
            "\n",
            "best_valid_loss: 0.6930163502693176 - best_valid_metric: -729.6316201592025\n",
            "--------------------------------------------------------------------------------\n",
            "sampled_params: {'nn_width': 176, 'dropout': 0.35, 'momentum': 0.08, 'virtual_batch_size': 256, 'weight_decay': 0.001, 'pct_start': 0.4}\n"
          ],
          "name": "stdout"
        },
        {
          "output_type": "display_data",
          "data": {
            "application/vnd.jupyter.widget-view+json": {
              "model_id": "76e77b2379544e999a1d7fa313b0e551",
              "version_major": 2,
              "version_minor": 0
            },
            "text/plain": [
              "HBox(children=(FloatProgress(value=0.0, description='SNN', max=50.0, style=ProgressStyle(description_width='in…"
            ]
          },
          "metadata": {
            "tags": []
          }
        },
        {
          "output_type": "stream",
          "text": [
            "\u001b[32m[I 2021-02-16 20:05:17,061]\u001b[0m Trial 2 finished with value: 0.6867164373397827 and parameters: {'nn_width': 176.0, 'nn_dropout': 0.35, 'momentum': 0.08, 'virtual_batch_size': 8, 'weight_decay': -3, 'pct_start': 0.4}. Best is trial 0 with value: 0.6856903433799744.\u001b[0m\n"
          ],
          "name": "stderr"
        },
        {
          "output_type": "stream",
          "text": [
            "\n",
            "best_valid_loss: 0.6867164373397827 - best_valid_metric: -2693.5771362974915\n",
            "--------------------------------------------------------------------------------\n",
            "sampled_params: {'nn_width': 160, 'dropout': 0.15000000000000002, 'momentum': 0.060000000000000005, 'virtual_batch_size': 1024, 'weight_decay': 0.001, 'pct_start': 0.4}\n"
          ],
          "name": "stdout"
        },
        {
          "output_type": "display_data",
          "data": {
            "application/vnd.jupyter.widget-view+json": {
              "model_id": "0af913b1970741379f4c841e353e786f",
              "version_major": 2,
              "version_minor": 0
            },
            "text/plain": [
              "HBox(children=(FloatProgress(value=0.0, description='SNN', max=50.0, style=ProgressStyle(description_width='in…"
            ]
          },
          "metadata": {
            "tags": []
          }
        },
        {
          "output_type": "stream",
          "text": [
            "\u001b[32m[I 2021-02-16 20:18:24,479]\u001b[0m Trial 3 finished with value: 0.68599933385849 and parameters: {'nn_width': 160.0, 'nn_dropout': 0.15000000000000002, 'momentum': 0.060000000000000005, 'virtual_batch_size': 10, 'weight_decay': -3, 'pct_start': 0.4}. Best is trial 0 with value: 0.6856903433799744.\u001b[0m\n"
          ],
          "name": "stderr"
        },
        {
          "output_type": "stream",
          "text": [
            "\n",
            "best_valid_loss: 0.68599933385849 - best_valid_metric: -2403.1555849381643\n",
            "--------------------------------------------------------------------------------\n",
            "sampled_params: {'nn_width': 64, 'dropout': 0.1, 'momentum': 0.03, 'virtual_batch_size': 512, 'weight_decay': 1e-06, 'pct_start': 0.5}\n"
          ],
          "name": "stdout"
        },
        {
          "output_type": "display_data",
          "data": {
            "application/vnd.jupyter.widget-view+json": {
              "model_id": "3ee89473170f4dc9a5ef10a30f775dc5",
              "version_major": 2,
              "version_minor": 0
            },
            "text/plain": [
              "HBox(children=(FloatProgress(value=0.0, description='SNN', max=50.0, style=ProgressStyle(description_width='in…"
            ]
          },
          "metadata": {
            "tags": []
          }
        },
        {
          "output_type": "stream",
          "text": [
            "\u001b[32m[I 2021-02-16 20:31:51,766]\u001b[0m Trial 4 finished with value: 0.686087429523468 and parameters: {'nn_width': 64.0, 'nn_dropout': 0.1, 'momentum': 0.03, 'virtual_batch_size': 9, 'weight_decay': -6, 'pct_start': 0.5}. Best is trial 0 with value: 0.6856903433799744.\u001b[0m\n"
          ],
          "name": "stderr"
        },
        {
          "output_type": "stream",
          "text": [
            "\n",
            "best_valid_loss: 0.686087429523468 - best_valid_metric: -2548.7991503819285\n",
            "--------------------------------------------------------------------------------\n",
            "sampled_params: {'nn_width': 176, 'dropout': 0.1, 'momentum': 0.05, 'virtual_batch_size': 1024, 'weight_decay': 0.0001, 'pct_start': 0.30000000000000004}\n"
          ],
          "name": "stdout"
        },
        {
          "output_type": "display_data",
          "data": {
            "application/vnd.jupyter.widget-view+json": {
              "model_id": "5542749612414b78bcab7c54603110ce",
              "version_major": 2,
              "version_minor": 0
            },
            "text/plain": [
              "HBox(children=(FloatProgress(value=0.0, description='SNN', max=50.0, style=ProgressStyle(description_width='in…"
            ]
          },
          "metadata": {
            "tags": []
          }
        },
        {
          "output_type": "stream",
          "text": [
            "\u001b[32m[I 2021-02-16 20:44:25,230]\u001b[0m Trial 5 finished with value: 0.6853572130203247 and parameters: {'nn_width': 176.0, 'nn_dropout': 0.1, 'momentum': 0.05, 'virtual_batch_size': 10, 'weight_decay': -4, 'pct_start': 0.30000000000000004}. Best is trial 5 with value: 0.6853572130203247.\u001b[0m\n"
          ],
          "name": "stderr"
        },
        {
          "output_type": "stream",
          "text": [
            "\n",
            "best_valid_loss: 0.6853572130203247 - best_valid_metric: -2596.094914742614\n",
            "--------------------------------------------------------------------------------\n",
            "sampled_params: {'nn_width': 176, 'dropout': 0.15000000000000002, 'momentum': 0.01, 'virtual_batch_size': 1024, 'weight_decay': 0.01, 'pct_start': 0.4}\n"
          ],
          "name": "stdout"
        },
        {
          "output_type": "display_data",
          "data": {
            "application/vnd.jupyter.widget-view+json": {
              "model_id": "815ab69293b7418ea26e648d67a1952e",
              "version_major": 2,
              "version_minor": 0
            },
            "text/plain": [
              "HBox(children=(FloatProgress(value=0.0, description='SNN', max=50.0, style=ProgressStyle(description_width='in…"
            ]
          },
          "metadata": {
            "tags": []
          }
        },
        {
          "output_type": "stream",
          "text": [
            "\u001b[32m[I 2021-02-16 20:51:06,525]\u001b[0m Trial 6 finished with value: 0.6917520761489868 and parameters: {'nn_width': 176.0, 'nn_dropout': 0.15000000000000002, 'momentum': 0.01, 'virtual_batch_size': 10, 'weight_decay': -2, 'pct_start': 0.4}. Best is trial 5 with value: 0.6853572130203247.\u001b[0m\n"
          ],
          "name": "stderr"
        },
        {
          "output_type": "stream",
          "text": [
            "\n",
            "best_valid_loss: 0.6917520761489868 - best_valid_metric: -1575.5426367170894\n",
            "--------------------------------------------------------------------------------\n",
            "sampled_params: {'nn_width': 96, 'dropout': 0.4, 'momentum': 0.03, 'virtual_batch_size': 256, 'weight_decay': 1e-05, 'pct_start': 0.30000000000000004}\n"
          ],
          "name": "stdout"
        },
        {
          "output_type": "display_data",
          "data": {
            "application/vnd.jupyter.widget-view+json": {
              "model_id": "edd97297f9034585aac49056c711c89a",
              "version_major": 2,
              "version_minor": 0
            },
            "text/plain": [
              "HBox(children=(FloatProgress(value=0.0, description='SNN', max=50.0, style=ProgressStyle(description_width='in…"
            ]
          },
          "metadata": {
            "tags": []
          }
        },
        {
          "output_type": "stream",
          "text": [
            "\u001b[32m[I 2021-02-16 21:22:29,506]\u001b[0m Trial 7 finished with value: 0.6867713332176208 and parameters: {'nn_width': 96.0, 'nn_dropout': 0.4, 'momentum': 0.03, 'virtual_batch_size': 8, 'weight_decay': -5, 'pct_start': 0.30000000000000004}. Best is trial 5 with value: 0.6853572130203247.\u001b[0m\n"
          ],
          "name": "stderr"
        },
        {
          "output_type": "stream",
          "text": [
            "\n",
            "best_valid_loss: 0.6867713332176208 - best_valid_metric: -2394.567564757996\n",
            "--------------------------------------------------------------------------------\n",
            "sampled_params: {'nn_width': 160, 'dropout': 0.45000000000000007, 'momentum': 0.02, 'virtual_batch_size': 256, 'weight_decay': 1e-05, 'pct_start': 0.5}\n"
          ],
          "name": "stdout"
        },
        {
          "output_type": "display_data",
          "data": {
            "application/vnd.jupyter.widget-view+json": {
              "model_id": "34501d43aa76466193ac46a906e240b5",
              "version_major": 2,
              "version_minor": 0
            },
            "text/plain": [
              "HBox(children=(FloatProgress(value=0.0, description='SNN', max=50.0, style=ProgressStyle(description_width='in…"
            ]
          },
          "metadata": {
            "tags": []
          }
        },
        {
          "output_type": "stream",
          "text": [
            "\u001b[32m[I 2021-02-16 21:48:21,158]\u001b[0m Trial 8 finished with value: 0.687348484992981 and parameters: {'nn_width': 160.0, 'nn_dropout': 0.45000000000000007, 'momentum': 0.02, 'virtual_batch_size': 8, 'weight_decay': -5, 'pct_start': 0.5}. Best is trial 5 with value: 0.6853572130203247.\u001b[0m\n"
          ],
          "name": "stderr"
        },
        {
          "output_type": "stream",
          "text": [
            "\n",
            "best_valid_loss: 0.687348484992981 - best_valid_metric: -2411.253112738861\n",
            "--------------------------------------------------------------------------------\n",
            "sampled_params: {'nn_width': 80, 'dropout': 0.1, 'momentum': 0.01, 'virtual_batch_size': 1024, 'weight_decay': 0.001, 'pct_start': 0.5}\n"
          ],
          "name": "stdout"
        },
        {
          "output_type": "display_data",
          "data": {
            "application/vnd.jupyter.widget-view+json": {
              "model_id": "3df4a3de673c4c89958f20a6501a22ec",
              "version_major": 2,
              "version_minor": 0
            },
            "text/plain": [
              "HBox(children=(FloatProgress(value=0.0, description='SNN', max=50.0, style=ProgressStyle(description_width='in…"
            ]
          },
          "metadata": {
            "tags": []
          }
        },
        {
          "output_type": "stream",
          "text": [
            "\u001b[32m[I 2021-02-16 22:00:56,275]\u001b[0m Trial 9 finished with value: 0.6860326528549194 and parameters: {'nn_width': 80.0, 'nn_dropout': 0.1, 'momentum': 0.01, 'virtual_batch_size': 10, 'weight_decay': -3, 'pct_start': 0.5}. Best is trial 5 with value: 0.6853572130203247.\u001b[0m\n"
          ],
          "name": "stderr"
        },
        {
          "output_type": "stream",
          "text": [
            "\n",
            "best_valid_loss: 0.6860326528549194 - best_valid_metric: -2418.627891044809\n",
            "--------------------------------------------------------------------------------\n",
            "sampled_params: {'nn_width': 128, 'dropout': 0.2, 'momentum': 0.09999999999999999, 'virtual_batch_size': 512, 'weight_decay': 1e-05, 'pct_start': 0.1}\n"
          ],
          "name": "stdout"
        },
        {
          "output_type": "display_data",
          "data": {
            "application/vnd.jupyter.widget-view+json": {
              "model_id": "672d6e006eee484db698db503a17c015",
              "version_major": 2,
              "version_minor": 0
            },
            "text/plain": [
              "HBox(children=(FloatProgress(value=0.0, description='SNN', max=50.0, style=ProgressStyle(description_width='in…"
            ]
          },
          "metadata": {
            "tags": []
          }
        },
        {
          "output_type": "stream",
          "text": [
            "\u001b[32m[I 2021-02-16 22:18:30,329]\u001b[0m Trial 10 finished with value: 0.6847517490386963 and parameters: {'nn_width': 128.0, 'nn_dropout': 0.2, 'momentum': 0.09999999999999999, 'virtual_batch_size': 9, 'weight_decay': -5, 'pct_start': 0.1}. Best is trial 10 with value: 0.6847517490386963.\u001b[0m\n"
          ],
          "name": "stderr"
        },
        {
          "output_type": "stream",
          "text": [
            "\n",
            "best_valid_loss: 0.6847517490386963 - best_valid_metric: -2923.7790372328705\n",
            "--------------------------------------------------------------------------------\n",
            "sampled_params: {'nn_width': 128, 'dropout': 0.2, 'momentum': 0.09999999999999999, 'virtual_batch_size': 512, 'weight_decay': 1e-05, 'pct_start': 0.1}\n"
          ],
          "name": "stdout"
        },
        {
          "output_type": "display_data",
          "data": {
            "application/vnd.jupyter.widget-view+json": {
              "model_id": "4ed83692c42449b3bffef891921d75e0",
              "version_major": 2,
              "version_minor": 0
            },
            "text/plain": [
              "HBox(children=(FloatProgress(value=0.0, description='SNN', max=50.0, style=ProgressStyle(description_width='in…"
            ]
          },
          "metadata": {
            "tags": []
          }
        },
        {
          "output_type": "stream",
          "text": [
            "\u001b[32m[I 2021-02-16 22:34:40,142]\u001b[0m Trial 11 finished with value: 0.6848520636558533 and parameters: {'nn_width': 128.0, 'nn_dropout': 0.2, 'momentum': 0.09999999999999999, 'virtual_batch_size': 9, 'weight_decay': -5, 'pct_start': 0.1}. Best is trial 10 with value: 0.6847517490386963.\u001b[0m\n"
          ],
          "name": "stderr"
        },
        {
          "output_type": "stream",
          "text": [
            "\n",
            "best_valid_loss: 0.6848520636558533 - best_valid_metric: -2611.2300983786918\n",
            "--------------------------------------------------------------------------------\n",
            "sampled_params: {'nn_width': 128, 'dropout': 0.25, 'momentum': 0.09999999999999999, 'virtual_batch_size': 512, 'weight_decay': 1e-06, 'pct_start': 0.1}\n"
          ],
          "name": "stdout"
        },
        {
          "output_type": "display_data",
          "data": {
            "application/vnd.jupyter.widget-view+json": {
              "model_id": "3fa7432959ad41b7a5b67c0797364454",
              "version_major": 2,
              "version_minor": 0
            },
            "text/plain": [
              "HBox(children=(FloatProgress(value=0.0, description='SNN', max=50.0, style=ProgressStyle(description_width='in…"
            ]
          },
          "metadata": {
            "tags": []
          }
        },
        {
          "output_type": "stream",
          "text": [
            "\u001b[32m[I 2021-02-16 23:03:12,720]\u001b[0m Trial 12 finished with value: 0.6855558156967163 and parameters: {'nn_width': 128.0, 'nn_dropout': 0.25, 'momentum': 0.09999999999999999, 'virtual_batch_size': 9, 'weight_decay': -6, 'pct_start': 0.1}. Best is trial 10 with value: 0.6847517490386963.\u001b[0m\n"
          ],
          "name": "stderr"
        },
        {
          "output_type": "stream",
          "text": [
            "\n",
            "best_valid_loss: 0.6855558156967163 - best_valid_metric: -2557.7475221098593\n",
            "--------------------------------------------------------------------------------\n",
            "sampled_params: {'nn_width': 128, 'dropout': 0.2, 'momentum': 0.09999999999999999, 'virtual_batch_size': 512, 'weight_decay': 1e-05, 'pct_start': 0.1}\n"
          ],
          "name": "stdout"
        },
        {
          "output_type": "display_data",
          "data": {
            "application/vnd.jupyter.widget-view+json": {
              "model_id": "3ddba0fa90ab42e09a1480f3ebf1d551",
              "version_major": 2,
              "version_minor": 0
            },
            "text/plain": [
              "HBox(children=(FloatProgress(value=0.0, description='SNN', max=50.0, style=ProgressStyle(description_width='in…"
            ]
          },
          "metadata": {
            "tags": []
          }
        },
        {
          "output_type": "stream",
          "text": [
            "\u001b[32m[I 2021-02-16 23:16:53,649]\u001b[0m Trial 13 finished with value: 0.6852948069572449 and parameters: {'nn_width': 128.0, 'nn_dropout': 0.2, 'momentum': 0.09999999999999999, 'virtual_batch_size': 9, 'weight_decay': -5, 'pct_start': 0.1}. Best is trial 10 with value: 0.6847517490386963.\u001b[0m\n"
          ],
          "name": "stderr"
        },
        {
          "output_type": "stream",
          "text": [
            "\n",
            "best_valid_loss: 0.6852948069572449 - best_valid_metric: -2510.541758343921\n",
            "--------------------------------------------------------------------------------\n",
            "sampled_params: {'nn_width': 112, 'dropout': 0.25, 'momentum': 0.09, 'virtual_batch_size': 512, 'weight_decay': 1e-05, 'pct_start': 0.2}\n"
          ],
          "name": "stdout"
        },
        {
          "output_type": "display_data",
          "data": {
            "application/vnd.jupyter.widget-view+json": {
              "model_id": "64ba17978bb74a268038b3aae6c92381",
              "version_major": 2,
              "version_minor": 0
            },
            "text/plain": [
              "HBox(children=(FloatProgress(value=0.0, description='SNN', max=50.0, style=ProgressStyle(description_width='in…"
            ]
          },
          "metadata": {
            "tags": []
          }
        },
        {
          "output_type": "stream",
          "text": [
            "\u001b[32m[I 2021-02-16 23:34:45,095]\u001b[0m Trial 14 finished with value: 0.6852051615715027 and parameters: {'nn_width': 112.0, 'nn_dropout': 0.25, 'momentum': 0.09, 'virtual_batch_size': 9, 'weight_decay': -5, 'pct_start': 0.2}. Best is trial 10 with value: 0.6847517490386963.\u001b[0m\n"
          ],
          "name": "stderr"
        },
        {
          "output_type": "stream",
          "text": [
            "\n",
            "best_valid_loss: 0.6852051615715027 - best_valid_metric: -2687.7641525505096\n",
            "--------------------------------------------------------------------------------\n",
            "sampled_params: {'nn_width': 144, 'dropout': 0.2, 'momentum': 0.06999999999999999, 'virtual_batch_size': 512, 'weight_decay': 1e-06, 'pct_start': 0.2}\n"
          ],
          "name": "stdout"
        },
        {
          "output_type": "display_data",
          "data": {
            "application/vnd.jupyter.widget-view+json": {
              "model_id": "42bcaba97a6447a1bdfc930fa7bd10d8",
              "version_major": 2,
              "version_minor": 0
            },
            "text/plain": [
              "HBox(children=(FloatProgress(value=0.0, description='SNN', max=50.0, style=ProgressStyle(description_width='in…"
            ]
          },
          "metadata": {
            "tags": []
          }
        },
        {
          "output_type": "stream",
          "text": [
            "\u001b[32m[I 2021-02-16 23:49:39,036]\u001b[0m Trial 15 finished with value: 0.6852724552154541 and parameters: {'nn_width': 144.0, 'nn_dropout': 0.2, 'momentum': 0.06999999999999999, 'virtual_batch_size': 9, 'weight_decay': -6, 'pct_start': 0.2}. Best is trial 10 with value: 0.6847517490386963.\u001b[0m\n"
          ],
          "name": "stderr"
        },
        {
          "output_type": "stream",
          "text": [
            "\n",
            "best_valid_loss: 0.6852724552154541 - best_valid_metric: -2509.8445810300345\n",
            "--------------------------------------------------------------------------------\n",
            "sampled_params: {'nn_width': 112, 'dropout': 0.25, 'momentum': 0.09999999999999999, 'virtual_batch_size': 128, 'weight_decay': 0.0001, 'pct_start': 0.2}\n"
          ],
          "name": "stdout"
        },
        {
          "output_type": "display_data",
          "data": {
            "application/vnd.jupyter.widget-view+json": {
              "model_id": "7455ce8026a94319b97107db39465801",
              "version_major": 2,
              "version_minor": 0
            },
            "text/plain": [
              "HBox(children=(FloatProgress(value=0.0, description='SNN', max=50.0, style=ProgressStyle(description_width='in…"
            ]
          },
          "metadata": {
            "tags": []
          }
        },
        {
          "output_type": "stream",
          "text": [
            "\u001b[32m[I 2021-02-17 00:10:55,904]\u001b[0m Trial 16 finished with value: 0.6848864555358887 and parameters: {'nn_width': 112.0, 'nn_dropout': 0.25, 'momentum': 0.09999999999999999, 'virtual_batch_size': 7, 'weight_decay': -4, 'pct_start': 0.2}. Best is trial 10 with value: 0.6847517490386963.\u001b[0m\n"
          ],
          "name": "stderr"
        },
        {
          "output_type": "stream",
          "text": [
            "\n",
            "best_valid_loss: 0.6848864555358887 - best_valid_metric: -2922.776335073502\n",
            "--------------------------------------------------------------------------------\n",
            "sampled_params: {'nn_width': 112, 'dropout': 0.2, 'momentum': 0.09, 'virtual_batch_size': 256, 'weight_decay': 1e-05, 'pct_start': 0.1}\n"
          ],
          "name": "stdout"
        },
        {
          "output_type": "display_data",
          "data": {
            "application/vnd.jupyter.widget-view+json": {
              "model_id": "e79a7f6ca4d94461bc8fe81f32711cd5",
              "version_major": 2,
              "version_minor": 0
            },
            "text/plain": [
              "HBox(children=(FloatProgress(value=0.0, description='SNN', max=50.0, style=ProgressStyle(description_width='in…"
            ]
          },
          "metadata": {
            "tags": []
          }
        }
      ]
    },
    {
      "cell_type": "markdown",
      "metadata": {
        "id": "6lVKLlPgOIXj"
      },
      "source": [
        "***"
      ]
    }
  ]
}