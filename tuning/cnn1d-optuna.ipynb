{
  "nbformat": 4,
  "nbformat_minor": 0,
  "metadata": {
    "colab": {
      "name": "cnn1d-optuna.ipynb",
      "provenance": [],
      "collapsed_sections": [],
      "authorship_tag": "ABX9TyM3gKWFJ0jjrCQbsCjIDHkV",
      "include_colab_link": true
    },
    "kernelspec": {
      "name": "python3",
      "display_name": "Python 3"
    },
    "accelerator": "GPU",
    "widgets": {
      "application/vnd.jupyter.widget-state+json": {
        "22568f59ed5b4401a0827733fc84e946": {
          "model_module": "@jupyter-widgets/controls",
          "model_name": "HBoxModel",
          "state": {
            "_view_name": "HBoxView",
            "_dom_classes": [],
            "_model_name": "HBoxModel",
            "_view_module": "@jupyter-widgets/controls",
            "_model_module_version": "1.5.0",
            "_view_count": null,
            "_view_module_version": "1.5.0",
            "box_style": "",
            "layout": "IPY_MODEL_cf79ff64d9f34dc199f181995f057fe0",
            "_model_module": "@jupyter-widgets/controls",
            "children": [
              "IPY_MODEL_214cb8df899048e5912214988da27b7c",
              "IPY_MODEL_6489dfbeab284ffebb1e7ec74a71ea84"
            ]
          }
        },
        "cf79ff64d9f34dc199f181995f057fe0": {
          "model_module": "@jupyter-widgets/base",
          "model_name": "LayoutModel",
          "state": {
            "_view_name": "LayoutView",
            "grid_template_rows": null,
            "right": null,
            "justify_content": null,
            "_view_module": "@jupyter-widgets/base",
            "overflow": null,
            "_model_module_version": "1.2.0",
            "_view_count": null,
            "flex_flow": null,
            "width": null,
            "min_width": null,
            "border": null,
            "align_items": null,
            "bottom": null,
            "_model_module": "@jupyter-widgets/base",
            "top": null,
            "grid_column": null,
            "overflow_y": null,
            "overflow_x": null,
            "grid_auto_flow": null,
            "grid_area": null,
            "grid_template_columns": null,
            "flex": null,
            "_model_name": "LayoutModel",
            "justify_items": null,
            "grid_row": null,
            "max_height": null,
            "align_content": null,
            "visibility": null,
            "align_self": null,
            "height": null,
            "min_height": null,
            "padding": null,
            "grid_auto_rows": null,
            "grid_gap": null,
            "max_width": null,
            "order": null,
            "_view_module_version": "1.2.0",
            "grid_template_areas": null,
            "object_position": null,
            "object_fit": null,
            "grid_auto_columns": null,
            "margin": null,
            "display": null,
            "left": null
          }
        },
        "214cb8df899048e5912214988da27b7c": {
          "model_module": "@jupyter-widgets/controls",
          "model_name": "FloatProgressModel",
          "state": {
            "_view_name": "ProgressView",
            "style": "IPY_MODEL_3a6a79b27b494415b0b461f6c2adf547",
            "_dom_classes": [],
            "description": "CNN1D:   6%",
            "_model_name": "FloatProgressModel",
            "bar_style": "",
            "max": 50,
            "_view_module": "@jupyter-widgets/controls",
            "_model_module_version": "1.5.0",
            "value": 3,
            "_view_count": null,
            "_view_module_version": "1.5.0",
            "orientation": "horizontal",
            "min": 0,
            "description_tooltip": null,
            "_model_module": "@jupyter-widgets/controls",
            "layout": "IPY_MODEL_419d0a2094a347999ce697caf1f66f2d"
          }
        },
        "6489dfbeab284ffebb1e7ec74a71ea84": {
          "model_module": "@jupyter-widgets/controls",
          "model_name": "HTMLModel",
          "state": {
            "_view_name": "HTMLView",
            "style": "IPY_MODEL_71b69b97c7b245cdb39749c869f9b577",
            "_dom_classes": [],
            "description": "",
            "_model_name": "HTMLModel",
            "placeholder": "​",
            "_view_module": "@jupyter-widgets/controls",
            "_model_module_version": "1.5.0",
            "value": " 3/50 [02:30&lt;39:15, 50.11s/it, a_train_loss=0.690046, b_valid_loss=0.689917, c_best_loss=0.690674, d_train_metric=-3512.780292, e_valid_metric=-2226.198118, f_best_metric=-1252.877567, g_es_counter=0, h_last_lr=0.03446605]",
            "_view_count": null,
            "_view_module_version": "1.5.0",
            "description_tooltip": null,
            "_model_module": "@jupyter-widgets/controls",
            "layout": "IPY_MODEL_98fb2f20dddb4e83b9d59b3c6b7d31b0"
          }
        },
        "3a6a79b27b494415b0b461f6c2adf547": {
          "model_module": "@jupyter-widgets/controls",
          "model_name": "ProgressStyleModel",
          "state": {
            "_view_name": "StyleView",
            "_model_name": "ProgressStyleModel",
            "description_width": "initial",
            "_view_module": "@jupyter-widgets/base",
            "_model_module_version": "1.5.0",
            "_view_count": null,
            "_view_module_version": "1.2.0",
            "bar_color": null,
            "_model_module": "@jupyter-widgets/controls"
          }
        },
        "419d0a2094a347999ce697caf1f66f2d": {
          "model_module": "@jupyter-widgets/base",
          "model_name": "LayoutModel",
          "state": {
            "_view_name": "LayoutView",
            "grid_template_rows": null,
            "right": null,
            "justify_content": null,
            "_view_module": "@jupyter-widgets/base",
            "overflow": null,
            "_model_module_version": "1.2.0",
            "_view_count": null,
            "flex_flow": null,
            "width": null,
            "min_width": null,
            "border": null,
            "align_items": null,
            "bottom": null,
            "_model_module": "@jupyter-widgets/base",
            "top": null,
            "grid_column": null,
            "overflow_y": null,
            "overflow_x": null,
            "grid_auto_flow": null,
            "grid_area": null,
            "grid_template_columns": null,
            "flex": null,
            "_model_name": "LayoutModel",
            "justify_items": null,
            "grid_row": null,
            "max_height": null,
            "align_content": null,
            "visibility": null,
            "align_self": null,
            "height": null,
            "min_height": null,
            "padding": null,
            "grid_auto_rows": null,
            "grid_gap": null,
            "max_width": null,
            "order": null,
            "_view_module_version": "1.2.0",
            "grid_template_areas": null,
            "object_position": null,
            "object_fit": null,
            "grid_auto_columns": null,
            "margin": null,
            "display": null,
            "left": null
          }
        },
        "71b69b97c7b245cdb39749c869f9b577": {
          "model_module": "@jupyter-widgets/controls",
          "model_name": "DescriptionStyleModel",
          "state": {
            "_view_name": "StyleView",
            "_model_name": "DescriptionStyleModel",
            "description_width": "",
            "_view_module": "@jupyter-widgets/base",
            "_model_module_version": "1.5.0",
            "_view_count": null,
            "_view_module_version": "1.2.0",
            "_model_module": "@jupyter-widgets/controls"
          }
        },
        "98fb2f20dddb4e83b9d59b3c6b7d31b0": {
          "model_module": "@jupyter-widgets/base",
          "model_name": "LayoutModel",
          "state": {
            "_view_name": "LayoutView",
            "grid_template_rows": null,
            "right": null,
            "justify_content": null,
            "_view_module": "@jupyter-widgets/base",
            "overflow": null,
            "_model_module_version": "1.2.0",
            "_view_count": null,
            "flex_flow": null,
            "width": null,
            "min_width": null,
            "border": null,
            "align_items": null,
            "bottom": null,
            "_model_module": "@jupyter-widgets/base",
            "top": null,
            "grid_column": null,
            "overflow_y": null,
            "overflow_x": null,
            "grid_auto_flow": null,
            "grid_area": null,
            "grid_template_columns": null,
            "flex": null,
            "_model_name": "LayoutModel",
            "justify_items": null,
            "grid_row": null,
            "max_height": null,
            "align_content": null,
            "visibility": null,
            "align_self": null,
            "height": null,
            "min_height": null,
            "padding": null,
            "grid_auto_rows": null,
            "grid_gap": null,
            "max_width": null,
            "order": null,
            "_view_module_version": "1.2.0",
            "grid_template_areas": null,
            "object_position": null,
            "object_fit": null,
            "grid_auto_columns": null,
            "margin": null,
            "display": null,
            "left": null
          }
        }
      }
    }
  },
  "cells": [
    {
      "cell_type": "markdown",
      "metadata": {
        "id": "view-in-github",
        "colab_type": "text"
      },
      "source": [
        "<a href=\"https://colab.research.google.com/github/mavillan/jane-street-market-prediction/blob/main/tuning/cnn1d-optuna.ipynb\" target=\"_parent\"><img src=\"https://colab.research.google.com/assets/colab-badge.svg\" alt=\"Open In Colab\"/></a>"
      ]
    },
    {
      "cell_type": "code",
      "metadata": {
        "colab": {
          "base_uri": "https://localhost:8080/"
        },
        "id": "Dr8g_8dO6tM9",
        "outputId": "c0b3be0a-e76c-4f4e-ec52-4a0fa46a85e7"
      },
      "source": [
        "from google.colab import drive\n",
        "drive.mount('/content/drive', force_remount=True)"
      ],
      "execution_count": 1,
      "outputs": [
        {
          "output_type": "stream",
          "text": [
            "Mounted at /content/drive\n"
          ],
          "name": "stdout"
        }
      ]
    },
    {
      "cell_type": "code",
      "metadata": {
        "id": "kYnT8Tmx_-Js"
      },
      "source": [
        "!pip install -Iv scikit-learn==0.23.2 > /dev/null 2>&1\n",
        "!pip install optuna > /dev/null 2>&1"
      ],
      "execution_count": 2,
      "outputs": []
    },
    {
      "cell_type": "code",
      "metadata": {
        "colab": {
          "base_uri": "https://localhost:8080/"
        },
        "id": "W4rwnTOt__ew",
        "outputId": "af3df07c-710d-4ce5-907f-0847263b4991"
      },
      "source": [
        "import copy\n",
        "import os\n",
        "import numpy as np \n",
        "import pandas as pd\n",
        "from pathlib import Path\n",
        "import pickle\n",
        "import matplotlib.pyplot as plt\n",
        "import seaborn as sns\n",
        "import optuna\n",
        "\n",
        "from sklearn.experimental import enable_iterative_imputer\n",
        "from sklearn.impute import IterativeImputer\n",
        "from sklearn.linear_model import BayesianRidge\n",
        "\n",
        "import torch\n",
        "import torch.nn as nn\n",
        "import torch.nn.functional as F\n",
        "from torch.utils.data import Dataset,TensorDataset,DataLoader\n",
        "\n",
        "# custom modules\n",
        "import sys\n",
        "sys.path.append(\"/content/drive/MyDrive/kaggle/janestreet\")\n",
        "from torch_utils import Monitor, train_step, valid_step\n",
        "\n",
        "def set_seed(seed):\n",
        "    np.random.seed(seed)\n",
        "    torch.manual_seed(seed)\n",
        "    torch.cuda.manual_seed(seed)\n",
        "    torch.cuda.manual_seed_all(seed)\n",
        "    torch.backends.cudnn.deterministic = True\n",
        "    \n",
        "set_seed(2)\n",
        "\n",
        "device = torch.device(\"cuda\" if torch.cuda.is_available() else \"cpu\")\n",
        "device"
      ],
      "execution_count": 3,
      "outputs": [
        {
          "output_type": "execute_result",
          "data": {
            "text/plain": [
              "device(type='cuda')"
            ]
          },
          "metadata": {
            "tags": []
          },
          "execution_count": 3
        }
      ]
    },
    {
      "cell_type": "markdown",
      "metadata": {
        "id": "-fk8dRnlBJdO"
      },
      "source": [
        "***\n",
        "### utility functions"
      ]
    },
    {
      "cell_type": "code",
      "metadata": {
        "id": "pVWwthUVA-iS"
      },
      "source": [
        "def utility_score(date, weight, resp, action):\n",
        "    \"\"\"\n",
        "    Fast computation of utility score\n",
        "    \"\"\"\n",
        "    date = date.astype(int)\n",
        "    count_i = len(np.unique(date))\n",
        "    Pi = np.bincount(date, weight * resp * action)\n",
        "    t = np.sum(Pi) / np.sqrt(np.sum(Pi ** 2)) * np.sqrt(250 / count_i)\n",
        "    u = np.clip(t, 0, 6) * np.sum(Pi)\n",
        "    return -u"
      ],
      "execution_count": 4,
      "outputs": []
    },
    {
      "cell_type": "code",
      "metadata": {
        "id": "pkqWFg7_BMOE"
      },
      "source": [
        "def cat_encoder(X):\n",
        "    \"\"\"\n",
        "    Fast one-hot encoding of feature_0\n",
        "    \"\"\"\n",
        "    X[\"feature_00\"] = 0\n",
        "    idx00 = X.query(\"feature_0 == -1\").index\n",
        "    X.loc[idx00,\"feature_00\"] = 1\n",
        "    \n",
        "    X[\"feature_01\"] = 0\n",
        "    idx01 = X.query(\"feature_0 == 1\").index\n",
        "    X.loc[idx01,\"feature_01\"] = 1\n",
        "    \n",
        "    return X.iloc[:,1:]"
      ],
      "execution_count": 5,
      "outputs": []
    },
    {
      "cell_type": "code",
      "metadata": {
        "id": "vr4HjJC_BOae"
      },
      "source": [
        "def show_metrics(monitor):\n",
        "    x = np.arange(len(monitor.train_loss))\n",
        "    \n",
        "    fig, axes = plt.subplots(nrows=1, ncols=2, figsize=(21, 7))\n",
        "    \n",
        "    ax1 = axes[0]\n",
        "    ax2 = ax1.twinx()\n",
        "    ax1.plot(x, monitor.train_loss, 'go-', label=\"train_loss\")\n",
        "    ax2.plot(x, monitor.train_metric, 'ro-', label=\"train_metric\")\n",
        "    plt.legend(loc=\"best\")\n",
        "    ax1.set_xlabel('epochs')\n",
        "    ax1.set_ylabel('loss')\n",
        "    ax1.set_title(\"Training\")\n",
        "    plt.grid()\n",
        "    \n",
        "    ax1 = axes[1]\n",
        "    ax2 = ax1.twinx()\n",
        "    ax1.plot(x, monitor.valid_loss, 'go-', label=\"valid_loss\")\n",
        "    ax2.plot(x, monitor.valid_metric, 'ro-', label=\"valid_metric\")\n",
        "    plt.legend(loc=\"best\")\n",
        "    ax1.set_xlabel('epochs')\n",
        "    ax2.set_ylabel('metric')\n",
        "    ax1.set_title(\"Validation\")\n",
        "    plt.grid()\n",
        "    \n",
        "    plt.show()"
      ],
      "execution_count": 6,
      "outputs": []
    },
    {
      "cell_type": "markdown",
      "metadata": {
        "id": "apOKLQQ2BSm1"
      },
      "source": [
        "***\n",
        "### preparing the data"
      ]
    },
    {
      "cell_type": "code",
      "metadata": {
        "colab": {
          "base_uri": "https://localhost:8080/"
        },
        "id": "zrCJeuBiBQrx",
        "outputId": "ea8649f0-142d-4eca-b819-1efe565db41a"
      },
      "source": [
        "root = Path(\"/content/drive/MyDrive/kaggle/janestreet/preprocessing/\")\n",
        "\n",
        "train = pd.read_parquet(root/\"train.parquet\")\n",
        "features = pd.read_parquet(root/\"features.parquet\")\n",
        "\n",
        "train.info()"
      ],
      "execution_count": 7,
      "outputs": [
        {
          "output_type": "stream",
          "text": [
            "<class 'pandas.core.frame.DataFrame'>\n",
            "RangeIndex: 2390491 entries, 0 to 2390490\n",
            "Columns: 143 entries, date to w4\n",
            "dtypes: float32(140), int16(1), int32(1), int8(1)\n",
            "memory usage: 1.3 GB\n"
          ],
          "name": "stdout"
        }
      ]
    },
    {
      "cell_type": "code",
      "metadata": {
        "id": "lGSvr3QTBiW0"
      },
      "source": [
        "train = train.query(\"date > 85\").query(\"weight > 0\").reset_index(drop=True)\n",
        "\n",
        "input_features = [col for col in train.columns if \"feature\" in col]\n",
        "resp_cols = ['resp', 'resp_1', 'resp_2', 'resp_3', 'resp_4']\n",
        "w_cols = [\"w\", \"w1\", \"w2\", \"w3\", \"w4\"]\n",
        "\n",
        "X_dset = train.loc[:,input_features].copy()\n",
        "y_dset = (train.loc[:,resp_cols] > 0).astype(int).copy()\n",
        "w_dset = train.loc[:, w_cols].copy()\n",
        "dwr_dset = train.loc[:, [\"date\",\"weight\",\"resp\"]].copy()"
      ],
      "execution_count": 8,
      "outputs": []
    },
    {
      "cell_type": "code",
      "metadata": {
        "colab": {
          "base_uri": "https://localhost:8080/"
        },
        "id": "qrvm_YmFBlxK",
        "outputId": "a8beb326-5fcc-4fa0-b5dd-8a320699e1d3"
      },
      "source": [
        "%%time \n",
        "\n",
        "with open(\"/content/drive/MyDrive/kaggle/janestreet/imputer/imputer_f0m1.pickle\", \"rb\") as file:\n",
        "    imputer_f0m1 = pickle.load(file)\n",
        "    file.close()\n",
        "    \n",
        "with open(\"/content/drive/MyDrive/kaggle/janestreet/imputer/imputer_f0p1.pickle\", \"rb\") as file:\n",
        "    imputer_f0p1 = pickle.load(file)\n",
        "    file.close()\n",
        "\n",
        "idx_f0m1 = X_dset.query(\"feature_0 == -1\").index\n",
        "X_dset.loc[idx_f0m1, input_features[1:]] = imputer_f0m1.transform(X_dset.loc[idx_f0m1, input_features[1:]])\n",
        "\n",
        "idx_f0p1 = X_dset.query(\"feature_0 ==  1\").index\n",
        "X_dset.loc[idx_f0p1, input_features[1:]] = imputer_f0p1.transform(X_dset.loc[idx_f0p1, input_features[1:]])"
      ],
      "execution_count": 9,
      "outputs": [
        {
          "output_type": "stream",
          "text": [
            "CPU times: user 41.8 s, sys: 9.06 s, total: 50.9 s\n",
            "Wall time: 43.4 s\n"
          ],
          "name": "stdout"
        }
      ]
    },
    {
      "cell_type": "code",
      "metadata": {
        "id": "Lz1p9G7-B2jm"
      },
      "source": [
        "X_dset = cat_encoder(X_dset)\n",
        "input_features = X_dset.columns.tolist()"
      ],
      "execution_count": 10,
      "outputs": []
    },
    {
      "cell_type": "markdown",
      "metadata": {
        "id": "bshDOMpTB3uw"
      },
      "source": [
        "***\n",
        "### model definition"
      ]
    },
    {
      "cell_type": "code",
      "metadata": {
        "id": "-Mtkhl3nB3OX"
      },
      "source": [
        "class CNN1D(nn.Module):\n",
        "    def __init__(self, input_dim, output_dim, hidden_size, cha_1=32, cha_2=64, cha_3=64):\n",
        "        super(CNN1D, self).__init__()\n",
        "\n",
        "        sign_size1 = int(hidden_size/cha_1)\n",
        "        sign_size2 = int(hidden_size/cha_1/2)\n",
        "        output_size1 = int(hidden_size/cha_1/2/2) * cha_3\n",
        "        output_size2 = int(output_size1/8)\n",
        "\n",
        "        self.cha_1 = cha_1\n",
        "        self.cha_2 = cha_2\n",
        "        self.cha_3 = cha_3\n",
        "        self.sign_size1 = sign_size1\n",
        "        self.sign_size2 = sign_size2\n",
        "        self.output_size1 = output_size1\n",
        "        self.output_size2 = output_size2\n",
        "\n",
        "        self.batch_norm1 = nn.BatchNorm1d(input_dim)\n",
        "        self.dropout1 = nn.Dropout(0.2)\n",
        "        self.dense1 = nn.utils.weight_norm(nn.Linear(input_dim, hidden_size, bias=False))\n",
        "\n",
        "        # 1st conv layer\n",
        "        self.batch_norm_c1 = nn.BatchNorm1d(cha_1)\n",
        "        self.dropout_c1 = nn.Dropout(0.1)\n",
        "        self.conv1 = nn.utils.weight_norm(nn.Conv1d(cha_1,cha_2, kernel_size = 5, stride = 1, padding=2,  bias=False),dim=None)\n",
        "\n",
        "        self.ave_po_c1 = nn.AdaptiveAvgPool1d(output_size = sign_size2)\n",
        "\n",
        "        # 2nd conv layer\n",
        "        self.batch_norm_c2 = nn.BatchNorm1d(cha_2)\n",
        "        self.dropout_c2 = nn.Dropout(0.1)\n",
        "        self.conv2 = nn.utils.weight_norm(nn.Conv1d(cha_2,cha_2, kernel_size = 3, stride = 1, padding=1, bias=True),dim=None)\n",
        "\n",
        "        # 3rd conv layer\n",
        "        self.batch_norm_c3 = nn.BatchNorm1d(cha_2)\n",
        "        self.dropout_c3 = nn.Dropout(0.2)\n",
        "        self.conv3 = nn.utils.weight_norm(nn.Conv1d(cha_2,cha_2, kernel_size = 3, stride = 1, padding=1, bias=True),dim=None)\n",
        "\n",
        "        # 4th conv layer\n",
        "        self.batch_norm_c4 = nn.BatchNorm1d(cha_2)\n",
        "        self.dropout_c4 = nn.Dropout(0.2)\n",
        "        self.conv4 = nn.utils.weight_norm(nn.Conv1d(cha_2,cha_3, kernel_size = 5, stride = 1, padding=2, bias=True),dim=None)\n",
        "\n",
        "        self.max_po_c4 = nn.MaxPool1d(kernel_size=4, stride=2, padding=1)\n",
        "\n",
        "        self.flt = nn.Flatten()\n",
        "\n",
        "        self.batch_norm2 = nn.BatchNorm1d(output_size1)\n",
        "        self.dropout2 = nn.Dropout(0.2)\n",
        "        self.dense2 = nn.utils.weight_norm(nn.Linear(output_size1, output_size2, bias=False))\n",
        "\n",
        "        self.batch_norm3 = nn.BatchNorm1d(output_size2)\n",
        "        self.dropout3 = nn.Dropout(0.1)\n",
        "        self.dense3 = nn.utils.weight_norm(nn.Linear(output_size2, output_dim, bias=False))\n",
        "\n",
        "    def forward(self, x):\n",
        "\n",
        "        x = self.batch_norm1(x)\n",
        "        x = self.dropout1(x)\n",
        "        x = F.relu(self.dense1(x))\n",
        "\n",
        "        x = x.reshape(x.shape[0], self.cha_1, self.sign_size1)\n",
        "\n",
        "        x = self.batch_norm_c1(x)\n",
        "        x = self.dropout_c1(x)\n",
        "        x = F.relu(self.conv1(x))\n",
        "\n",
        "        x = self.ave_po_c1(x)\n",
        "\n",
        "        x = self.batch_norm_c2(x)\n",
        "        x = self.dropout_c2(x)\n",
        "        x = F.relu(self.conv2(x))\n",
        "        x_s = x\n",
        "\n",
        "        x = self.batch_norm_c3(x)\n",
        "        x = self.dropout_c3(x)\n",
        "        x = F.relu(self.conv3(x))\n",
        "\n",
        "        x = self.batch_norm_c4(x)\n",
        "        x = self.dropout_c4(x)\n",
        "        x = F.relu(self.conv4(x))\n",
        "        x =  x * x_s\n",
        "\n",
        "        x = self.max_po_c4(x)\n",
        "\n",
        "        x = self.flt(x)\n",
        "\n",
        "        x = self.batch_norm2(x)\n",
        "        x = self.dropout2(x)\n",
        "        x = F.relu(self.dense2(x))\n",
        "\n",
        "        x = self.batch_norm3(x)\n",
        "        x = self.dropout3(x)\n",
        "        x = self.dense3(x)\n",
        "\n",
        "        return x"
      ],
      "execution_count": 13,
      "outputs": []
    },
    {
      "cell_type": "code",
      "metadata": {
        "id": "DMdrOCJLUvFc"
      },
      "source": [
        "class BCELabelSmoothing(nn.Module):\n",
        "    def __init__(self, label_smoothing=0.0):\n",
        "        super(BCELabelSmoothing, self).__init__()\n",
        "        self.label_smoothing = label_smoothing\n",
        "        self.bce_loss = torch.nn.functional.binary_cross_entropy_with_logits\n",
        "        \n",
        "    def forward(self, prediction, target, weight=None):\n",
        "        target_smooth = target*(1.0 - self.label_smoothing) + 0.5*self.label_smoothing\n",
        "        if weight is None:\n",
        "            loss = self.bce_loss(prediction, target_smooth, reduction=\"mean\")\n",
        "        else:\n",
        "            loss = self.bce_loss(prediction, target_smooth, weight, reduction=\"sum\") / torch.sum(weight)\n",
        "        return loss\n",
        "\n",
        "bce_loss = BCELabelSmoothing(label_smoothing=1e-2)"
      ],
      "execution_count": 19,
      "outputs": []
    },
    {
      "cell_type": "markdown",
      "metadata": {
        "id": "6ZIUqLHZCKzo"
      },
      "source": [
        "***\n",
        "### Hyperparameter tuning"
      ]
    },
    {
      "cell_type": "code",
      "metadata": {
        "colab": {
          "base_uri": "https://localhost:8080/"
        },
        "id": "NuU6IXiNB3V5",
        "outputId": "25cbd92c-bd0d-4988-d714-dac2bb987b33"
      },
      "source": [
        "# 80% rows for train & 20% for valid\n",
        "train_idx = train.query(\"date < 430\").index\n",
        "valid_idx = train.query(\"date >= 430\").index\n",
        "\n",
        "train_dset = TensorDataset(torch.tensor(X_dset.loc[train_idx].values, dtype=torch.float), \n",
        "                           torch.tensor(y_dset.loc[train_idx].values, dtype=torch.float),\n",
        "                           torch.tensor(w_dset.loc[train_idx].values, dtype=torch.float),\n",
        "                           torch.tensor(dwr_dset.loc[train_idx].values, dtype=torch.float),\n",
        "                          )\n",
        "\n",
        "valid_dset = TensorDataset(torch.tensor(X_dset.loc[valid_idx].values, dtype=torch.float), \n",
        "                           torch.tensor(y_dset.loc[valid_idx].values, dtype=torch.float),\n",
        "                           torch.tensor(w_dset.loc[valid_idx].values, dtype=torch.float),\n",
        "                           torch.tensor(dwr_dset.loc[valid_idx].values, dtype=torch.float),\n",
        "                          )\n",
        "\n",
        "dataset_sizes = {'train': len(train_dset), 'valid': len(valid_dset)}\n",
        "train_dataloader = DataLoader(train_dset, batch_size=2048, shuffle=True, num_workers=2)\n",
        "valid_dataloader = DataLoader(valid_dset, batch_size=len(valid_dset), shuffle=False, num_workers=2)\n",
        "\n",
        "print(\"Number of step per epoch:\", len(train_dset)//2048)"
      ],
      "execution_count": 20,
      "outputs": [
        {
          "output_type": "stream",
          "text": [
            "Number of step per epoch: 612\n"
          ],
          "name": "stdout"
        }
      ]
    },
    {
      "cell_type": "code",
      "metadata": {
        "id": "178O3aGDCJyH"
      },
      "source": [
        "if os.path.exists(f\"/content/drive/MyDrive/kaggle/janestreet/logs/cnn1d_tuning.csv\"):\n",
        "    logger = open(f\"/content/drive/MyDrive/kaggle/janestreet/logs/cnn1d_tuning.csv\", \"a\")\n",
        "else:\n",
        "    logger = open(f\"/content/drive/MyDrive/kaggle/janestreet/logs/cnn1d_tuning.csv\", \"w\")\n",
        "    logger.write(\"trial;params;loss;metric;loss_hist;metric_hist\\n\")"
      ],
      "execution_count": 21,
      "outputs": []
    },
    {
      "cell_type": "code",
      "metadata": {
        "id": "gHRlUdCRD4k9"
      },
      "source": [
        "def objective(trial):\n",
        "    hidden_size = int(trial.suggest_discrete_uniform(\"hidden_size\", 256, 768, 128))\n",
        "    channels = int(trial.suggest_discrete_uniform(\"channels\", 16, 64, 8))\n",
        "    nn_kwargs = {\n",
        "        \"input_dim\":len(input_features),\n",
        "        \"output_dim\":len(resp_cols),\n",
        "        \"hidden_size\":hidden_size,\n",
        "        \"cha_1\":channels,\n",
        "        \"cha_2\":channels*2,\n",
        "        \"cha_3\":channels*2,\n",
        "    }\n",
        "\n",
        "    # other hyperparams\n",
        "    weight_decay = 10 ** trial.suggest_int(\"weight_decay\", -6, -2)\n",
        "    pct_start = trial.suggest_discrete_uniform(\"pct_start\", 0.1, 0.5, 0.1)\n",
        "\n",
        "    sampled_params = {\n",
        "        \"hidden_size\":hidden_size,\n",
        "        \"channels\":channels,\n",
        "        \"weight_decay\":weight_decay,\n",
        "        \"pct_start\":pct_start,\n",
        "        }\n",
        "    print(\"-\"*80)\n",
        "    print(\"sampled_params:\", sampled_params)\n",
        "\n",
        "    model = CNN1D(**nn_kwargs)\n",
        "    model = model.to(device)\n",
        "    optimizer = torch.optim.SGD(model.parameters(), lr=5e-2, momentum=0.9, weight_decay=weight_decay)\n",
        "\n",
        "    scheduler = torch.optim.lr_scheduler.OneCycleLR(\n",
        "        optimizer, \n",
        "        max_lr=5e-2,\n",
        "        epochs=50,\n",
        "        pct_start=pct_start, \n",
        "        anneal_strategy='cos', \n",
        "        cycle_momentum=True, \n",
        "        base_momentum=0.8, \n",
        "        max_momentum=0.9, \n",
        "        div_factor=1e1,\n",
        "        final_div_factor=1e0,\n",
        "        steps_per_epoch=len(train_dataloader),\n",
        "        verbose=False)\n",
        "    \n",
        "    monitor = Monitor(\n",
        "        model=model,\n",
        "        optimizer=optimizer,\n",
        "        scheduler=scheduler,\n",
        "        patience=10,\n",
        "        metric_fn=utility_score,\n",
        "        experiment_name=f'CNN1D',\n",
        "        num_epochs=50,\n",
        "        dataset_sizes=dataset_sizes,\n",
        "        early_stop_on_metric=False,\n",
        "        lower_is_better=True)\n",
        "    \n",
        "    for epoch in monitor.iter_epochs:\n",
        "        train_step(model, train_dataloader, optimizer, monitor, bce_loss, scheduler=scheduler, clip_value=None)    \n",
        "        early_stop = valid_step(model, valid_dataloader, optimizer, monitor, bce_loss)\n",
        "        if early_stop: break\n",
        "\n",
        "    logger.write(f\"{trial.number};{sampled_params};{monitor.best_loss};{monitor.best_metric};{monitor.valid_loss[-10:]};{monitor.valid_metric[-10:]}\\n\")\n",
        "    logger.flush()\n",
        "\n",
        "    print(f\"best_valid_loss: {monitor.best_loss} - best_valid_metric: {monitor.best_metric}\")\n",
        "    return monitor.best_loss"
      ],
      "execution_count": 22,
      "outputs": []
    },
    {
      "cell_type": "code",
      "metadata": {
        "colab": {
          "base_uri": "https://localhost:8080/",
          "height": 127,
          "referenced_widgets": [
            "22568f59ed5b4401a0827733fc84e946",
            "cf79ff64d9f34dc199f181995f057fe0",
            "214cb8df899048e5912214988da27b7c",
            "6489dfbeab284ffebb1e7ec74a71ea84",
            "3a6a79b27b494415b0b461f6c2adf547",
            "419d0a2094a347999ce697caf1f66f2d",
            "71b69b97c7b245cdb39749c869f9b577",
            "98fb2f20dddb4e83b9d59b3c6b7d31b0"
          ]
        },
        "id": "2rvn1v1eM9_N",
        "outputId": "dd14751f-c591-4144-a714-2866f3878398"
      },
      "source": [
        "study = optuna.create_study(direction='minimize')\n",
        "study.optimize(objective, n_trials=200, timeout=43200, show_progress_bar=False)"
      ],
      "execution_count": null,
      "outputs": [
        {
          "output_type": "stream",
          "text": [
            "\u001b[32m[I 2021-02-16 05:32:13,365]\u001b[0m A new study created in memory with name: no-name-4bced7b5-0303-4665-86cd-d41af9cb172e\u001b[0m\n"
          ],
          "name": "stderr"
        },
        {
          "output_type": "stream",
          "text": [
            "--------------------------------------------------------------------------------\n",
            "sampled_params: {'hidden_size': 768, 'channels': 16, 'weight_decay': 0.01, 'pct_start': 0.1}\n"
          ],
          "name": "stdout"
        },
        {
          "output_type": "display_data",
          "data": {
            "application/vnd.jupyter.widget-view+json": {
              "model_id": "22568f59ed5b4401a0827733fc84e946",
              "version_minor": 0,
              "version_major": 2
            },
            "text/plain": [
              "HBox(children=(FloatProgress(value=0.0, description='CNN1D', max=50.0, style=ProgressStyle(description_width='…"
            ]
          },
          "metadata": {
            "tags": []
          }
        }
      ]
    },
    {
      "cell_type": "markdown",
      "metadata": {
        "id": "6lVKLlPgOIXj"
      },
      "source": [
        "***"
      ]
    }
  ]
}